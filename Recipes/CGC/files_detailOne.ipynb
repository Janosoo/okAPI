{
 "cells": [
  {
   "cell_type": "markdown",
   "metadata": {},
   "source": [
    "# What are the details (metadata) of one of my _files_?\n",
    "### Overview\n",
    "Here we focus on _getting the details_ (or _metadata_) from a single file. As with any **detail**-type call, we will get extensive information about one file but must first know that files's id. \n",
    " \n",
    "### Prerequisites\n",
    " 1. You need to be a member (or owner) of _at least one_ project.\n",
    " 2. You need your _authentication token_ and the API needs to know about it. See <a href=\"Setup_API_environment.ipynb\">**Setup_API_environment.ipynb**</a> for details.\n",
    " 3. You understand how to <a href=\"projects_listAll.ipynb\" target=\"_blank\">list</a> projects you are a member of (we will just use that call directly and pick one here).\n",
    " 4. You understand how to <a href=\"files_listAll.ipynb\" target=\"_blank\">list</a> files within one of your projects (we will just use that call directly here).\n",
    " 5. Your project needs to have at least one file inside\n",
    " \n",
    "## Imports\n",
    "We import the _Api_ class from the official sevenbridges-python bindings below."
   ]
  },
  {
   "cell_type": "code",
   "execution_count": null,
   "metadata": {
    "collapsed": true
   },
   "outputs": [],
   "source": [
    "import sevenbridges as sbg"
   ]
  },
  {
   "cell_type": "markdown",
   "metadata": {},
   "source": [
    "## Initialize the object\n",
    "The _Api_ object needs to know your **auth\\_token** and the correct path. Here we assume you are using the .sbgrc file in your home directory. For other options see <a href=\"Setup_API_environment.ipynb\">Setup_API_environment.ipynb</a>"
   ]
  },
  {
   "cell_type": "code",
   "execution_count": null,
   "metadata": {
    "collapsed": true
   },
   "outputs": [],
   "source": [
    "# User input: specify platform {cgc, sbg}\n",
    "prof = 'cgc'\n",
    "\n",
    "config_config_file = sbg.Config(profile=prof)\n",
    "api = sbg.Api(config=config_config_file)"
   ]
  },
  {
   "cell_type": "markdown",
   "metadata": {},
   "source": [
    "## List my files and detail the first one\n",
    "We start by listing all of your files, then get more information on the first one. A **detail**-call for files returns the following *attributes*:\n",
    "* **created_on** File creation date\n",
    "* **id**     _Unique_ identifier for the file\n",
    "* **name**   Name of the file, note this **is** metadata and can be _changed_\n",
    "* **href**   Address<sup>1</sup> of the file.\n",
    "* **modified_on** File modification date\n",
    "* **metadata** Dictionary of metadata\n",
    "* **origin**  Will link back to a *task* if this is an output file \n",
    "* **project** Project the file is in\n",
    "* **size** file size in bytes\n",
    "\n",
    "The **metadata** dictionary contains all metadata properties. Note there are **SUBSTANTIAL DIFFERENCES** here between _TCGA_ and _uploaded_ files. For TCGA files, metadata is **immutable** and the list is:\n",
    "* vital_status\n",
    "* reference_genome\n",
    "* aliquot_id\n",
    "* age_at_diagnosis\n",
    "* sample_id\n",
    "* days_to_death\n",
    "* ethnicity\n",
    "* sample_uuid\n",
    "* sample_type\n",
    "* platform\n",
    "* data_subtype\n",
    "* experimental_strategy\n",
    "* case_uuid\n",
    "* data_type\n",
    "* case_id\n",
    "* investigation\n",
    "* aliquot_uuid\n",
    "* disease_type\n",
    "* gender\n",
    "* data_format\n",
    "* race\n",
    "* primary_site\n",
    "\n",
    "In contrast the metadata is **mutable** for user uploaded files.\n",
    "\n",
    "<sup>1</sup> This is the address where, by using API you can get this resource"
   ]
  },
  {
   "cell_type": "code",
   "execution_count": null,
   "metadata": {
    "collapsed": false
   },
   "outputs": [],
   "source": [
    "# [USER INPUT] Set project name and file (f_) indices here:\n",
    "project_name = 'Life is Beautiful'                          \n",
    "f_index = 0\n",
    "\n",
    "\n",
    "# LIST all projects and check for name match\n",
    "my_project = [p for p in api.projects.query(limit=100).all() \\\n",
    "              if p.name == project_name]   \n",
    "\n",
    "if not my_project:    # exploit fact that empty list is False, {list, tuple, etc} is True\n",
    "    print('The project (%s) does not exist, please check spelling (especially trailing spaces)' \\\n",
    "          % project_name)\n",
    "    raise KeyboardInterrupt\n",
    "else:\n",
    "    # list the files in the target project\n",
    "    my_files = [f for f in api.files.query(my_project[0].id).all()]\n",
    "    # get details of the first file inside the project\n",
    "    single_file = api.files.get(id = my_files[f_index].id)\n",
    "    print('You have selected file %s (size %s [bytes]). \\n' % (single_file.name, single_file.size))\n",
    "\n",
    "    # TODO: work on this for SBPLAT compatibility\n",
    "    if hasattr(single_file, 'metadata') and single_file.metadata is not None:\n",
    "        if ('age_at_diagnosis' in single_file.metadata.keys()) \\\n",
    "        and ('experimental_strategy' in single_file.metadata.keys()):\n",
    "            print(('Subject was %i years old at diagnosis; alliquot was processed with %s' % \\\n",
    "                   (single_file.metadata['age_at_diagnosis'], \\\n",
    "                    single_file.metadata['experimental_strategy'] ))) "
   ]
  },
  {
   "cell_type": "markdown",
   "metadata": {},
   "source": [
    "## Additional Information\n",
    "Detailed documentation of this particular REST architectural style request is available [here](http://docs.cancergenomicscloud.org/docs/get-file-details)"
   ]
  }
 ],
 "metadata": {
  "kernelspec": {
   "display_name": "Python 2",
   "language": "python",
   "name": "python2"
  },
  "language_info": {
   "codemirror_mode": {
    "name": "ipython",
    "version": 2
   },
   "file_extension": ".py",
   "mimetype": "text/x-python",
   "name": "python",
   "nbconvert_exporter": "python",
   "pygments_lexer": "ipython2",
   "version": "2.7.12"
  }
 },
 "nbformat": 4,
 "nbformat_minor": 0
}
