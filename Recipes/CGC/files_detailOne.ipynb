{
 "cells": [
  {
   "cell_type": "markdown",
   "metadata": {},
   "source": [
    "# What are the details (metadata) of one of my _files_?\n",
    "### Overview\n",
    "Here we focus on _getting the details_ (or _metadata_) from a single file. As with any **detail**-type call, we will get extensive information about one file but must first know that files's id. We will show two options (A & B) of getting the same information.\n",
    "\n",
    "### Prerequisites\n",
    " 1. You need to be a member (or owner) of _at least one_ project.\n",
    " 2. You need your _authentication token_ and the API needs to know about it. See <a href=\"set_AUTH_TOKEN.ipynb\">**set_AUTH_TOKEN.ipynb**</a> for details.\n",
    " 3. You understand how to <a href=\"projects_listAll.ipynb\" target=\"_blank\">list</a> projects you are a member of (we will just use that call directly here).\n",
    " 4. You understand how to <a href=\"files_listAll.ipynb\" target=\"_blank\">list</a> files within one of your projects (we will just use that call directly here).\n",
    " 5. You have added at least one TCGA file into your project (protected or open access)\n",
    " \n",
    "### Imports and Definitions\n",
    " A single call is sufficient. We will show two different options, both of which are defined in the apimethods.py file."
   ]
  },
  {
   "cell_type": "code",
   "execution_count": null,
   "metadata": {
    "collapsed": true
   },
   "outputs": [],
   "source": [
    "from defs.apimethods import *"
   ]
  },
  {
   "cell_type": "markdown",
   "metadata": {},
   "source": [
    "## (Option A) Use API() _object_\n",
    "We start by listing all of your files, then get more information on the first one. A **detail**-call for files returns the following *attributes*:\n",
    "* **created_on** File creation date\n",
    "* **id**     _Unique_ identifier for the file\n",
    "* **name**   Name of the file, note this **is** metadata and can be _changed_\n",
    "* **href**   Address<sup>1</sup> of the file.\n",
    "* **modified_on** File modification date\n",
    "* **metadata** Dictionary of metadata\n",
    "* **origin**  Will link back to a *task* if this is an output file \n",
    "* **project** Project the file is in\n",
    "* **size** file size in bytes\n",
    "* **flag**   (unimportant) this is set by the object constructor, here always 'longList':False \n",
    "\n",
    "The **metadata** dictionary is changeable in user uploaded files. For TCGA files, this is **immutable** and the list is:\n",
    "* vital_status\n",
    "* reference_genome\n",
    "* aliquot_id\n",
    "* age_at_diagnosis\n",
    "* sample_id\n",
    "* days_to_death\n",
    "* ethnicity\n",
    "* sample_uuid\n",
    "* sample_type\n",
    "* platform\n",
    "* data_subtype\n",
    "* experimental_strategy\n",
    "* case_uuid\n",
    "* data_type\n",
    "* case_id\n",
    "* investigation\n",
    "* aliquot_uuid\n",
    "* disease_type\n",
    "* gender\n",
    "* data_format\n",
    "* race\n",
    "* primary_site\n",
    "\n",
    "<sup>1</sup> This is the address where, by using API you can get this resource"
   ]
  },
  {
   "cell_type": "code",
   "execution_count": null,
   "metadata": {
    "collapsed": false
   },
   "outputs": [],
   "source": [
    "# [USER INPUT] Set project (p_) and file (f_) indices here:\n",
    "p_index = 2\n",
    "f_index = 0\n",
    "\n",
    "existing_projects = API('projects')                              # LIST all projects\n",
    "\n",
    "# list the files in the first project\n",
    "my_files = API(path='files', query={'project': existing_projects.id[p_index]})\n",
    "\n",
    "# get details of the first file inside the project\n",
    "single_file = API(path=('files/' + my_files.id[f_index]))\n",
    "\n",
    "print('You have selected file %s (size %s [bytes]). \\n' % (single_file.name, single_file.size))\n",
    "\n",
    "if hasattr(single_file, 'metadata'):\n",
    "    if ('age_at_diagnosis' in single_file.metadata.keys()) \\\n",
    "    and ('experimental_strategy' in single_file.metadata.keys()):\n",
    "        print(('Subject was %i years old at diagnosis; alliquot was processed with %s' % \\\n",
    "               (single_file.metadata['age_at_diagnosis'], \\\n",
    "                single_file.metadata['experimental_strategy'] ))) "
   ]
  },
  {
   "cell_type": "markdown",
   "metadata": {},
   "source": [
    "## (Option B) Use api_call() *function*\n",
    "Using the api_call() function returns the same information as above, but now as *keys* within a dictionary for each project. To start, we list the first 25 projects you are a member of. Then, we query the _file list_ for the first project.\n",
    "\n",
    "<sup>2</sup> Note that each entry in the 'items' list has the complete information for a single member, unlike the object above which organizes and concantenates all the dictionaries."
   ]
  },
  {
   "cell_type": "code",
   "execution_count": null,
   "metadata": {
    "collapsed": false
   },
   "outputs": [],
   "source": [
    "# [USER INPUT] Set project (p_) and file (f_) indices here:\n",
    "p_index = 2\n",
    "f_index = 0\n",
    "\n",
    "# LIST some (n=25) projects\n",
    "existing_projects = api_call(path='projects', method='GET', \\\n",
    "                            query={'limit':25, 'offset':0}, data=None)\n",
    "\n",
    "# LIST some (n=26) files in the project\n",
    "my_files = api_call(path='files',\\\n",
    "                   query={'limit':26, 'project': existing_projects['items'][p_index]['id']})\n",
    "\n",
    "# get (and print) details of a file inside that project\n",
    "api_call(path=('files/' + my_files['items'][f_index]['id']))"
   ]
  },
  {
   "cell_type": "markdown",
   "metadata": {},
   "source": [
    "## Additional Information\n",
    "Detailed documentation of this particular REST architectural style request is available [here](http://docs.cancergenomicscloud.org/docs/get-file-details)"
   ]
  }
 ],
 "metadata": {
  "kernelspec": {
   "display_name": "Python 2",
   "language": "python",
   "name": "python2"
  },
  "language_info": {
   "codemirror_mode": {
    "name": "ipython",
    "version": 2
   },
   "file_extension": ".py",
   "mimetype": "text/x-python",
   "name": "python",
   "nbconvert_exporter": "python",
   "pygments_lexer": "ipython2",
   "version": "2.7.11"
  }
 },
 "nbformat": 4,
 "nbformat_minor": 0
}
