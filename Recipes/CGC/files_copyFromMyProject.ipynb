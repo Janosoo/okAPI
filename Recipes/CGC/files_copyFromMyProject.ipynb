{
 "cells": [
  {
   "cell_type": "markdown",
   "metadata": {},
   "source": [
    "# How do I _copy_ a file from another on of _my projects_?\n",
    "### Overview\n",
    "Files can be copied from one of two sources:\n",
    "1. other projects you are a member of\n",
    "2. public reference.  \n",
    "\n",
    "Here we focus on copying a file from _your own project_. We will show two options (A & B) of achieving the same goal. \n",
    "\n",
    "### Prerequisites\n",
    " 1. You need to be a member (or owner) of _at least **two**_ projects.\n",
    " 2. You need your _authentication token_ and the API needs to know about it. See <a href=\"set_AUTH_TOKEN.ipynb\">**set_AUTH_TOKEN.ipynb**</a> for details.\n",
    " 3. You understand how to <a href=\"projects_listAll.ipynb\" target=\"_blank\">list</a> projects you are a member of (we will just use that call directly and pick one here).\n",
    " 4. You understand how to <a href=\"files_listAll.ipynb\" target=\"_blank\">list</a> files within one of your projects (we will just use that call directly here).\n",
    " \n",
    "### Imports and Definitions\n",
    "A single call is sufficient to get a file list. We will show two different options, both of which are defined in the apimethods.py file. Here there is **no advantage** in using the object to POST the call.\n",
    " \n",
    "### Warning\n",
    "You are only permitted to copy a TCGA-protected file to a _target project_ if that project also has TCGA-protected permissions."
   ]
  },
  {
   "cell_type": "code",
   "execution_count": null,
   "metadata": {
    "collapsed": true
   },
   "outputs": [],
   "source": [
    "from defs.apimethods import *"
   ]
  },
  {
   "cell_type": "markdown",
   "metadata": {},
   "source": [
    "## (Option A) Use API() _object_\n",
    "We will first list all our projects, then list the files within the first project, and copy a file between the first and second project.\n",
    "\n",
    "The critical information for this POST is the **file_id**. Note, you are allow to copy the same file as many times as you like. However, duplicates will be automatically have a prefix attached of (\\_1\\_, \\_2\\_, etc) depending on how many times you copy the file.\n",
    "\n",
    "To make these results very obvious, use an empty project as your TARGET\\_PROJECT (e.g. your <a href=projects_makeNew.ipynb> cookbook example project</a>) or change the _name_ in the _data_ dictionary to something like 'Dept of Awesome.copy'"
   ]
  },
  {
   "cell_type": "code",
   "execution_count": null,
   "metadata": {
    "collapsed": false
   },
   "outputs": [],
   "source": [
    "# [USER INPUT] Set project name; project (p_) and file (f_) indices here:\n",
    "f_index = 0                               # file to copy\n",
    "p_index_source = 1                        # source project\n",
    "p_index_target = 0                        # target project\n",
    "\n",
    "# LIST all projects\n",
    "existing_projects = API('projects')         \n",
    "\n",
    "# LIST all files in the source and target project\n",
    "my_files_source = API(path='files', \\\n",
    "                      query={'project':existing_projects.id[p_index_source], \\\n",
    "                            'limit':100})\n",
    "my_files_target = API(path='files', \\\n",
    "                      query={'project': existing_projects.id[p_index_target]})\n",
    "\n",
    "# Check if first file already exists in the target project\n",
    "if my_files_source.name[f_index] in my_files_target.name:\n",
    "    print('file already exists in second project, please try another file')\n",
    "else:\n",
    "    print('File (%s) does not exist in Project (%s); copying now' % \\\n",
    "          (my_files_source.name[f_index], existing_projects.id[p_index_target]))\n",
    "    \n",
    "    # COPY the selected file from source to target project\n",
    "    API(path=('files/' + my_files_source.id[f_index] + '/actions/copy'), \\\n",
    "        method='POST', \\\n",
    "        data={'project': existing_projects.id[p_index_target],\\\n",
    "              'name': my_files_source.name[f_index]}) \n",
    "\n",
    "    # re-list files in target project to verify the copy worked\n",
    "    my_files_target = API(path='files', \\\n",
    "                          query={'project': existing_projects.id[p_index_target]})\n",
    "    \n",
    "    if my_files_source.name[f_index] in my_files_target.name:\n",
    "        print('Sucessfully copied one file!')\n",
    "    else:\n",
    "        print('Something went wrong...')"
   ]
  },
  {
   "cell_type": "markdown",
   "metadata": {},
   "source": [
    "## (Option B) Use api_call() *function*\n",
    "Using the api_call() to do the same thing as above, except that here we do not check for the file already existing in the second project.\n",
    "\n",
    "**Note** by using api_call() without assigning it to a variable, we print the response dictionary from the call. "
   ]
  },
  {
   "cell_type": "code",
   "execution_count": null,
   "metadata": {
    "collapsed": false
   },
   "outputs": [],
   "source": [
    "# [USER INPUT] Set project name; project (p_) and file (f_) indices here:\n",
    "f_index = 0                               # file to copy\n",
    "p_index_source = 1                        # source project\n",
    "p_index_target = 0                        # target project\n",
    "\n",
    "# Short (n=25) list of projects I am a member of\n",
    "existing_projects = api_call(path='projects', method='GET', \\\n",
    "                            query={'limit':25, 'offset':0}, data=None)      \n",
    "\n",
    "# LIST (up to) 100 files in source and target project\n",
    "my_files_source = api_call(path='files', \\\n",
    "                           query={'limit':100, \\\n",
    "                                  'project': existing_projects['items'][p_index_source]['id']})\n",
    "my_files_target = api_call(path='files', \\\n",
    "                           query={'limit':100, \\\n",
    "                                  'project': existing_projects['items'][p_index_target]['id']})\n",
    "\n",
    "# COPY the selected file from source to target project\n",
    "api_call(path=('files/' + my_files_source['items'][f_index]['id'] + '/actions/copy'), \\\n",
    "    method='POST', \\\n",
    "    data={'project': existing_projects['items'][p_index_target]['id'],\\\n",
    "          'name': 'Dept of Awesome.copy'}) "
   ]
  },
  {
   "cell_type": "markdown",
   "metadata": {},
   "source": [
    "## Additional Information\n",
    "Detailed documentation of this particular REST architectural style request is available [here](http://docs.cancergenomicscloud.org/docs/copy-a-file)"
   ]
  }
 ],
 "metadata": {
  "kernelspec": {
   "display_name": "Python 2",
   "language": "python",
   "name": "python2"
  },
  "language_info": {
   "codemirror_mode": {
    "name": "ipython",
    "version": 2
   },
   "file_extension": ".py",
   "mimetype": "text/x-python",
   "name": "python",
   "nbconvert_exporter": "python",
   "pygments_lexer": "ipython2",
   "version": "2.7.11"
  }
 },
 "nbformat": 4,
 "nbformat_minor": 0
}
