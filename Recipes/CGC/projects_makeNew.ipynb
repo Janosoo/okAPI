{
 "cells": [
  {
   "cell_type": "markdown",
   "metadata": {},
   "source": [
    "# How do I make a new _project_?\n",
    "### Overview\n",
    "There are a number of API calls related to projects. Here we focus on _creating a **new**_ project.  We will show two options (A & B) of doing the same thing. Along the way, we will also show how to [list billing groups](http://docs.cancergenomicscloud.org/docs/list-your-billing-groups).\n",
    "\n",
    "### Prerequisites\n",
    " 1. You need your _authentication token_ and the API needs to know about it. See <a href=\"set_AUTH_TOKEN.ipynb\">**set_AUTH_TOKEN.ipynb**</a> for details.\n",
    " 2. You understand how to <a href=\"projects_listAll.ipynb\" target=\"_blank\">list</a> projects you are a member of (we will just use that call directly here to prevent remaking the same project twice).\n",
    " \n",
    "### Imports and Definitions\n",
    "A single call is sufficient post a NewProject JSON and create a project. We will show two different options, both of which are defined in the apimethods.py file."
   ]
  },
  {
   "cell_type": "code",
   "execution_count": null,
   "metadata": {
    "collapsed": true
   },
   "outputs": [],
   "source": [
    "from defs.apimethods import *"
   ]
  },
  {
   "cell_type": "markdown",
   "metadata": {},
   "source": [
    "## (Option A) Use API() _object_\n",
    "We start by listing all of your projects and your billing groups. Next we create the JSON that will be passed to the API to create the project. The dictionary should include:\n",
    "* **billing_group** *Billing group* that will be charged for this project\n",
    "* **description**   (optional) Project description\n",
    "* **name**   Name of the project, may be *non-unique*<sup>1</sup>\n",
    "* **tags**   List of tags, set tags[0] = 'tcga' if you will use *protected data*\n",
    "\n",
    "**After** creating the project, you can re-check the project list and get *additional* details assigned by the CGC, including:\n",
    "\n",
    "* **id**     _Unique_ identifier for the project, generated based on Project Name\n",
    "* **href**   Address<sup>2</sup> of the project.\n",
    "* **type**   (unimportant) this is always equal to 'v2'\n",
    "* **flag**   (unimportant) this is set by the object constructor, here always 'longList':False \n",
    "\n",
    "<sup>1</sup> Please **don't** use non-unique *project names*. However, if you insist, the backend will allow it and assign a unique **id** to you project.\n",
    "\n",
    "<sup>2</sup> This is the address where, by using API you can get this resource"
   ]
  },
  {
   "cell_type": "code",
   "execution_count": null,
   "metadata": {
    "collapsed": false
   },
   "outputs": [],
   "source": [
    "# [USER INPUT] Set project name here:\n",
    "new_project_name = 'Life is Beautiful'\n",
    "\n",
    "# LIST all projects\n",
    "existing_projects = API('projects')                            \n",
    "        \n",
    "# What are my funding sources?\n",
    "billing_groups = API('billing/groups')\n",
    "# Pick the first group (arbitrary)\n",
    "print((billing_groups.name[0] + \\\n",
    "       ' will be charged for computation and storage (if applicable) for your new project'))\n",
    "\n",
    "# Set up the information for your new project\n",
    "new_project = {\n",
    "        'billing_group': billing_groups.id[0],\n",
    "        'description': 'A project created by the API Cookbook.',\n",
    "        'name': new_project_name, \n",
    "        'tags': ['tcga']\n",
    "}\n",
    "    \n",
    "if new_project['name'] in existing_projects.name:\n",
    "    # Your project (might) already exist\n",
    "    print('A project with the same name already exists, please choose a unique name')\n",
    "else:\n",
    "    # CREATE the new project\n",
    "    my_project = API(method='POST', data=new_project, path='projects')\n",
    "    # (re)list all projects, to check that new project posted\n",
    "    existing_projects = API(path='projects')\n",
    "    # get ADDITONAL new project details \n",
    "    my_project = API(path=('projects/' + existing_projects.id[0])) \n",
    "    \n",
    "    print('Your new project %s has been created.' % (my_project.name))\n",
    "    if hasattr(my_project, 'description'): # need to check if description has been entered\n",
    "        print('Project description: %s \\n' % (my_project.description))\n",
    "        \n",
    "    if my_project.tags[0] == 'tcga':\n",
    "        print('This is a PROTECTED data project.')\n",
    "    else:\n",
    "        print('This is an OPEN data project.')  "
   ]
  },
  {
   "cell_type": "markdown",
   "metadata": {},
   "source": [
    "## (Option B) Use api_call() *function*\n",
    "As above, we start by listing all your billing groups (but we don't check for existing projects<sup>3</sup>). Next we create the JSON that will be passed to the API to create the project. \n",
    "\n",
    "<sup>3</sup> Here we are **not** checking for existing projects with the same name, you can run this a few times to see how the API handles such requests."
   ]
  },
  {
   "cell_type": "code",
   "execution_count": null,
   "metadata": {
    "collapsed": false
   },
   "outputs": [],
   "source": [
    "# [USER INPUT] Set project name here:\n",
    "new_project_name = 'Keep on Smiling'\n",
    "\n",
    "# what are my funding sources?\n",
    "billing_groups = api_call(path='billing/groups')\n",
    "# pick the first group (arbitrary)\n",
    "print((billing_groups['items'][0]['name'] + \\\n",
    "       ' will be charged for computation and storage (if applicable) for your new project'))\n",
    "\n",
    "# set up the information for your new project\n",
    "new_project = {\n",
    "        'billing_group': billing_groups['items'][0]['id'],\n",
    "        'description': 'A project created by the API Cookbook.',\n",
    "        'name': new_project_name,\n",
    "        'tags': ['tcga']\n",
    "}\n",
    "\n",
    "# CREATE the new project\n",
    "my_project = api_call(method='POST', data=new_project, path='projects')\n",
    "# List most recent 100 projects, to check that new project posted\n",
    "existing_projects = api_call(path='projects', method='GET', \\\n",
    "                            query={'limit':100, 'offset':0}, data=None)\n",
    "# get ADDITONAL new project details \n",
    "my_project = api_call(method='GET', \\\n",
    "                     path=('projects/' + existing_projects['items'][0]['id']))\n",
    "\n",
    "print(my_project)"
   ]
  },
  {
   "cell_type": "markdown",
   "metadata": {},
   "source": [
    "## Additional Information\n",
    "Detailed documentation of this particular REST architectural style request is available [here](http://docs.cancergenomicscloud.org/docs/create-a-new-project)"
   ]
  }
 ],
 "metadata": {
  "kernelspec": {
   "display_name": "Python 2",
   "language": "python",
   "name": "python2"
  },
  "language_info": {
   "codemirror_mode": {
    "name": "ipython",
    "version": 2
   },
   "file_extension": ".py",
   "mimetype": "text/x-python",
   "name": "python",
   "nbconvert_exporter": "python",
   "pygments_lexer": "ipython2",
   "version": "2.7.11"
  }
 },
 "nbformat": 4,
 "nbformat_minor": 0
}
