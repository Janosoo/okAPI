{
 "cells": [
  {
   "cell_type": "markdown",
   "metadata": {},
   "source": [
    "# How do I copy files to a folder within a project\n",
    "\n",
    "## Overview\n",
    "Files within a project can be placed within a project using an advanced access feature in the API (folders):\n",
    "\n",
    "Here we focus on creating a folder and moving a file from your project into that folder.\n",
    "\n",
    "## Warning\n",
    "This is a SBG Advanced Access Feature and is in beta.\n",
    "## Imports\n",
    "We import the Api class from the official sevenbridges-python bindings below..\n",
    "## Initialize the object\n",
    "The Api object needs to know your auth_token and the correct path. Here we assume you are using the .sbgrc file in your home directory. For other options see Setup_API_environment.ipynb"
   ]
  },
  {
   "cell_type": "code",
   "execution_count": null,
   "metadata": {
    "collapsed": false
   },
   "outputs": [],
   "source": [
    "import sevenbridges as sbg\n",
    "\n",
    "#Authentication\n",
    "config_config_file = sbg.Config(profile='cgc')\n",
    "api = sbg.Api(config=config_config_file)\n",
    "print(api.users.me())"
   ]
  },
  {
   "cell_type": "markdown",
   "metadata": {},
   "source": [
    "## Create a new project\n",
    "\n",
    "We start by listing all of your projects and your billing groups. \n",
    "\n",
    "Next we create the JSON that will be passed to the API to create the project. The dictionary should include:\n",
    "* billing_group Billing group that will be charged for this project\n",
    "* description (optional) Project description\n",
    "* name Name of the project, may be non-unique\n",
    "* tags List of tags, set tags[0] = 'tcga' if you will use protected data\n",
    "\n",
    "After creating the project, you can re-check the project list and get additional details assigned by the CGC, including:\n",
    "* id Unique identifier for the project, generated based on Project Name\n",
    "* href Address of the project.\n",
    "* type (unimportant) this is always equal to 'v2'\n"
   ]
  },
  {
   "cell_type": "code",
   "execution_count": null,
   "metadata": {
    "collapsed": false
   },
   "outputs": [],
   "source": [
    "# [USER INPUT] Set project name here:\n",
    "new_project_name = 'Fold-away'                          \n",
    "      \n",
    "    \n",
    "# What are my funding sources?\n",
    "billing_groups = api.billing_groups.query()  \n",
    "\n",
    "# Pick the first group (arbitrary)\n",
    "print((billing_groups[0].name + \\\n",
    "       ' will be charged for computation and storage (if applicable) for your new project'))\n",
    "\n",
    "# Set up the information for your new project\n",
    "new_project = {\n",
    "        'billing_group': billing_groups[0].id,\n",
    "        'description': \"\"\"A project created by the API recipe (projects_makeNew.ipynb).\n",
    "                      This also supports **markdown**\n",
    "                      _Pretty cool_, right?\n",
    "                   \"\"\",\n",
    "        'name': new_project_name\n",
    "}\n",
    "\n",
    "# check if this project already exists. LIST all projects and check for name match\n",
    "my_project = [p for p in api.projects.query(limit=100).all() \\\n",
    "              if p.name == new_project_name]      \n",
    "              \n",
    "if my_project:    # exploit fact that empty list is False, {list, tuple, etc} is True\n",
    "    print('A project with the name (%s) already exists, please choose a unique name' \\\n",
    "          % new_project_name)\n",
    "    raise KeyboardInterrupt\n",
    "else:\n",
    "    # CREATE the new project\n",
    "    my_project = api.projects.create(name = new_project['name'], \\\n",
    "                                     billing_group = new_project['billing_group'], \\\n",
    "                                     description = new_project['description'])\n",
    "    \n",
    "    # (re)list all projects, and get your new project\n",
    "    my_project = [p for p in api.projects.query(limit=100).all() \\\n",
    "              if p.name == new_project_name][0]"
   ]
  },
  {
   "cell_type": "markdown",
   "metadata": {},
   "source": [
    "# Copy a file from the Public Reference\n",
    "We will first find our _source_project_ (the Public Reference Files), then list the files within the source project1, and copy a file from _source_project_ -> _my_project_.\n",
    "The critical information for this POST is the file_id. Note, you are allow to copy the same file as many times as you like. However, duplicates will be automatically have a prefix attached of (_1_, _2_, etc) depending on how many times you copy the file.\n"
   ]
  },
  {
   "cell_type": "code",
   "execution_count": null,
   "metadata": {
    "collapsed": false
   },
   "outputs": [],
   "source": [
    "file_names = [\"G20479.HCC1143.2.converted.pe_1_1Mreads.fastq\", \\\n",
    "  \"G20479.HCC1143.2.converted.pe_2_1Mreads.fastq\"]\n",
    "#Copying from public reference files\n",
    "source_project_id = 'admin/sbg-public-data'  \n",
    "source_files = list(api.files.query(limit = 100, project = source_project_id).all())\n",
    "reqd_input_files = [currFile for currFile in source_files if currFile.name in file_names]\n",
    "for currFile in reqd_input_files:\n",
    "    my_new_file = currFile.copy(project = my_project.id, name = currFile.name)\n",
    "    print(my_new_file.name + \"\\t\" + my_new_file.id)\n",
    "    if \"fastq\" in my_new_file.name:\n",
    "        my_new_file.tags = [\"Reads\", \"Demo\"]\n",
    "        my_new_file.save()"
   ]
  },
  {
   "cell_type": "markdown",
   "metadata": {},
   "source": [
    "# Function to send an API call and receive its results\n",
    "\n",
    "Below, we define a simple function to send and receive JSONs from the API using the correctly formatted HTTP calls. The necessary imports are handled above. In addition, we initialize the authentication token."
   ]
  },
  {
   "cell_type": "code",
   "execution_count": null,
   "metadata": {
    "collapsed": true
   },
   "outputs": [],
   "source": [
    "auth_token = 'Replace with your Authentication token'"
   ]
  },
  {
   "cell_type": "code",
   "execution_count": null,
   "metadata": {
    "collapsed": true
   },
   "outputs": [],
   "source": [
    "import json\n",
    "from requests import request\n",
    "\n",
    "def api_call(path, method='GET', query=None, data=None, token=None):\n",
    "     \n",
    "    base_url = 'https://cgc-api.sbgenomics.com/v2/'\n",
    "     \n",
    "    data = json.dumps(data) if isinstance(data, dict) \\\n",
    "    or isinstance(data,list) else None\n",
    "               \n",
    "    headers = {\n",
    "        'X-SBG-Auth-Token': token,\n",
    "        'Accept': 'application/json',\n",
    "        'Content-type': 'application/json',\n",
    "        'X-SBG-advance-access': 'advance'\n",
    "    }\n",
    "    \n",
    "    response = request(method, base_url + path, params=query, \\\n",
    "                       data=data, headers=headers)\n",
    "    try:\n",
    "        response_dict = response.json()\n",
    "    except:\n",
    "        response_dict = {}\n",
    "    if int(response.status_code / 100) != 2:\n",
    "        raise Exception('Server responded with status code %s.' % response.status_code)\n",
    "    return response_dict"
   ]
  },
  {
   "cell_type": "markdown",
   "metadata": {},
   "source": [
    "# Create a folder\n",
    "\n",
    "We need to create the JSON object with the information:\n",
    "* name: name of the folder, required\n",
    "* type: folder to indicate that a folder is being created, required\n",
    "* project: project in which the folder is being created.\n",
    "* parent: parent is required if a folder is created within another folder. Then parent should be the id of the folder under which the new folder is to be created.\n",
    "\n",
    "Either one of Project or Parent needs to be created.\n",
    "\n",
    "The API returns the following information:\n",
    "* href: Address of the fiolder.\n",
    "* id: id of the folder.\n",
    "* modified_on: Date on which the folder was modified last (upto seconds).\n",
    "* created_on: Date on which the folder was created (upto seconds).\n",
    "* type: folder or file \n",
    "* name: name of the folder\n",
    "* parent: project specific ID\n",
    "* project: project ID.\n"
   ]
  },
  {
   "cell_type": "code",
   "execution_count": null,
   "metadata": {
    "collapsed": false
   },
   "outputs": [],
   "source": [
    "new_folder_body = {\n",
    "  \"name\": \"reads\", \n",
    "  \"project\": my_project.id,\n",
    "  \"type\": \"FOLDER\"\n",
    "}\n",
    "print(new_folder_body)"
   ]
  },
  {
   "cell_type": "code",
   "execution_count": null,
   "metadata": {
    "collapsed": false
   },
   "outputs": [],
   "source": [
    "new_folder = api_call(path='files', method='POST', data=new_folder_body, token=auth_token)\n",
    "print(new_folder)"
   ]
  },
  {
   "cell_type": "markdown",
   "metadata": {},
   "source": [
    "# Lisiting files and folder within the project\n",
    "\n",
    "Getting a list of the files and folder within the project requires advanced access in the API. So, we cannot use the python bindings for this API call."
   ]
  },
  {
   "cell_type": "code",
   "execution_count": null,
   "metadata": {
    "collapsed": false
   },
   "outputs": [],
   "source": [
    "my_files = api_call(path=\"files?project=\" + my_project.id, method=\"GET\", token=auth_token)\n",
    "print([curr_file.name for curr_file in my_files])"
   ]
  },
  {
   "cell_type": "markdown",
   "metadata": {},
   "source": [
    "# Moving the files to the folder\n",
    "Get the file objects that need to be moved to the folder and then move the files to the folder"
   ]
  },
  {
   "cell_type": "code",
   "execution_count": null,
   "metadata": {
    "collapsed": false
   },
   "outputs": [],
   "source": [
    "my_files = api.files.query(project=my_project.id, names=[\"G20479.HCC1143.2.converted.pe_1_1Mreads.fastq\", \"G20479.HCC1143.2.converted.pe_2_1Mreads.fastq\"])"
   ]
  },
  {
   "cell_type": "code",
   "execution_count": null,
   "metadata": {
    "collapsed": false
   },
   "outputs": [],
   "source": [
    "\n",
    "for curr_file in my_files:\n",
    "    folder_body = {\n",
    "      \"parent\": new_folder[\"id\"], \n",
    "      \"name\": curr_file.name\n",
    "    }\n",
    "    api_call(path='files/' + curr_file.id + \"/actions/move\", method='POST', data=folder_body, token=auth_token)"
   ]
  },
  {
   "cell_type": "code",
   "execution_count": null,
   "metadata": {
    "collapsed": false
   },
   "outputs": [],
   "source": [
    "my_files = api_call(path=\"files/\" + new_folder[\"id\"] + \"/list\", method=\"GET\", token=auth_token)\n",
    "print(my_files)"
   ]
  }
 ],
 "metadata": {
  "kernelspec": {
   "display_name": "Python 3",
   "language": "python",
   "name": "python3"
  },
  "language_info": {
   "codemirror_mode": {
    "name": "ipython",
    "version": 3
   },
   "file_extension": ".py",
   "mimetype": "text/x-python",
   "name": "python",
   "nbconvert_exporter": "python",
   "pygments_lexer": "ipython3",
   "version": "3.5.2"
  }
 },
 "nbformat": 4,
 "nbformat_minor": 2
}
