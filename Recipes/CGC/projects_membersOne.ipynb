{
 "cells": [
  {
   "cell_type": "markdown",
   "metadata": {},
   "source": [
    "# Who are the members of one of my _projects_?\n",
    "### Overview\n",
    "There are a number of API calls related to projects. Here we focus on _getting the members_ of a single project.  We will show two options (A & B) of getting the same information.\n",
    "\n",
    "### Prerequisites\n",
    " 1. You need to be a member (or owner) of _at least one_ project.\n",
    " 2. You need your _authentication token_ and the API needs to know about it. See <a href=\"set_AUTH_TOKEN.ipynb\">**set_AUTH_TOKEN.ipynb**</a> for details.\n",
    " 3. You understand how to <a href=\"projects_listAll.ipynb\" target=\"_blank\">list</a> projects you are a member of (we will just use that call directly here).\n",
    " \n",
    "### Imports and Definitions\n",
    " A single function is sufficient to get project members. We will show two different options, both of which are defined in the apimethods.py file."
   ]
  },
  {
   "cell_type": "code",
   "execution_count": null,
   "metadata": {
    "collapsed": true
   },
   "outputs": [],
   "source": [
    "from defs.apimethods import *"
   ]
  },
  {
   "cell_type": "markdown",
   "metadata": {},
   "source": [
    "## (Option A) Use API() _object_\n",
    "We start by listing all of your projects, then get more information on the first one. A **member**-call for a single project returns the following *attributes*:\n",
    "* **username** Users within the project\n",
    "* **permissions**   Permissions (boolean) for each username\n",
    " * write\n",
    " * read\n",
    " * execute\n",
    " * copy\n",
    " * admin\n",
    "* **href**   Address<sup>1</sup> of members (includes the project address).\n",
    "* **flag**   (unimportant) this is set by the object constructor, should be 'longList':False unless you have more than 25 members \n",
    "\n",
    "<sup>1</sup> This is the address where, by using API you can get this resource."
   ]
  },
  {
   "cell_type": "code",
   "execution_count": null,
   "metadata": {
    "collapsed": false
   },
   "outputs": [],
   "source": [
    "existing_projects = API('projects')                            # LIST all projects\n",
    "project_members = API(('projects/'+ existing_projects.id[0] + '/members'))\n",
    "\n",
    "print('The selected project (%s) has %i members:' % \\\n",
    "      (existing_projects.name[0], len(project_members.username)))\n",
    "for ii,name in enumerate(project_members.username):\n",
    "    if project_members.permissions[ii]['admin'] == True:\n",
    "        print('\\t User %s is a project ADMIN' % (name))\n",
    "    else:\n",
    "        print('\\t User %s is a project MEMBER' % (name))"
   ]
  },
  {
   "cell_type": "markdown",
   "metadata": {},
   "source": [
    "## (Option B) Use api_call() *function*\n",
    "Using the api_call() function returns the same information as above, but now as *keys* within a dictionary for each<sup>2</sup> project member. Here we also have listed all projects with the same call.\n",
    "\n",
    "<sup>2</sup> Note that each entry in the 'items' list has the complete information for a single member, unlike the object above which organizes and concantenates all the dictionaries."
   ]
  },
  {
   "cell_type": "code",
   "execution_count": null,
   "metadata": {
    "collapsed": false
   },
   "outputs": [],
   "source": [
    "# LIST some (n=3) projects\n",
    "existing_projects = api_call(path='projects', method='GET', \\\n",
    "                            query={'limit':3, 'offset':0}, data=None)\n",
    "\n",
    "# DETAIL first project\n",
    "project_members = api_call(path=('projects/' + existing_projects['items'][0]['id'] + '/members'))\n",
    "for item in project_members ['items']:\n",
    "    print(item)"
   ]
  },
  {
   "cell_type": "markdown",
   "metadata": {},
   "source": [
    "## Additional Information\n",
    "Detailed documentation of this particular REST architectural style request is available [here](http://docs.cancergenomicscloud.org/docs/list-members-of-a-project)"
   ]
  }
 ],
 "metadata": {
  "kernelspec": {
   "display_name": "Python 2",
   "language": "python",
   "name": "python2"
  },
  "language_info": {
   "codemirror_mode": {
    "name": "ipython",
    "version": 2
   },
   "file_extension": ".py",
   "mimetype": "text/x-python",
   "name": "python",
   "nbconvert_exporter": "python",
   "pygments_lexer": "ipython2",
   "version": "2.7.11"
  }
 },
 "nbformat": 4,
 "nbformat_minor": 0
}
