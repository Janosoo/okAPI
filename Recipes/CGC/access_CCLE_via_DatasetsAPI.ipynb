{
 "cells": [
  {
   "cell_type": "markdown",
   "metadata": {},
   "source": [
    "# Programmatically Access CCLE Data using the Seven Bridges Cancer Genomics Cloud via the Datasets API\n",
    "\n",
    "The CCLE is made possible through a collaboration between the Broad Institute, the Novartis Institutes for Biomedical Research, and the Genomics Institute of the Novartis Research Foundation to perform detailed genetic and pharmacologic characterization of a large number of human cancer models.\n",
    "\n",
    "The CCLE public project contains Open Access sequencing data (in the form of reads aligned to the hg19 broad variant reference genome) for nearly 1000 cancer cell line samples.\n",
    "\n",
    "\n",
    "## Goal of this Tutorial\n",
    "During this tutorial, you will learn how to use the Datasets API to get the bam files obtained from whole genome sequencing of Breast Cancer cell-lines.  In order to do this, we need to first identify the files that correspond to these metadata requirements within the CCLE data. After identifying these files, we can then get the files on to a project on the CGC using the CGC API.\n",
    "\n",
    "## Prerequisites\n",
    "Before you begin this tutorial, you should:\n",
    " 1. ** Set up your CGC account. ** If you haven't already done so, navigate to https://cgc.sbgenomics.com/ and follow these directions to register for the CGC. This tutorial uses Open Data, which is available to all CGC users. The same approach can be used by approved researchers to access Controlled Data. Learn more about TCGA data access here.3 \n",
    " 2. ** Install the Seven Bridges' API Python library. ** This tutorial uses the library sevenbridges-python. Learn how to install it before continuing.\n",
    " 3. ** Obtain your authentication token. ** You'll use your authentication token to encode your user credentials when interacting with the CGC programmatically. Learn how to access your authentication token. It is important to store your authentication token in a safe place as it can be used to access your account. The time and location your token was last used is shown on the developer dashboard. If for any reason you believe your token has been compromised, you can regenerate it at any time.\n",
    " \n",
    "## Query using the Datasets API\n",
    "The Datasets API is an API designed around the CCLE/TCGA data structure and focused on search functionality. You can use the Datasets API to browse CCLE using API requests written in JSON. Queries made using the Datasets API return entities and are particularly suitable for browsing CCLE data.\n",
    "We'll write a Python script to issue our query into CCLE using the Datasets API. Since the Datasets API is not included in our Python library, sevenbridges-python, we will use two Python modules, json and requests, to interact with it instead. We'll use these modules to write a wrapper around the API request."
   ]
  },
  {
   "cell_type": "code",
   "execution_count": 1,
   "metadata": {
    "collapsed": true
   },
   "outputs": [],
   "source": [
    "import json\n",
    "from requests import request"
   ]
  },
  {
   "cell_type": "markdown",
   "metadata": {},
   "source": [
    "Below, we define a simple function to send and receive JSONs from the API using the correctly formatted HTTP calls. The necessary imports are handled above."
   ]
  },
  {
   "cell_type": "code",
   "execution_count": null,
   "metadata": {
    "collapsed": true
   },
   "outputs": [],
   "source": [
    "def api_call(path, method='GET', query=None, data=None, token=None):\n",
    "     \n",
    "    base_url = 'https://cgc-datasets-api.sbgenomics.com/datasets/ccle/v0/'\n",
    "     \n",
    "    data = json.dumps(data) if isinstance(data, dict) \\\n",
    "    or isinstance(data,list) else None\n",
    "               \n",
    "    headers = {\n",
    "        'X-SBG-Auth-Token': token,\n",
    "        'Accept': 'application/json',\n",
    "        'Content-type': 'application/json',\n",
    "    }\n",
    "     \n",
    "    response = request(method, base_url + path, params=query, \\\n",
    "                       data=data, headers=headers)\n",
    "    response_dict = response.json() if \\\n",
    "    response.json() else {}\n",
    " \n",
    "    if response.status_code / 100 != 2:\n",
    "        print(response_dict)\n",
    "        raise Exception('Server responded with status code %s.' % response.status_code)\n",
    "    return response_dict"
   ]
  },
  {
   "cell_type": "markdown",
   "metadata": {},
   "source": [
    "Then, provide your authentication token, as shown below. Examples of proper coding of your auth_token are available for sevenbridges-python bindings"
   ]
  },
  {
   "cell_type": "code",
   "execution_count": null,
   "metadata": {
    "collapsed": true
   },
   "outputs": [],
   "source": [
    "auth_token = 'Insert Your Authentication Token Here'"
   ]
  },
  {
   "cell_type": "markdown",
   "metadata": {},
   "source": [
    "Now, we can define a query in JSON for finding all primary tumor samples that are Breast Invasive Carcinoma and those that have RNA-seq experiments performed. \n"
   ]
  },
  {
   "cell_type": "code",
   "execution_count": null,
   "metadata": {
    "collapsed": false
   },
   "outputs": [],
   "source": [
    "files_query = {\n",
    "    \"entity\": \"files\",\n",
    "    \"hasReferenceGenome\": \"HG19_Broad_variant\",\n",
    "    \"hasDataFormat\": \"BAM\",\n",
    "    \"hasExperimentalStrategy\": \"WGS\",\n",
    "    \"hasCase\": {\n",
    "        \"hasDiseaseType\" : \"Breast invasive carcinoma\",\n",
    "        \"hasSampleType\" : \"EBV Immortalized Normal\"\n",
    "        }\n",
    "} #Change for your purposes"
   ]
  },
  {
   "cell_type": "code",
   "execution_count": null,
   "metadata": {
    "collapsed": false
   },
   "outputs": [],
   "source": [
    "total = api_call(method='POST', path ='query/total', \\\n",
    "                 token=auth_token, data=files_query)\n",
    "print(\"There are {} samples matching the query\".format(total['total']))"
   ]
  },
  {
   "cell_type": "markdown",
   "metadata": {},
   "source": [
    "Below, we define a simple function to get all matches to the query in the API using the correctly formatted HTTP calls. "
   ]
  },
  {
   "cell_type": "code",
   "execution_count": null,
   "metadata": {
    "collapsed": true
   },
   "outputs": [],
   "source": [
    "import math\n",
    "\n",
    "def getAllMatches(auth_token, query_body):\n",
    "    numberFiles = api_call(method=\"POST\", path=\"query/total\", \\\n",
    "                                       token=auth_token, data=query_body)[\"total\"]\n",
    "    numCalls = int(math.ceil(numberFiles/100.0))\n",
    "    matches = []\n",
    "    entity = query_body[\"entity\"]\n",
    "    for i in range(0, numCalls):\n",
    "        query_body[\"offset\"] = str(i * 100)\n",
    "        currSet = api_call(method=\"POST\", path=\"query\" \\\n",
    "            , token=auth_token, data=query_body)[\"_embedded\"][entity]\n",
    "        for currMatch in currSet:\n",
    "            matches.append(currMatch)\n",
    "\n",
    "    return matches"
   ]
  },
  {
   "cell_type": "markdown",
   "metadata": {},
   "source": [
    "Using these functions, we can now get all the samples that match the required queries."
   ]
  },
  {
   "cell_type": "code",
   "execution_count": null,
   "metadata": {
    "collapsed": false
   },
   "outputs": [],
   "source": [
    "files = getAllMatches(auth_token, files_query)\n",
    "file_ids = [curr_file[\"id\"] for curr_file in files]"
   ]
  },
  {
   "cell_type": "markdown",
   "metadata": {
    "collapsed": true
   },
   "source": [
    "## Initialize the sevenbridges-python library\n",
    "We've now installed sevenbridges-python and stored our credentials in a config file. Let's import the api class from the official sevenbridges-python bindings."
   ]
  },
  {
   "cell_type": "code",
   "execution_count": null,
   "metadata": {
    "collapsed": true
   },
   "outputs": [],
   "source": [
    "import sevenbridges as sbg"
   ]
  },
  {
   "cell_type": "markdown",
   "metadata": {},
   "source": [
    "Let's initialize the api object so the API knows our credentials."
   ]
  },
  {
   "cell_type": "code",
   "execution_count": null,
   "metadata": {
    "collapsed": true
   },
   "outputs": [],
   "source": [
    "# [USER INPUT] specify platform {cgc, sbg}\n",
    "prof = 'cgc'\n",
    "\n",
    "\n",
    "config_file = sbg.Config(profile=prof)\n",
    "api = sbg.Api(config=config_file)"
   ]
  },
  {
   "cell_type": "markdown",
   "metadata": {},
   "source": [
    "Create a new project"
   ]
  },
  {
   "cell_type": "code",
   "execution_count": null,
   "metadata": {
    "collapsed": false
   },
   "outputs": [],
   "source": [
    "# [USER INPUT] Set project name here:\n",
    "new_project_name = 'CCLE Files'                          \n",
    "      \n",
    "    \n",
    "# What are my funding sources?\n",
    "billing_groups = api.billing_groups.query()  \n",
    "\n",
    "# Pick the first group (arbitrary)\n",
    "print((billing_groups[0].name + \\\n",
    "       ' will be charged for computation and storage (if applicable) for your new project'))\n",
    "\n",
    "# Set up the information for your new project\n",
    "new_project = {\n",
    "        'billing_group': billing_groups[0].id,\n",
    "        'description': \"\"\"A project created by the API recipe (projects_makeNew.ipynb).\n",
    "                      This also supports **markdown**\n",
    "                      _Pretty cool_, right?\n",
    "                   \"\"\",\n",
    "        'name': new_project_name\n",
    "}\n",
    "\n",
    "# check if this project already exists. LIST all projects and check for name match\n",
    "my_project = [p for p in api.projects.query(limit=100).all() \\\n",
    "              if p.name == new_project_name]      \n",
    "              \n",
    "if my_project:    # exploit fact that empty list is False, {list, tuple, etc} is True\n",
    "    print('A project with the name (%s) already exists, please choose a unique name' \\\n",
    "          % new_project_name)\n",
    "    raise KeyboardInterrupt\n",
    "else:\n",
    "    # CREATE the new project\n",
    "    my_project = api.projects.create(name = new_project['name'], \\\n",
    "                                     billing_group = new_project['billing_group'], \\\n",
    "                                     description = new_project['description'])\n",
    "    \n",
    "    # (re)list all projects, and get your new project\n",
    "    my_project = [p for p in api.projects.query(limit=100).all() \\\n",
    "              if p.name == new_project_name][0]"
   ]
  },
  {
   "cell_type": "markdown",
   "metadata": {},
   "source": [
    "Copy the files based on file IDs that are transferrable across the Datasets and platform APIs"
   ]
  },
  {
   "cell_type": "code",
   "execution_count": null,
   "metadata": {
    "collapsed": false
   },
   "outputs": [],
   "source": [
    "def copyToProject(api, my_project, finalFiles):\n",
    "    my_files = api.files.query(limit = 100, project = my_project.id).all()\n",
    "    # pop out the file names\n",
    "    my_file_names = [f.name for f in my_files]\n",
    "    newFiles = []\n",
    "    for currFile in finalFiles:\n",
    "        if currFile[\"label\"] in my_file_names:\n",
    "            print('file already exists in second project, please try another file')\n",
    "        else:\n",
    "            fileObject = api.files.get(id = currFile['id'])\n",
    "            #print fileObject.name, fileObject.id\n",
    "            \n",
    "            my_new_file = fileObject.copy(project = my_project.id, name = fileObject.name)\n",
    "            newFiles.append(my_new_file)\n",
    "    print \"Files Imported!\"\n",
    "\n",
    "copyToProject(api, my_project, files)"
   ]
  }
 ],
 "metadata": {
  "kernelspec": {
   "display_name": "Python 2",
   "language": "python",
   "name": "python2"
  },
  "language_info": {
   "codemirror_mode": {
    "name": "ipython",
    "version": 2
   },
   "file_extension": ".py",
   "mimetype": "text/x-python",
   "name": "python",
   "nbconvert_exporter": "python",
   "pygments_lexer": "ipython2",
   "version": "2.7.12"
  }
 },
 "nbformat": 4,
 "nbformat_minor": 0
}
