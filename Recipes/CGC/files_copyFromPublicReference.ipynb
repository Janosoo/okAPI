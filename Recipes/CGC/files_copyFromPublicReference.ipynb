{
 "cells": [
  {
   "cell_type": "markdown",
   "metadata": {},
   "source": [
    "# How do I _copy_ a file from the _Public Reference_ files?\n",
    "### Overview\n",
    "Files can be copied from other projects you are a member of or public reference. Here we focus on copying a file from _public reference_.\n",
    "\n",
    "### Prerequisites\n",
    " 1. You need to be a member (or owner) of _at least one_ project.\n",
    " 2. You need your _authentication token_ and the API needs to know about it. See <a href=\"Setup_API_environment.ipynb\">**Setup_API_environment.ipynb**</a> for details.\n",
    " 3. You understand how to <a href=\"projects_listAll.ipynb\" target=\"_blank\">list</a> projects you are a member of (we will just use that call directly and pick one here).\n",
    " \n",
    "## Imports\n",
    "We import the _Api_ class from the official sevenbridges-python bindings below."
   ]
  },
  {
   "cell_type": "code",
   "execution_count": null,
   "metadata": {
    "collapsed": true
   },
   "outputs": [],
   "source": [
    "import sevenbridges as sbg"
   ]
  },
  {
   "cell_type": "markdown",
   "metadata": {},
   "source": [
    "## Initialize the object\n",
    "The _Api_ object needs to know your **auth\\_token** and the correct path. Here we assume you are using the .sbgrc file in your home directory. For other options see <a href=\"Setup_API_environment.ipynb\">Setup_API_environment.ipynb</a>"
   ]
  },
  {
   "cell_type": "code",
   "execution_count": null,
   "metadata": {
    "collapsed": true
   },
   "outputs": [],
   "source": [
    "# User input: specify platform {cgc, sbg}\n",
    "prof = 'cgc'\n",
    "\n",
    "config_config_file = sbg.Config(profile=prof)\n",
    "api = sbg.Api(config=config_config_file)"
   ]
  },
  {
   "cell_type": "markdown",
   "metadata": {},
   "source": [
    "## Copy a file from the Public Reference\n",
    "We will first find our _source\\_project_ (the Public Reference Files), then list the files within the source project<sup>1</sup>, and copy a file from **_source\\_project_ -> _my\\_project_**.\n",
    "\n",
    "The critical information for this POST is the **file_id**. Note, you are allow to copy the same file as many times as you like. However, duplicates will be automatically have a prefix attached of (\\_1\\_, \\_2\\_, etc) depending on how many times you copy the file.\n",
    "\n",
    "To make these results very obvious, use an empty project as your MY\\_PROJECT (e.g. your <a href=projects_makeNew.ipynb> cookbook example project</a>) or change the _name_ in the _data_ dictionary to something like 'Dept of Awesome.copy'\n",
    "\n",
    "<sup>1</sup> Files are only accessible **within** a project - here the Public Reference project (**warning** we may change this project name in the future)."
   ]
  },
  {
   "cell_type": "code",
   "execution_count": null,
   "metadata": {
    "collapsed": false
   },
   "outputs": [],
   "source": [
    "# [USER INPUT] Set your project name; source project name; and file (f_) indices here:\n",
    "source_project_id = 'admin/sbg-public-data'        \n",
    "my_project_name = 'Keep on Smiling'\n",
    "f_index = 12                                     # file to copy\n",
    "\n",
    "\n",
    "# Find your project\n",
    "my_project = [p for p in api.projects.query(limit=100).all() \\\n",
    "                  if p.name == my_project_name]\n",
    "\n",
    "# Double-check that your project exists\n",
    "if not my_project:\n",
    "    print('Target project (%s) not found, check spelling' % my_project_name)\n",
    "    raise KeyboardInterrupt\n",
    "else:\n",
    "    my_project = my_project[0]\n",
    "\n",
    "# LIST all files in the source and target project\n",
    "my_files = api.files.query(limit = 100, project = my_project.id).all()\n",
    "source_files = list(api.files.query(limit = 100, project = source_project_id).all())\n",
    "\n",
    "# pop out the file names \n",
    "my_file_names = [f.name for f in my_files]\n",
    "source_file_names = [f.name for f in source_files]\n",
    "\n",
    "# Check if first file already exists in the target project\n",
    "if source_file_names[f_index] in my_file_names:\n",
    "    print('file already exists in second project, please try another file')\n",
    "else:\n",
    "    print('File (%s) does not exist in Project (%s); copying now' % \\\n",
    "          (source_file_names[f_index], my_project.id))\n",
    "    source_file = [curr_file for curr_file in source_files \\\n",
    "                        if curr_file.name == source_file_names[f_index]][0]\n",
    "    \n",
    "    my_new_file = source_file.copy(project = my_project.id, \\\n",
    "                                   name = source_file.name)\n",
    "\n",
    "    # re-list files in target project to verify the copy worked\n",
    "    my_files = [f.name for f in api.files.query(limit = 100, project = my_project.id).all()]\n",
    "    \n",
    "    if source_file.name in my_files:\n",
    "        print('Sucessfully copied one file!')\n",
    "    else:\n",
    "        print('Something went wrong...')"
   ]
  },
  {
   "cell_type": "markdown",
   "metadata": {},
   "source": [
    "## Additional Information\n",
    "Detailed documentation of this particular REST architectural style request is available [here](http://docs.cancergenomicscloud.org/docs/copy-a-file)"
   ]
  }
 ],
 "metadata": {
  "kernelspec": {
   "display_name": "Python 2",
   "language": "python",
   "name": "python2"
  },
  "language_info": {
   "codemirror_mode": {
    "name": "ipython",
    "version": 2
   },
   "file_extension": ".py",
   "mimetype": "text/x-python",
   "name": "python",
   "nbconvert_exporter": "python",
   "pygments_lexer": "ipython2",
   "version": "2.7.12"
  }
 },
 "nbformat": 4,
 "nbformat_minor": 0
}
