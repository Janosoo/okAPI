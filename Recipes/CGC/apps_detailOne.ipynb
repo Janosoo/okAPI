{
 "cells": [
  {
   "cell_type": "markdown",
   "metadata": {},
   "source": [
    "# What are the details of one of my _apps_?\n",
    "### Overview\n",
    "Here we focus on _getting the details_ from a single app. This will be important later when we want to start a task. As with any **detail**-type call, we will get extensive information about one app but must first know that app's id. We will show two options (A & B) of getting the same information.\n",
    "\n",
    "### Prerequisites\n",
    " 1. You need to be a member (or owner) of _at least one_ project.\n",
    " 2. You need your _authentication token_ and the API needs to know about it. See <a href=\"set_AUTH_TOKEN.ipynb\">**set_AUTH_TOKEN.ipynb**</a> for details.\n",
    " 3. You understand how to <a href=\"projects_listAll.ipynb\" target=\"_blank\">list</a> projects you are a member of (we will just use that call directly here).\n",
    " 4. You understand how to <a href=\"apps_listAll.ipynb\" target=\"_blank\">list</a> apps within one of your projects (we will just use that call directly here).\n",
    " 5. You have added (or  <a href=\"apps_copyFromPublicApps.ipynb\" target=\"_blank\">copied</a>) least one app file in your project\n",
    " \n",
    "### Imports and Definitions\n",
    " A single call is sufficient. We will show two different options, both of which are defined in the apimethods.py file."
   ]
  },
  {
   "cell_type": "code",
   "execution_count": null,
   "metadata": {
    "collapsed": false
   },
   "outputs": [],
   "source": [
    "from defs.apimethods import *"
   ]
  },
  {
   "cell_type": "markdown",
   "metadata": {},
   "source": [
    "## (Option A) Use API() _object_\n",
    "We start by listing all of your projects, then list the apps within the first one. A **detail**-call for projects returns the following *attributes*:\n",
    "* **id**     _Unique_ identifier for the app\n",
    "* **name**   Name of the app, note this **is** metadata and can be _changed_\n",
    "* **href**   Address<sup>1</sup> of the app.\n",
    "* **raw**    Details of the app\n",
    "* **project** Project the app is in\n",
    "* **revision** App revision\n",
    "* **flag**   (unimportant) this is set by the object constructor, here always 'longList':False \n",
    "\n",
    "The **raw** dictionary<sup>2</sup>:\n",
    "* stdout\n",
    "* sbg:categories - categories that app belongs to \n",
    "* sbg:copyOf - what is the app this one was copied from\n",
    "* sbg:toolAuthor - author of the tool\n",
    "* id - app id\n",
    "* successCodes - list of success codes for a tool\n",
    "* sbg:revision - revision of the app\n",
    "* sbg:latestRevision - latest revision available\n",
    "* sbg:modifiedBy - user who modified the app revision \n",
    "* sbg:toolkitVersion - version of the toolkit \n",
    "* label - User friendly naming of the app (like *Picard MergeSamFiles*)\n",
    "* arguments\n",
    "* sbg:createdBy - which user originally created the app\n",
    "* inputs - description of the inputs \n",
    "* sbg:links - links to original documentation for the tools\n",
    "* description \n",
    "* sbg:sbgMaintained - notes whether the app is maintained by Seven Bridges or not\n",
    "* sbg:modifiedOn - modified info timestamp\n",
    "* outputs - description of the outputs\n",
    "* baseCommand - base command that executes (for example `java -jar /opt/picard-tools-1.140/picard.jar MergeSamFiles`, but in more complex format)\n",
    "* sbg:contributors - list of contributors to the app\n",
    "* sbg:validationErrors - app validation errors if they exist\n",
    "* requirements \n",
    "* temporaryFailCodes - codes that cause temporary failure (which can be retried)\n",
    "* class \n",
    "* sbg:job \n",
    "* hints - contains info on memory, CPU requirements and the link to actual *docker* image that executes\n",
    "* sbg:id \n",
    "* sbg:createdOn - timestamp when the app was created\n",
    "* sbg:toolkit - toolkit version \n",
    "* stdin \n",
    "* sbg:cmdPreview - preview of the command line - like `java -Xmx2048M -jar /opt/picard-tools-1.140/picard.jar CollectAlignmentSummaryMetrics INPUT=/root/folder/example.bam REFERENCE_SEQUENCE=/root/directory/example.fasta OUTPUT=example.summary_metrics.txt METRIC_ACCUMULATION_LEVEL=ALL_READS INPUT=/root/folder/example.bam /root/folder/example.bam`\n",
    "* sbg:license - licencing for the tool \n",
    "* sbg:revisionsInfo - contains info on revisions\n",
    "* sbg:project - what is the project that contains the app\n",
    "\n",
    "<sup>1</sup> This is the address where, by using API you can get this resource\n",
    "\n",
    "<sup>2</sup> Many of these fields are related to the [Common Workflow Language](http://docs.cancergenomicscloud.org/docs/sdk-overview) JSON describing the app."
   ]
  },
  {
   "cell_type": "code",
   "execution_count": null,
   "metadata": {
    "collapsed": true
   },
   "outputs": [],
   "source": [
    "# [USER INPUT] Set project (p_) and app (a_) indices:\n",
    "p_index = 2                               # project to check\n",
    "a_index = 0                               # app index\n",
    "\n",
    "# LIST all projects\n",
    "existing_projects = API('projects')                              \n",
    "\n",
    "# list the apps in ONE project\n",
    "my_apps = API(path='apps', query={'project': existing_projects.id[p_index]})\n",
    "\n",
    "# get details of the app\n",
    "single_app = API(path=('apps/' + my_apps.id[a_index]))\n",
    "\n",
    "print('You have selected app (%s), which was created by (%s). \\n It has %i inputs:' % \\\n",
    "      (single_app.name, single_app.raw['sbg:toolAuthor'], len(single_app.raw['inputs'])))\n",
    "for ii in single_app.raw['inputs']:\n",
    "    print(ii['id'][1:])"
   ]
  },
  {
   "cell_type": "markdown",
   "metadata": {},
   "source": [
    "## Get a dictionary of the App's ~CWL\n",
    "This is a useful **first look** at the app description, but please **be careful** since we have wrapped it in a function, it is **not a JSON**. You would want to \n",
    "\n",
    "1. go to the GUI\n",
    "2. click on the app\n",
    "3. in the top right, click \"Export\"\n",
    "4. **save** that page as a json. (do not copy paste as that introduces surpsring errors)\n",
    "5. load the json file into python.\n",
    "6. convert it into a json (see this [tutorial](../../Tutorials/CGC/batch_SAMtoolsView.ipynb) for a good example)"
   ]
  },
  {
   "cell_type": "code",
   "execution_count": null,
   "metadata": {
    "collapsed": false
   },
   "outputs": [],
   "source": [
    "# get (and print) raw CWL of the app\n",
    "api_call(path=('apps/' + my_apps.id[a_index] + '/raw'))"
   ]
  },
  {
   "cell_type": "markdown",
   "metadata": {},
   "source": [
    "## (Option B) Use api_call() *function*\n",
    "Using the api_call() function returns the same information as above, but now as *keys* within a dictionary for each project. To start, we list the first 25 projects you are a member of. Then, we query the _file list_ for the first project.\n",
    "\n",
    "<sup>2</sup> Note that each entry in the 'items' list has the complete information for a single member, unlike the object above which organizes and concantenates all the dictionaries."
   ]
  },
  {
   "cell_type": "code",
   "execution_count": null,
   "metadata": {
    "collapsed": false
   },
   "outputs": [],
   "source": [
    "# [USER INPUT] Set project (p_) and app (a_) indices:\n",
    "p_index = 2                               # project to check\n",
    "a_index = 0                               # app index\n",
    "\n",
    "# Short (n=26) list of projects I am a member of\n",
    "existing_projects = api_call(path='projects', method='GET', \\\n",
    "                            query={'limit':26, 'offset':0}, data=None)      \n",
    "\n",
    "# apps within my first project\n",
    "my_apps = api_call(path='apps', \\\n",
    "                   query={'limit':25, \\\n",
    "                          'project': existing_projects['items'][p_index]['id']})\n",
    "\n",
    "# get details of the first app inside that project\n",
    "api_call(path=('apps/' + my_apps['items'][a_index]['id']))"
   ]
  },
  {
   "cell_type": "markdown",
   "metadata": {},
   "source": [
    "## Additional Information\n",
    "Detailed documentation of this particular REST architectural style request is available [here](http://docs.cancergenomicscloud.org/docs/get-file-details) and [here](http://docs.cancergenomicscloud.org/docs/get-raw-app-information)"
   ]
  }
 ],
 "metadata": {
  "kernelspec": {
   "display_name": "Python 2",
   "language": "python",
   "name": "python2"
  },
  "language_info": {
   "codemirror_mode": {
    "name": "ipython",
    "version": 2
   },
   "file_extension": ".py",
   "mimetype": "text/x-python",
   "name": "python",
   "nbconvert_exporter": "python",
   "pygments_lexer": "ipython2",
   "version": "2.7.11"
  }
 },
 "nbformat": 4,
 "nbformat_minor": 0
}
