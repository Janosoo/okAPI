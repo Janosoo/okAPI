{
 "cells": [
  {
   "cell_type": "markdown",
   "metadata": {},
   "source": [
    "# What _projects_ am I a member of?\n",
    "### Overview\n",
    "There are a number of API calls related to projects. Here we focus on listing them. As with any **list**-type call, we will get minimal information about each project. We will show two options (A & B) of getting the same information.\n",
    "\n",
    "### Prerequisites\n",
    " 1. You need to be a member (or owner) of _at least one_ project.\n",
    " 2. You need your _authentication token_ and the API needs to know about it. See <a href=\"set_AUTH_TOKEN.ipynb\">**set_AUTH_TOKEN.ipynb**</a> for details.\n",
    " \n",
    "### Imports and Definitions\n",
    " A single call is sufficient to get a project list. We will show two different options, both of which are defined in the apimethods.py file."
   ]
  },
  {
   "cell_type": "code",
   "execution_count": null,
   "metadata": {
    "collapsed": false
   },
   "outputs": [],
   "source": [
    "from defs.apimethods import *"
   ]
  },
  {
   "cell_type": "markdown",
   "metadata": {},
   "source": [
    "## (Option A) Use API() _object_\n",
    "A **list**-call for projects returns the following *attributes*:\n",
    "* **id**     _Unique_ identifier for the project, generated based on Project Name\n",
    "* **name**   Name of project specified by the user, maybe _non-unique_\n",
    "* **href**   Address<sup>1</sup> of the project.\n",
    "\n",
    "<sup>1</sup> This is the address where, by using API you can get this resource"
   ]
  },
  {
   "cell_type": "code",
   "execution_count": null,
   "metadata": {
    "collapsed": false
   },
   "outputs": [],
   "source": [
    "existing_projects = API(path='projects')\n",
    "print('List of project names:')\n",
    "print(dir(existing_projects))\n",
    "for name in existing_projects.name:\n",
    "    print((name + '\\n'))"
   ]
  },
  {
   "cell_type": "markdown",
   "metadata": {},
   "source": [
    "## (Option B) Use api_call() *function*\n",
    "Using the api_call() function returns the same information as above, but now as *keys* within a dictionary for each project. Here we also explicitly give keyword arguments with their default values already listed in apiMethods.py. \n",
    "\n",
    "Additionally, we have adding the _limit_ and _offset_ arguments. In this example only 2 records will be\n",
    "returned, starting from the first record (index = 0). This requires **pagination**<sup>2</sup>. In the next example we\n",
    "call the next records (but do not explicited redefine the default arguments).\n",
    "\n",
    "<sup>2</sup> Note the API() object call automatically manages pagination and will return *all* projects"
   ]
  },
  {
   "cell_type": "code",
   "execution_count": null,
   "metadata": {
    "collapsed": false
   },
   "outputs": [],
   "source": [
    "# Short (n=3) list of projects I am a member of\n",
    "existing_projects = api_call(path='projects', method='GET', \\\n",
    "                            query={'limit':3, 'offset':0}, data=None)\n",
    "print('Details of the first project:')\n",
    "print(existing_projects['items'][0])        \n",
    "\n",
    "# Using pagination to see the next short (n=3) list of projects\n",
    "if existing_projects['links'][0]['rel'] == 'next':\n",
    "    next_path = existing_projects['links'][0]['href'].split('/v2/')[-1]\n",
    "    print('Query for the next page of results is %s' % (next_path))\n",
    "    more_existing_projects = api_call(path=next_path)"
   ]
  },
  {
   "cell_type": "markdown",
   "metadata": {},
   "source": [
    "For the pagination above, we used the 'links' key. 'links' is another dictionary including:\n",
    "* 'href' is the full path for the **next** api_call. It will have an limit equal to the prior call and a offset\n",
    "based on the prior call<sup>3</sup>\n",
    "* 'method' this will be 'GET' as in the prior call\n",
    "* 'rel' this is the relative direction of the call. If you have reached the end of the list, this will be 'prev'\n",
    "\n",
    "<sup>3</sup> Note that these query keys (limit, value, offset, etc) can be either passed within the *query* variable or concantenated to the *path* variable after a \"?\""
   ]
  },
  {
   "cell_type": "markdown",
   "metadata": {},
   "source": [
    "## Additional Information\n",
    "Detailed documentation of this particular REST architectural style request is available [here](http://docs.cancergenomicscloud.org/docs/list-all-your-projects)"
   ]
  }
 ],
 "metadata": {
  "kernelspec": {
   "display_name": "Python 2",
   "language": "python",
   "name": "python2"
  },
  "language_info": {
   "codemirror_mode": {
    "name": "ipython",
    "version": 2
   },
   "file_extension": ".py",
   "mimetype": "text/x-python",
   "name": "python",
   "nbconvert_exporter": "python",
   "pygments_lexer": "ipython2",
   "version": "2.7.11"
  }
 },
 "nbformat": 4,
 "nbformat_minor": 0
}
