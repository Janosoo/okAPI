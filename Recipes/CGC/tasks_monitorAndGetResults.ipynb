{
 "cells": [
  {
   "cell_type": "markdown",
   "metadata": {},
   "source": [
    "# How do I _create_, _monitor_, and get task _results_?\n",
    "### Overview\n",
    "We are getting into advanced techniques here and will need to leverage a few other cookbooks. You will need an app and some files in your project, then it is easy to start one. Unlike the other cookbooks, we will only show the object-based approach to do this.\n",
    "\n",
    "### Prerequisites\n",
    " 1. You need to be a member (or owner) of _at least **one**_ project.\n",
    " 2. You need your _authentication token_ and the API needs to know about it. See <a href=\"set_AUTH_TOKEN.ipynb\">**set_AUTH_TOKEN.ipynb**</a> for details.\n",
    " 3. You understand how to <a href=\"projects_listAll.ipynb\" target=\"_blank\">list</a> projects you are a member of (we will just use that call directly and pick one here).\n",
    " 4. You understand how to <a href=\"apps_copyFromPublicApps.ipynb\" target=\"_blank\">add public apps </a> (we will just use that call directly and pick one here).\n",
    " 5. You understand how to <a href=\"files_copyFromPublicReference.ipynb\" target=\"_blank\">add public files</a>  (we will show you the exact query).\n",
    " 6. You may want to review how to <a href=\"apps_detailOne.ipynb\" target=\"_blank\"> get details </a> of your app (we will assume you do, and pass the appropriate inputs).\n",
    " \n",
    "### Imports and Definitions\n",
    "A single call is sufficient to create a task. All methods and objects are defined in the apimethods.py file. Here there is **no advantage** in using the object to POST the call, but it is rather useful searching the results of the GET calls."
   ]
  },
  {
   "cell_type": "code",
   "execution_count": null,
   "metadata": {
    "collapsed": true
   },
   "outputs": [],
   "source": [
    "from defs.apimethods import *"
   ]
  },
  {
   "cell_type": "markdown",
   "metadata": {},
   "source": [
    "## (Option A) Use API() _object_\n",
    "We will first list all our projects, then add a _Public Reference App_<sup>1</sup> and _Public Reference File_ to the first project. We will then create a task and have it start immediately.\n",
    "\n",
    "<sup>1</sup> Here we also explicitly set _'limit':100_ inside the _query_. This helps speed up the auto-pagination feature within the object constructor.\n",
    "\n",
    "### Step 1) Get the App"
   ]
  },
  {
   "cell_type": "code",
   "execution_count": null,
   "metadata": {
    "collapsed": false
   },
   "outputs": [],
   "source": [
    "# [USER INPUT] Set project (p_) indices:\n",
    "p_index_target = 0                                # target project\n",
    "a_name = 'Picard CreateSequenceDictionary'\n",
    "\n",
    "# LIST all projects\n",
    "existing_projects = API('projects')         \n",
    "\n",
    "# LIST all apps in project\n",
    "my_apps = API(path='apps', query={'project': existing_projects.id[p_index_target]})\n",
    "\n",
    "# ALTERNATIVE way to LIST all Apps using VISIBILITY and searching by NAME\n",
    "apps_to_copy = API(path='apps', query={'visibility': 'public', 'limit': 100})\n",
    "a_index = apps_to_copy.name.index(a_name)\n",
    "\n",
    "# Check if first file already exists in the second project\n",
    "if apps_to_copy.id[a_index] in my_apps.id:\n",
    "    print('App already exists in second project, please try another app')\n",
    "else:\n",
    "    print('App (%s) does not exist in Project (%s); copying now' % \\\n",
    "          (apps_to_copy.name[a_index], existing_projects.id[p_index_target]))\n",
    "    \n",
    "    # COPY the selected file from first to second project\n",
    "    API(path=('apps/' + apps_to_copy.id[a_index] + '/actions/copy'), \\\n",
    "        method='POST', \\\n",
    "        data={'project': existing_projects.id[p_index_target],\\\n",
    "              'name': apps_to_copy.name[a_index]})\n",
    "\n",
    "    # re-list the five files in secondProject to verify the copy worked\n",
    "    my_apps = API(path='apps', query={'project': existing_projects.id[p_index_target]})\n",
    "    \n",
    "    if apps_to_copy.name[a_index] in my_apps.name:\n",
    "        print('Sucessfully copied one app!')\n",
    "    else:\n",
    "        print('Something went wrong...')\n",
    "    my_apps = API(path='apps', query={'project': existing_projects.id[p_index_target]})"
   ]
  },
  {
   "cell_type": "markdown",
   "metadata": {},
   "source": [
    "### Step 2) Get the File"
   ]
  },
  {
   "cell_type": "code",
   "execution_count": null,
   "metadata": {
    "collapsed": false
   },
   "outputs": [],
   "source": [
    "# [USER INPUT] Set file and Public Reference Project names here:\n",
    "f_name = 'ucsc.hg19.fasta'                \n",
    "source_project = 'admin/sbg-public-data'          # name of Public Files Project\n",
    "\n",
    "# LIST all projects\n",
    "existing_projects = API('projects')         \n",
    "\n",
    "# LIST all files in the source and target project\n",
    "my_files_source = API(path='files', \\\n",
    "                      query={'project':source_project, \\\n",
    "                            'limit':100})\n",
    "my_files_target = API(path='files', \\\n",
    "                            query={'project': existing_projects.id[p_index_target]})\n",
    "f_index = my_files_source.name.index(f_name)\n",
    "\n",
    "# Check if first file already exists in the target project\n",
    "if my_files_source.name[f_index] in my_files_target.name:\n",
    "    print('file already exists in second project, please try another file')\n",
    "else:\n",
    "    print('File (%s) does not exist in Project (%s); copying now' % \\\n",
    "          (my_files_source.name[f_index], existing_projects.id[p_index_target]))\n",
    "    \n",
    "    # COPY the selected file from source to target project\n",
    "    API(path=('files/' + my_files_source.id[f_index] + '/actions/copy'), \\\n",
    "        method='POST', \\\n",
    "        data={'project': existing_projects.id[p_index_target],\\\n",
    "              'name': my_files_source.name[f_index]}) \n",
    "\n",
    "    # re-list files in target project to verify the copy worked\n",
    "    my_files_target = API(path='files', \\\n",
    "                          query={'project': existing_projects.id[p_index_target]})\n",
    "    f_index = my_files_source.name.index(f_name)\n",
    "    \n",
    "    if my_files_source.name[f_index] in my_files_target.name:\n",
    "        print('Sucessfully copied one file!')\n",
    "        f_index = my_files_target.name.index(f_name)\n",
    "    else:\n",
    "        print('Something went wrong...')"
   ]
  },
  {
   "cell_type": "markdown",
   "metadata": {},
   "source": [
    "### Step 3) Create the task\n",
    "Here we use the reference file and set one of the 11 optional configuration inputs. Note that input files are passed a _dictionary_ (or a _list_ of _dictionaries_) while configuration parameters are passed just the values."
   ]
  },
  {
   "cell_type": "code",
   "execution_count": null,
   "metadata": {
    "collapsed": false
   },
   "outputs": [],
   "source": [
    "# Task description\n",
    "new_task = {'description': 'APIs are awesome',\n",
    "    'name': ('task created with task_create.ipynb'),\n",
    "    'app': (my_apps.id[0]),                                  # App should be at index 0 since we just added it\n",
    "    'project': existing_projects.id[p_index_target],\n",
    "    'inputs': {\n",
    "        'input_reference': {                               # .fasta reference file\n",
    "            'class': 'File',\n",
    "            'path': my_files_target.id[f_index],\n",
    "            'name': my_files_target.name[f_index]\n",
    "        },\n",
    "        'quiet': \"True\"\n",
    "    }\n",
    "}\n",
    "\n",
    "# Create and RUN a task\n",
    "my_task = API(method='POST', data=new_task, path='tasks/', query = {'action': 'run'})"
   ]
  },
  {
   "cell_type": "markdown",
   "metadata": {},
   "source": [
    "### Step 4) Print task status\n",
    "Here we poll the recently created task. "
   ]
  },
  {
   "cell_type": "code",
   "execution_count": null,
   "metadata": {
    "collapsed": false
   },
   "outputs": [],
   "source": [
    "my_task = API(method='GET', path=('tasks/' + my_task.id))\n",
    "print('Your task is in %s status' % (my_task.status))"
   ]
  },
  {
   "cell_type": "markdown",
   "metadata": {},
   "source": [
    "### Step 5) Wait for task completion\n",
    "Simple loop to ping for task completion."
   ]
  },
  {
   "cell_type": "code",
   "execution_count": null,
   "metadata": {
    "collapsed": false
   },
   "outputs": [],
   "source": [
    "# [USER INPUT] Set loop time (seconds):\n",
    "loop_time = 120\n",
    "flag = {'taskRunning': True}\n",
    "\n",
    "while flag['taskRunning']:\n",
    "    print('Pinging CGC for task completion, will download summary files once all tasks completed.')\n",
    "    my_task = API(method='GET', path=('tasks/' + my_task.id))\n",
    "    if my_task.status == 'COMPLETED':\n",
    "        flag['taskRunning'] = False\n",
    "        print('Task has completed, life is beautiful')\n",
    "    elif my_task.status  == 'FAILED':  \n",
    "        print('Task failed, can not continue')\n",
    "        exit()                      # this will not fail gracefully in iPython\n",
    "    else:\n",
    "        sleep(loop_time)"
   ]
  },
  {
   "cell_type": "markdown",
   "metadata": {},
   "source": [
    "### Step 6) Get task outputs\n",
    "Here we poll the recently created task. "
   ]
  },
  {
   "cell_type": "code",
   "execution_count": null,
   "metadata": {
    "collapsed": false
   },
   "outputs": [],
   "source": [
    "my_task = API(method='GET', path=('tasks/' + my_task.id))\n",
    "print('Your task created %i outputs' % (len(my_task.outputs.keys())))\n",
    "for f_name in my_task.outputs:\n",
    "    print(' task output (%s) is the file (%s)' % (f_name, my_task.outputs[f_name]['name']))"
   ]
  },
  {
   "cell_type": "markdown",
   "metadata": {},
   "source": [
    "## Additional Information\n",
    "Detailed documentation of this particular REST architectural style request is available [here](http://docs.cancergenomicscloud.org/docs/create-a-new-task) and [here](http://docs.cancergenomicscloud.org/docs/perform-an-action-on-a-specific-task)"
   ]
  }
 ],
 "metadata": {
  "kernelspec": {
   "display_name": "Python 2",
   "language": "python",
   "name": "python2"
  },
  "language_info": {
   "codemirror_mode": {
    "name": "ipython",
    "version": 2
   },
   "file_extension": ".py",
   "mimetype": "text/x-python",
   "name": "python",
   "nbconvert_exporter": "python",
   "pygments_lexer": "ipython2",
   "version": "2.7.11"
  }
 },
 "nbformat": 4,
 "nbformat_minor": 0
}
