{
 "cells": [
  {
   "cell_type": "markdown",
   "metadata": {},
   "source": [
    "# How do I _copy_ an app from the _public apps_?\n",
    "### Overview\n",
    "Apps can be copied from one of two sources:\n",
    "1. other projects you are a member of\n",
    "2. public reference. \n",
    "\n",
    "Here we focus on copying an app from _public reference_. \n",
    " \n",
    "### Prerequisites\n",
    " 1. You need to be a member (or owner) of _at least one_ project.\n",
    " 2. You need your _authentication token_ and the API needs to know about it. See <a href=\"Setup_API_environment.ipynb\">**Setup_API_environment.ipynb**</a> for details.\n",
    " 3. You understand how to <a href=\"projects_listAll.ipynb\" target=\"_blank\">list</a> projects you are a member of (we will just use that call directly and pick one here).\n",
    " 4. You understand how to <a href=\"apps_listAll.ipynb\" target=\"_blank\">list</a> apps within your project (we will just use that call directly and pick one here).\n",
    " \n",
    "## Imports\n",
    "We import the _Api_ class from the official sevenbridges-python bindings below."
   ]
  },
  {
   "cell_type": "code",
   "execution_count": null,
   "metadata": {
    "collapsed": true
   },
   "outputs": [],
   "source": [
    "import sevenbridges as sbg"
   ]
  },
  {
   "cell_type": "markdown",
   "metadata": {},
   "source": [
    "## Initialize the object\n",
    "The _Api_ object needs to know your **auth\\_token** and the correct path. Here we assume you are using the .sbgrc file in your home directory. For other options see <a href=\"Setup_API_environment.ipynb\">Setup_API_environment.ipynb</a>"
   ]
  },
  {
   "cell_type": "code",
   "execution_count": null,
   "metadata": {
    "collapsed": true
   },
   "outputs": [],
   "source": [
    "# [USER INPUT] specify platform {cgc, sbg}\n",
    "prof = 'cgc'\n",
    "\n",
    "config_config_file = sbg.Config(profile=prof)\n",
    "api = sbg.Api(config=config_config_file)"
   ]
  },
  {
   "cell_type": "markdown",
   "metadata": {},
   "source": [
    "## Copy a Public App\n",
    "We will first list all our projects, then list the apps within the Public Reference project<sup>1</sup>, and finally copy an app between the Public Reference to the my_project. Here we also explicitly set _'limit':100_ inside the _query_. This helps speed up the auto-pagination feature within the object constructor.\n",
    "\n",
    "The critical information for this POST is the **app_id**. Note, you are **not** allowed to copy the same app **and** assign the same name more than once. If you change the name, it is ok.\n",
    "\n",
    "To make these results very obvious, use an empty project as your MY\\_PROJECT (e.g. your <a href=projects_makeNew.ipynb> cookbook example project</a>) or change the _name_ in the _data_ dictionary to something like 'Dept of Awesome'<sup>2</sup>\n",
    "\n",
    "<sup>1</sup> Unlike files, apps are accesssible **both** *within* a project (here the Public Reference project) **and** by a *visibility* property (which may be set to 'public')\n",
    "\n",
    "#### Why am I getting an Error Code 6000?\n",
    "You found a known bug, we are _very sorry_ for this. It is already being worked on and should be ok soon. Try copying the app named **'Torrent Mapping Alignment Program Map4'**, this will work. Known affected workflows:\n",
    "* Exome Coverage QC 1.0\n",
    "* RNA-Seq De Novo Assembly and Analysis - Trinity 2.0.6\n",
    "* RNA-Seq De Novo Assembly - Trinity 2.0.6\n",
    "* Whole Exome Sequencing GATK 2.3.9.-lite"
   ]
  },
  {
   "cell_type": "code",
   "execution_count": null,
   "metadata": {
    "collapsed": false
   },
   "outputs": [],
   "source": [
    "# [USER INPUT] Set project name; project (p_) and file (f_) indices here:\n",
    "my_project_name = 'Keep on Smiling'\n",
    "a_name = 'Torrent Mapping Alignment Program Map4'\n",
    "\n",
    "\n",
    "# pull out target project\n",
    "my_project = [p for p in api.projects.query(limit=100).all() \\\n",
    "              if p.name == my_project_name]\n",
    "\n",
    "# Double-check that target project exists\n",
    "if not my_project:\n",
    "    print('Target project (%s) not found, check spelling' % my_project_name)\n",
    "    raise KeyboardInterrupt\n",
    "else:\n",
    "    my_project = my_project[0]\n",
    "    \n",
    "my_apps = api.apps.query(project = my_project.id, limit=100)\n",
    "my_app_source = [a for a in api.apps.query(visibility='public', limit=100) \\\n",
    "                 if a.name == a_name][0]\n",
    "\n",
    "duplicate_app = [a for a in my_apps.all() if a.name == my_app_source.name]\n",
    "\n",
    "if duplicate_app:\n",
    "    print('App already exists in second project, please try another app')\n",
    "else:\n",
    "    print('App (%s) does not exist in Project (%s); copying now' % \\\n",
    "          (a_name, my_project.name))\n",
    "    \n",
    "    my_new_app = my_app_source.copy(project = my_project.id, name = a_name)\n",
    "        \n",
    "    # re-list apps in target project to verify the copy worked\n",
    "    my_apps = api.apps.query(project = my_project.id, limit=100)\n",
    "    my_app_names = [a.name for a in my_apps.all()]\n",
    "    \n",
    "    if a_name in my_app_names:\n",
    "        print('Sucessfully copied one app!')\n",
    "    else:\n",
    "        print('Something went wrong...')"
   ]
  },
  {
   "cell_type": "markdown",
   "metadata": {},
   "source": [
    "## Additional Information\n",
    "Detailed documentation of this particular REST architectural style request is available [here](http://docs.cancergenomicscloud.org/docs/copy-an-app-secondary-method)"
   ]
  }
 ],
 "metadata": {
  "kernelspec": {
   "display_name": "Python 2",
   "language": "python",
   "name": "python2"
  },
  "language_info": {
   "codemirror_mode": {
    "name": "ipython",
    "version": 2
   },
   "file_extension": ".py",
   "mimetype": "text/x-python",
   "name": "python",
   "nbconvert_exporter": "python",
   "pygments_lexer": "ipython2",
   "version": "2.7.11"
  }
 },
 "nbformat": 4,
 "nbformat_minor": 0
}
