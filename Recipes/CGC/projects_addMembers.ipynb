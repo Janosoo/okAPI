{
 "cells": [
  {
   "cell_type": "markdown",
   "metadata": {},
   "source": [
    "# How do I add members to one my _projects_?\n",
    "### Overview\n",
    "Here we focus on _adding a member_ to one of your projects. Importantly, you **must** be the admin of this project.\n",
    "\n",
    "### Prerequisites\n",
    " 1. You need to be a member (or owner) of _at least one_ project.\n",
    " 2. You need your _authentication token_ and the API needs to know about it. See <a href=\"set_AUTH_TOKEN.ipynb\">**set_AUTH_TOKEN.ipynb**</a> for details.\n",
    " 3. You understand how to <a href=\"projects_listAll.ipynb\" target=\"_blank\">list</a> projects you are a member of (we will just use that call directly here).\n",
    " \n",
    "### Imports and Definitions\n",
    " A single call is sufficient to get project details. Methods are defined in the apimethods.py file."
   ]
  },
  {
   "cell_type": "code",
   "execution_count": null,
   "metadata": {
    "collapsed": true
   },
   "outputs": [],
   "source": [
    "from defs.apimethods import *"
   ]
  },
  {
   "cell_type": "markdown",
   "metadata": {},
   "source": [
    "## Use API() _object_\n",
    "We start by listing all of your projects, then get more information on the first one. A **detail**-call for projects returns the following *attributes*:\n",
    "* **description** The user specified project description\n",
    "* **id**     _Unique_ identifier for the project, generated based on Project Name\n",
    "* **name**   Name of project specified by the user, maybe _non-unique_\n",
    "* **href**   Address<sup>1</sup> of the project.\n",
    "* **tags**   List of tags, currently tags[0] = 'tcga' if protected data is used\n",
    "* **type**   (unimportant) this is always equal to 'v2'\n",
    "* **flag**   (unimportant) this is set by the object constructor, here always 'longList':False \n",
    "\n",
    "<sup>1</sup> This is the address where, by using API you can get this resource"
   ]
  },
  {
   "cell_type": "code",
   "execution_count": null,
   "metadata": {
    "collapsed": false
   },
   "outputs": [],
   "source": [
    "# Project index\n",
    "p_name = 'open data quickstart'\n",
    "\n",
    "existing_projects = API(path='projects')\n",
    "p_index = existing_projects.name.index(p_name)\n",
    "# LIST all projects\n",
    "single_project = API(path=('projects/'+ existing_projects.id[p_index]))  # DETAIL first project\n",
    "\n",
    "print('You have selected project (%s).' % (single_project.name))\n",
    "if hasattr(single_project, 'description'):       \n",
    "    # Need to check if description has been entered, GUI created project have default text, \n",
    "    #  but it is not in the metadata.\n",
    "    print('Project description: %s \\n' % (single_project.description))"
   ]
  },
  {
   "cell_type": "markdown",
   "metadata": {},
   "source": [
    "## Add members\n",
    "In the list **user\\_names** below, add some actual user names. Then run the script and they will be added to your project."
   ]
  },
  {
   "cell_type": "code",
   "execution_count": null,
   "metadata": {
    "collapsed": false
   },
   "outputs": [],
   "source": [
    "user_names =['',\n",
    "             '']\n",
    "\n",
    "new_member = {'username': [],\n",
    "             'permissions': {'write': True,\n",
    "                            'read': True,\n",
    "                            'copy': True,\n",
    "                            'execute': False,\n",
    "                            'admin': False}\n",
    "             }\n",
    "\n",
    "for name in user_names:\n",
    "    new_member['username'] = name\n",
    "    \n",
    "    API(method='POST', \\\n",
    "        path=('projects/' + single_project.id + '/members'), \\\n",
    "       data = new_member)\n"
   ]
  },
  {
   "cell_type": "markdown",
   "metadata": {},
   "source": [
    "## Additional Information\n",
    "Detailed documentation of this particular REST architectural style request is available [here](http://docs.cancergenomicscloud.org/docs/add-a-member-to-a-project)"
   ]
  }
 ],
 "metadata": {
  "kernelspec": {
   "display_name": "Python 2",
   "language": "python",
   "name": "python2"
  },
  "language_info": {
   "codemirror_mode": {
    "name": "ipython",
    "version": 2
   },
   "file_extension": ".py",
   "mimetype": "text/x-python",
   "name": "python",
   "nbconvert_exporter": "python",
   "pygments_lexer": "ipython2",
   "version": "2.7.11"
  }
 },
 "nbformat": 4,
 "nbformat_minor": 0
}
