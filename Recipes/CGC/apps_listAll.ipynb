{
 "cells": [
  {
   "cell_type": "markdown",
   "metadata": {},
   "source": [
    "# Which _apps_ are in my project?\n",
    "### Overview\n",
    "Here we focus on listing all apps within a single project. As with any **list**-type call, we will get minimal information about each app. We will show two options (A & B) of getting the same information.\n",
    "\n",
    "Note, we can also query all available apps (in all our projects).\n",
    "\n",
    "### Prerequisites\n",
    " 1. You need to be a member (or owner) of _at least one_ project.\n",
    " 2. You need your _authentication token_ and the API needs to know about it. See <a href=\"set_AUTH_TOKEN.ipynb\">**set_AUTH_TOKEN.ipynb**</a> for details.\n",
    " 3. You understand how to <a href=\"projects_listAll.ipynb\" target=\"_blank\">list</a> projects you are a member of (we will just use that call directly and pick one here).\n",
    " 4. You have at least one app in your project, maybe from <a href=\"apps_copyFromPublicApps.ipynb\" target=\"_blank\">copying one</a>\n",
    " \n",
    "### Imports and Definitions\n",
    "We will show two different options, both of which are defined in the apimethods.py file."
   ]
  },
  {
   "cell_type": "code",
   "execution_count": null,
   "metadata": {
    "collapsed": true
   },
   "outputs": [],
   "source": [
    "from defs.apimethods import *"
   ]
  },
  {
   "cell_type": "markdown",
   "metadata": {},
   "source": [
    "## (Option A) Use API() _object_\n",
    "Here we can return the apps in a specific project or all the apps in projects you are a member of. A **list**-call for apps returns the following useful *attributes*:\n",
    "* **id**     _Unique_ identifier for each app, including the latest version number\n",
    "* **name**   Name of app, maybe _non-unique_\n",
    "* **project** Project the app is in.\n",
    "* **href**   Address<sup>1</sup> of the app.\n",
    "\n",
    "<sup>1</sup> This is the address where, by using API you can get this resource"
   ]
  },
  {
   "cell_type": "code",
   "execution_count": null,
   "metadata": {
    "collapsed": false
   },
   "outputs": [],
   "source": [
    "# [USER INPUT] Set project (p_) index:\n",
    "p_index = 0                               # project to check\n",
    "\n",
    "# LIST all projects\n",
    "existing_projects = API('projects')                              \n",
    "\n",
    "# list the apps in ONE project\n",
    "my_apps = API(path='apps', query={'project': existing_projects.id[p_index]})\n",
    "\n",
    "# print up to the first 10 apps in your projects\n",
    "print('In Project (%s), you have %i apps.' % \\\n",
    "     (existing_projects.name[a_index], len(my_apps.id)))\n",
    "for ii in range(min(10,len(my_apps.id))):\n",
    "    print('App name is (%s); \\t App id is (%s)' % \\\n",
    "          (myApps.name[ii], my_apps.id[ii]) )\n",
    "print('\\n')\n",
    "    \n",
    "# list the app in ALL your projects\n",
    "my_apps_all = API(path='apps', query={'limit':100})\n",
    "\n",
    "# print up to the first 10 apps in all your projects\n",
    "print('In all your projects, you have %i apps.' % (len(my_apps_all.id)))\n",
    "for ii in range(min(10,len(my_apps_all.id))):\n",
    "    print('App name is (%s); \\t App is in project (%s)' % \\\n",
    "          (my_apps_all.name[ii], my_apps_all.project[ii]) )"
   ]
  },
  {
   "cell_type": "markdown",
   "metadata": {},
   "source": [
    "## (Option B) Use api_call() *function*\n",
    "Using the api_call() function returns the same information as above, but now as *keys* within a dictionary for each app. To start, we list the first 25 apps<sup>2</sup> you are a member of.\n",
    "\n",
    "<sup>2</sup> You will run into pagination errors if you have more than 25 apps in the project. For more description see the <a href=\"files_listAll.ipynb\" target=\"_blank\">list files</a> page"
   ]
  },
  {
   "cell_type": "code",
   "execution_count": null,
   "metadata": {
    "collapsed": false
   },
   "outputs": [],
   "source": [
    "# [USER INPUT] Set project (p_) index:\n",
    "p_index = 0                               # project to check\n",
    "\n",
    "# Short (n=26) list of projects I am a member of\n",
    "existing_projects = api_call(path='projects', method='GET', \\\n",
    "                            query={'limit':26, 'offset':0}, data=None)      \n",
    "\n",
    "# apps within my first project\n",
    "my_apps = api_call(path='apps', \\\n",
    "                   query={'limit':25, \\\n",
    "                          'project': existing_projects['items'][p_index]['id']})\n",
    "\n",
    "for items in my_apps['items']:\n",
    "    print(items)\n",
    "    \n",
    "# all my apps\n",
    "api_call(path='apps', query={'limit':25})"
   ]
  },
  {
   "cell_type": "markdown",
   "metadata": {},
   "source": [
    "## Additional Information\n",
    "Detailed documentation of this particular REST architectural style request is available [here](http://docs.cancergenomicscloud.org/docs/list-all-your-projects)"
   ]
  }
 ],
 "metadata": {
  "kernelspec": {
   "display_name": "Python 2",
   "language": "python",
   "name": "python2"
  },
  "language_info": {
   "codemirror_mode": {
    "name": "ipython",
    "version": 2
   },
   "file_extension": ".py",
   "mimetype": "text/x-python",
   "name": "python",
   "nbconvert_exporter": "python",
   "pygments_lexer": "ipython2",
   "version": "2.7.11"
  }
 },
 "nbformat": 4,
 "nbformat_minor": 0
}
