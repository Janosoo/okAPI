{
 "cells": [
  {
   "cell_type": "markdown",
   "metadata": {},
   "source": [
    "# How do I get a list of all files that _match_ a particular metadata _property_?\n",
    "\n",
    "### Overview\n",
    "Here we focus on listing all files within a single project that **match** a particular metadata property. One _use-case_ which will benefit greatly from this is:\n",
    "\n",
    " * I have _hundreds_ of files in my project\n",
    " * I want to run a task(s) which only uses _type X_ files\n",
    " * I want to query all _type X_ files with one call\n",
    "\n",
    "The other examples of doing this (e.g. the _Organizing files into a Cohort_ cells [here](../../Tutorials/CGC/batch_SAMtoolsView.ipynb) or [here](../../Tutorials/CGC/thyroid.ipynb)) are following the general strategy of:\n",
    "\n",
    " 1. List all the files (n = _N_)\n",
    " 2. Loop through the list\n",
    " 3. Split off the file extension and see if it's _feasible_\n",
    " 4. Get the metadata of any feasible files (as [here](files_detailOne.ipynb))\n",
    " 5. If the property matches, add it to a _list_ of files to process\n",
    "\n",
    "This works fine, but will result in up to **_N_+1 API calls**. Here we will show how to do this with only **one API** call and show the speed improvement.\n",
    "\n",
    "### Prerequisites\n",
    " 1. You need to be a member (or owner) of _at least one_ project.\n",
    " 2. You need your _authentication token_ and the API needs to know about it. See <a href=\"set_AUTH_TOKEN.ipynb\">**set_AUTH_TOKEN.ipynb**</a> for details.\n",
    " 3. You understand how to <a href=\"projects_listAll.ipynb\" target=\"_blank\">list</a> projects you are a member of (we will just use that call directly and pick one here).\n",
    " 4. Your project should have _many files_ inside. **PROTIP** Complete the **Tutorial** [batch\\_SAMtoolsView](../../Tutorials/CGC/batch_SAMtoolsView.ipynb) so you will have a project full of files. I used the same project name.\n",
    " \n",
    "### Imports and Definitions\n",
    "A single call is sufficient to get a file list. We will show two different options, both of which are defined in the apimethods.py file."
   ]
  },
  {
   "cell_type": "code",
   "execution_count": 1,
   "metadata": {
    "collapsed": true
   },
   "outputs": [],
   "source": [
    "from defs.apimethods import *\n",
    "import time as timer"
   ]
  },
  {
   "cell_type": "markdown",
   "metadata": {},
   "source": [
    "## Use API() _object_\n",
    "We will list all of your files, then compare\n",
    "\n",
    " * using the query by metadata call\n",
    " * looping through them to check the metadata\n",
    " \n",
    "Here we are checking two (hard-coded) metadata properties. It's possible to check as many as you'd like.\n",
    "\n",
    "#### Note\n",
    "The properies *age\\_at\\_diagnosis* and *days\\_to\\_death* are currently **not** working within the query. We are working to fix this anomaly. "
   ]
  },
  {
   "cell_type": "code",
   "execution_count": 2,
   "metadata": {
    "collapsed": false
   },
   "outputs": [
    {
     "name": "stdout",
     "output_type": "stream",
     "text": [
      "There are 198 files in your project\n",
      "\n",
      "There are 24 files matching the metadata criteria.\n",
      "Total query time (metadata query method) was 1.228818 seconds.\n"
     ]
    }
   ],
   "source": [
    "# [USER INPUT] Set project (p_) and file (f_) indices here:\n",
    "project_name = 'Batch is Super'\n",
    "metadata_property = ['reference_genome',\n",
    "                     'vital_status'\n",
    "                    ]\n",
    "metadata_value = ['HG19_Broad_variant',\n",
    "                  'Alive'\n",
    "                 ]\n",
    "\n",
    "# LIST all projects\n",
    "existing_projects = API(path='projects')                              \n",
    "if project_name in existing_projects.name:\n",
    "    p_index = existing_projects.name.index(project_name)\n",
    "else:\n",
    "    print('project does not exist, please check name.')\n",
    "    raise KeyboardInterupt\n",
    "    \n",
    "# LIST all files in the project\n",
    "my_files = API(path='files', query={'project': existing_projects.id[p_index], \\\n",
    "                                   'limit':100})\n",
    "print('There are %i files in your project' % len(my_files.name))\n",
    "\n",
    "# Query by metadata\n",
    "T0 = timer.time()\n",
    "my_matching_files = API(path='files', \\\n",
    "                        query={'project': existing_projects.id[p_index],\n",
    "                               'limit':100,\n",
    "                               ('metadata.' + metadata_property[0]):\\\n",
    "                               metadata_value[0],\n",
    "                               ('metadata.' + metadata_property[1]):\\\n",
    "                               metadata_value[1]\n",
    "                              })\n",
    "     \n",
    "print(\"\"\"\n",
    "There are %i files matching the metadata criteria.\n",
    "Total query time (metadata query method) was %f seconds.\"\"\" \\\n",
    "      % (len(my_matching_files.name), timer.time()-T0))"
   ]
  },
  {
   "cell_type": "code",
   "execution_count": 3,
   "metadata": {
    "collapsed": false
   },
   "outputs": [
    {
     "name": "stdout",
     "output_type": "stream",
     "text": [
      "\n",
      "There are 25 files matching the metadata criteria.\n",
      "Total query time (single file method) was 246.575445 seconds.\n"
     ]
    }
   ],
   "source": [
    "# SINGLE-FILE method\n",
    "T0 = timer.time()\n",
    "file_list = []\n",
    "for f_id in my_files.id:\n",
    "    single_file = API(path=('files/' + f_id))\n",
    "    if single_file.metadata[metadata_property[0]] == metadata_value[0] \\\n",
    "    and single_file.metadata[metadata_property[1]] == metadata_value[1] :\n",
    "        file_list.append(single_file.name)\n",
    "\n",
    "print(\"\"\"\n",
    "There are %i files matching the metadata criteria.\n",
    "Total query time (single file method) was %f seconds.\"\"\" \\\n",
    "      % (len(file_list)+1, timer.time()-T0))"
   ]
  },
  {
   "cell_type": "markdown",
   "metadata": {},
   "source": [
    "## Additional Information\n",
    "Detailed documentation of this particular REST architectural style request is available [here](http://docs.cancergenomicscloud.org/docs/list-files-in-a-project)"
   ]
  }
 ],
 "metadata": {
  "kernelspec": {
   "display_name": "Python 2",
   "language": "python",
   "name": "python2"
  },
  "language_info": {
   "codemirror_mode": {
    "name": "ipython",
    "version": 2
   },
   "file_extension": ".py",
   "mimetype": "text/x-python",
   "name": "python",
   "nbconvert_exporter": "python",
   "pygments_lexer": "ipython2",
   "version": "2.7.11"
  }
 },
 "nbformat": 4,
 "nbformat_minor": 0
}
