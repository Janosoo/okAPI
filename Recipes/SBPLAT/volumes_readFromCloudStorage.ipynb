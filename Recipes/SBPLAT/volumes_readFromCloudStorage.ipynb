{
 "cells": [
  {
   "cell_type": "markdown",
   "metadata": {},
   "source": [
    "# How do I mount files from my own _cloud storage_?\n",
    "### Overview\n",
    "Connecting to cloud storage facilitates sharing and leveraging bioinformatics data that is commonly stored there (details [here](http://docs.sevenbridges.com/docs/connecting-cloud-storage-overview)). Here, we show an example of **reading** files from the _Seven Bridges Platform_ from a users _Amazon Web Services_ **bucket**. \n",
    "\n",
    "### Prerequisites\n",
    " 1. You need your _authentication token_ and the API needs to know about it. See <a href=\"Setup_API_environment.ipynb\">**Setup_API_environment.ipynb**</a> for details.\n",
    " 2. You need to have an AWS account with an S3 bucket\n",
    " 3. You have some files on this bucket, e.g. by following this [recipe](volumes_writeToCloudStorage.ipynb)\n",
    " 3. You need to be a member (or owner) of a project, e.g. by following this [recipe](projects_makeNew.ipynb)\n",
    " \n",
    "### Setting up Identity and Access Management (IAM) access \n",
    "There is a detailed [tutorial](http://docs.sevenbridges.com/v1.0/docs/aws-cloud-storage-tutorial) to set up access to your buckets. Please follow that tutorials and make note of your **policy name(s)**. Also make sure to generate an _secret access key_.\n",
    "\n",
    "## Imports\n",
    "We import the _Api_ class from the official sevenbridges-python bindings below. We also define<sup>1</sup> a function to wrap the Volumes API calls.\n",
    "\n",
    "<sup>1</sup> Support for _Volumes API_ is on the immediate roadmap for the _sevenbridges-python_ library, once it is implemented the api_call() function is unnecessary."
   ]
  },
  {
   "cell_type": "code",
   "execution_count": null,
   "metadata": {
    "collapsed": true
   },
   "outputs": [],
   "source": [
    "import sevenbridges as sbg\n",
    "\n",
    "import json\n",
    "from requests import request\n",
    "\n",
    "\n",
    "def api_call(path, method='GET', query=None, data=None, token=None):\n",
    "    \n",
    "    base_url = 'https://api.sbgenomics.com/v2/storage/'\n",
    "    \n",
    "    data = json.dumps(data) if isinstance(data, dict) \\\n",
    "    or isinstance(data,list) else None\n",
    "              \n",
    "    headers = {\n",
    "        'X-SBG-Auth-Token': token,\n",
    "        'Accept': 'application/json',\n",
    "        'Content-type': 'application/json',\n",
    "    }\n",
    "    \n",
    "    response = request(method, base_url + path, params=query, \\\n",
    "                       data=data, headers=headers) \n",
    "    response_dict = json.loads(response.content) if \\\n",
    "    response.content else {}\n",
    "    \n",
    "    if response.status_code / 100 != 2:\n",
    "        print(response_dict['message'])\n",
    "        print('Error Code: %i.' % (response_dict['code']))\n",
    "        print(response_dict['more_info'])\n",
    "        raise Exception('Server responded with status code %s.' \\\n",
    "                        % response.status_code)\n",
    "    return response_dict"
   ]
  },
  {
   "cell_type": "markdown",
   "metadata": {},
   "source": [
    "## Initialize the object\n",
    "The _Api_ object needs to know your **auth\\_token** and the correct path. Here we assume you are using the .sbgrc file in your home directory. For other options see <a href=\"Setup_API_environment.ipynb\">Setup_API_environment.ipynb</a>"
   ]
  },
  {
   "cell_type": "code",
   "execution_count": null,
   "metadata": {
    "collapsed": true
   },
   "outputs": [],
   "source": [
    "# [USER INPUT] specify platform {cgc, sbg}\n",
    "prof = 'sbpla'\n",
    "\n",
    "\n",
    "config_file = sbg.Config(profile=prof)\n",
    "api = sbg.Api(config=config_file)"
   ]
  },
  {
   "cell_type": "markdown",
   "metadata": {},
   "source": [
    "## Mount the volume\n",
    "Since we have configured the IAM policy in the prior step, we can now mount the volume.\n",
    "\n",
    "#### Additional information\n",
    " * Detailed documentation of this particular REST architectural style request is available [here](http://docs.sevenbridges.com/docs/create-a-volume-v2)"
   ]
  },
  {
   "cell_type": "code",
   "execution_count": null,
   "metadata": {
    "collapsed": false
   },
   "outputs": [],
   "source": [
    "body = {\n",
    "  \"name\": \"my_volume_RO\",\n",
    "  \"service\": {\n",
    "    \"type\": \"s3\",\n",
    "    \"bucket\": \"BUCKET-NAME\",\n",
    "    \"prefix\": \"\",\n",
    "    \"credentials\": {\n",
    "      \"access_key_id\": \"INSERT ACCESS KEY ID\",\n",
    "      \"secret_access_key\": \"INSERT SECRET ACCESS KEY\"\n",
    "    },\n",
    "    \"properties\": {\n",
    "      \"sse_algorithm\": \"AES256\"\n",
    "    }\n",
    "  },\n",
    "  \"access_mode\": \"RO\"\n",
    "}\n",
    "\n",
    "response = api_call(path = 'volumes/', method = 'POST', \\\n",
    "                    token = config_file.auth_token, data = body)"
   ]
  },
  {
   "cell_type": "markdown",
   "metadata": {},
   "source": [
    "## Get details of the volume\n",
    "Let's list all our volumes and get one volume's details to make sure it's mounted as we expected.\n",
    "\n",
    "### Warning\n",
    "We've hardcoded the single_volume to detail, this could easily be selected by matching 'name' instead\n",
    "\n",
    "#### Additional information\n",
    " * Detailed documentation of these particular REST architectural style request are available [here (list)](http://docs.sevenbridges.com/docs/list-volumes-v2) and [here (details)](http://docs.sevenbridges.com/docs/get-details-of-a-volume-v2)"
   ]
  },
  {
   "cell_type": "code",
   "execution_count": null,
   "metadata": {
    "collapsed": false
   },
   "outputs": [],
   "source": [
    "my_volumes = api_call(path = 'volumes', method = 'GET', \\\n",
    "                    token = config_file.auth_token)\n",
    "for v in my_volumes['items']:\n",
    "    print(v)\n",
    "    \n",
    "\n",
    "single_volume = api_call(path = ('volumes/' + my_volumes['items'][1]['id']), \\\n",
    "                         method = 'GET', token = config_file.auth_token)\n",
    "print(single_volume)"
   ]
  },
  {
   "cell_type": "markdown",
   "metadata": {},
   "source": [
    "## Set up a new project\n",
    "We will first make an empty project, verify that there are no files in it, then mount files there.\n",
    "\n",
    "\n",
    "#### PROTIPS\n",
    " * A detailed _recipe_ for creating projects is [here](projects_makeNew.ipynb)\n",
    " * A detailed _recipe_ for listing files is [here](files_listAll.ipynb)"
   ]
  },
  {
   "cell_type": "code",
   "execution_count": null,
   "metadata": {
    "collapsed": false
   },
   "outputs": [],
   "source": [
    "# [USER INPUT] Set project name here:\n",
    "new_project_name = 'MCA'  \n",
    "\n",
    "\n",
    "# What are my funding sources?\n",
    "billing_groups = api.billing_groups.query()  \n",
    "\n",
    "# Set up the information for your new project\n",
    "new_project = {\n",
    "        'billing_group': billing_groups[0].id,\n",
    "        'description': \n",
    "    \"\"\"A project created by the API recipe (volumes_readFromCloudStorage.ipynb).\n",
    "    This also supports **markdown**\n",
    "    _Pretty cool_, right?\n",
    "    \"\"\",\n",
    "        'name': new_project_name\n",
    "}\n",
    "\n",
    "# check if this project already exists. LIST all projects and check for name match\n",
    "my_project = [p for p in api.projects.query(limit=100).all() \\\n",
    "              if p.name == new_project_name]      \n",
    "              \n",
    "if my_project:    # exploit fact that empty list is False, {list, tuple, etc} is True\n",
    "    print('A project with the name (%s) already exists, please pick a new one' \\\n",
    "          % new_project_name)\n",
    "    raise KeyboardInterrupt\n",
    "else:\n",
    "    # CREATE the new project\n",
    "    my_project = api.projects.create(name = new_project['name'], \\\n",
    "                                     billing_group = new_project['billing_group'], \\\n",
    "                                     description = new_project['description'], \\\n",
    "                                     )\n",
    "    \n",
    "    # (re)list all projects, and get your new project\n",
    "    my_project = [p for p in api.projects.query(limit=100).all() \\\n",
    "              if p.name == new_project_name][0]\n",
    "\n",
    "    print('Your new project %s has been created.' % (my_project.name))\n",
    "    if hasattr(my_project, 'description'): # need to check if description has been entered\n",
    "        print('Project description: %s \\n' % (my_project.description)) \n",
    "        \n",
    "        \n",
    "my_files = api.files.query(limit=100, project = my_project)\n",
    "if my_files.total == 0:\n",
    "    print('no files in the project')"
   ]
  },
  {
   "cell_type": "markdown",
   "metadata": {},
   "source": [
    "## Start an import job\n",
    "Spin up a job to import files to the _Seven Bridges Platform_ from your _Cloud Storage_ (Volume).\n",
    "\n",
    "### WARNING\n",
    "The file names here are hardcoded (here empty) - please adjust for your own use case.\n",
    "\n",
    "#### Additional information\n",
    " * Detailed documentation of these particular REST architectural style request are available [here](http://docs.sevenbridges.com/docs/start-an-export-job-v2)"
   ]
  },
  {
   "cell_type": "code",
   "execution_count": null,
   "metadata": {
    "collapsed": false
   },
   "outputs": [],
   "source": [
    "# [USER INPUT] Set files to import from your volume here:\n",
    "file_list = ['',\n",
    "     '', \n",
    "     ''\n",
    "     ]\n",
    "\n",
    "# Loop through selected files, start one job for each.\n",
    "for f_name in file_list:\n",
    "    body = {\n",
    "        \"source\":{\n",
    "            \"volume\": single_volume['id'],\n",
    "            \"location\": f_name\n",
    "        },\n",
    "        \"destination\":{  \n",
    "            \"project\":my_project.id,\n",
    "            \"name\": f_name\n",
    "        },\n",
    "        \"overwrite\": True\n",
    "    }   \n",
    "    \n",
    "    response = api_call(path = 'imports', method = 'POST', \\\n",
    "                    token = config_file.auth_token, data = body)"
   ]
  },
  {
   "cell_type": "markdown",
   "metadata": {},
   "source": [
    "## List and detail import jobs\n",
    "The first call (list) is sufficient to keep track of the job progress in \n",
    "\n",
    "```python\n",
    "    import_jobs['items'][0]['state']\n",
    "```\n",
    "\n",
    "The second call reveals more detail about the job.\n",
    "\n",
    "#### Additional information\n",
    " * Detailed documentation of these particular REST architectural style request are available [here](http://docs.sevenbridges.com/docs/list-import-jobs-v2) and [here](http://docs.sevenbridges.com/docs/get-details-of-an-import-job-v2)"
   ]
  },
  {
   "cell_type": "code",
   "execution_count": null,
   "metadata": {
    "collapsed": false
   },
   "outputs": [],
   "source": [
    "import_jobs = api_call(path = 'imports', method = 'GET', \\\n",
    "                    token = config_file.auth_token)\n",
    "\n",
    "print(\"Example of information available in the list call:\")\n",
    "print(import_jobs['items'][0])\n",
    "\n",
    "job_details = api_call(path = ('imports/' + import_jobs['items'][0]['id']), \\\n",
    "                      method = 'GET', token = config_file.auth_token)\n",
    "\n",
    "print(\"\\n Example of information available in the detail call:\")\n",
    "print(job_details)"
   ]
  }
 ],
 "metadata": {
  "kernelspec": {
   "display_name": "Python 2",
   "language": "python",
   "name": "python2"
  },
  "language_info": {
   "codemirror_mode": {
    "name": "ipython",
    "version": 2
   },
   "file_extension": ".py",
   "mimetype": "text/x-python",
   "name": "python",
   "nbconvert_exporter": "python",
   "pygments_lexer": "ipython2",
   "version": "2.7.11"
  }
 },
 "nbformat": 4,
 "nbformat_minor": 0
}
