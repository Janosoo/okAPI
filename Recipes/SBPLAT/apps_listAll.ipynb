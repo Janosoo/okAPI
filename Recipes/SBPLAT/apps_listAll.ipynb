{
 "cells": [
  {
   "cell_type": "markdown",
   "metadata": {},
   "source": [
    "# Which _apps_ are in my project?\n",
    "### Overview\n",
    "Here we focus on listing all apps within a single project. As with any **list**-type call, we will get minimal information about each apps. There are two versions of this call:\n",
    "\n",
    " 1. (default) **paginated** call that will return 50 apps\n",
    " 2. **all-records** call that will page through and return all apps .\n",
    "\n",
    "Note, we can also query all available apps (in all our projects).\n",
    "\n",
    "### Prerequisites\n",
    " 1. You need to be a member (or owner) of _at least one_ project.\n",
    " 2. You need your _authentication token_ and the API needs to know about it. See <a href=\"Setup_API_environment.ipynb\">**Setup_API_environment.ipynb**</a> for details.\n",
    " 3. You understand how to <a href=\"projects_listAll.ipynb\" target=\"_blank\">list</a> projects you are a member of (we will just use that call directly and pick one here).\n",
    " 4. You have at least one app in your project, maybe from <a href=\"apps_copyFromPublicApps.ipynb\" target=\"_blank\">copying one</a>\n",
    " \n",
    "## Imports\n",
    "We import the _Api_ class from the official sevenbridges-python bindings below."
   ]
  },
  {
   "cell_type": "code",
   "execution_count": null,
   "metadata": {
    "collapsed": true
   },
   "outputs": [],
   "source": [
    "import sevenbridges as sbg"
   ]
  },
  {
   "cell_type": "markdown",
   "metadata": {},
   "source": [
    "## Initialize the object\n",
    "The _Api_ object needs to know your **auth\\_token** and the correct path. Here we assume you are using the .sbgrc file in your home directory. For other options see <a href=\"Setup_API_environment.ipynb\">Setup_API_environment.ipynb</a>"
   ]
  },
  {
   "cell_type": "code",
   "execution_count": null,
   "metadata": {
    "collapsed": true
   },
   "outputs": [],
   "source": [
    "# User input: specify platform {cgc, sbg}\n",
    "prof = 'sbg'\n",
    "\n",
    "config_config_file = sbg.Config(profile=prof)\n",
    "api = sbg.Api(config=config_config_file)"
   ]
  },
  {
   "cell_type": "markdown",
   "metadata": {},
   "source": [
    "## List all apps within a project\n",
    "Here we can return the apps in a specific project or all the apps in projects you are a member of. A **list**-call for apps returns the following useful *attributes*:\n",
    "* **id**     _Unique_ identifier for each app, including the latest version number\n",
    "* **name**   Name of app, maybe _non-unique_\n",
    "* **project** Project the app is in.\n",
    "* **href**   Address<sup>1</sup> of the app.\n",
    "\n",
    "<sup>1</sup> This is the address where, by using API you can get this resource"
   ]
  },
  {
   "cell_type": "markdown",
   "metadata": {},
   "source": [
    "By passing a **project_id** into the _api.apps.query()_ below, we will get the apps **inside that project**."
   ]
  },
  {
   "cell_type": "code",
   "execution_count": null,
   "metadata": {
    "collapsed": false
   },
   "outputs": [],
   "source": [
    "# [USER INPUT] Set project name:\n",
    "project_name = 'Keep on Smiling'\n",
    "\n",
    "\n",
    "# LIST all projects and check for name match\n",
    "my_project = [p for p in api.projects.query(limit=100).all() \\\n",
    "              if p.name == project_name]   \n",
    "\n",
    "if not my_project:    # exploit fact that empty list is False, {list, tuple, etc} is True\n",
    "    print('The project named (%s) does not exist, please check spelling (especially trailing spaces)' \\\n",
    "          % project_name)\n",
    "    raise KeyboardInterrupt\n",
    "else:\n",
    "    my_project = my_project[0]\n",
    "    # list the apps in ONE project    \n",
    "    my_apps = api.apps.query(project = my_project.id, limit=100)\n",
    "    print('   In Project (%s), you have %i apps.' % (my_project.name, my_apps.total))\n",
    "\n",
    "    for aa in my_apps.all(): \n",
    "          print('App name is (%s); \\t App id is (%s)' % (aa.name, aa.id))\n",
    "    print('\\n')"
   ]
  },
  {
   "cell_type": "markdown",
   "metadata": {},
   "source": [
    "By **not** passing any **project_id** into the _api.apps.query()_ below, we will get all the apps for **any project** you are a member of."
   ]
  },
  {
   "cell_type": "code",
   "execution_count": null,
   "metadata": {
    "collapsed": false
   },
   "outputs": [],
   "source": [
    "# list the app in ALL your projects\n",
    "my_apps_all_projects = api.apps.query(limit=100)\n",
    "\n",
    "print('   In all your projects, you have %i apps.' % (my_apps_all_projects.total))\n",
    "    \n",
    "for aa in my_apps_all_projects.all(): \n",
    "      print('App name is (%s); \\t App id is (%s)' % (aa.name, aa.id))\n",
    "print('\\n')"
   ]
  },
  {
   "cell_type": "markdown",
   "metadata": {},
   "source": [
    "## Additional Information\n",
    "Detailed documentation of this particular REST architectural style request is available [here](http://docs.sevenbridges.com/docs/list-all-your-projects)"
   ]
  }
 ],
 "metadata": {
  "kernelspec": {
   "display_name": "Python 2",
   "language": "python",
   "name": "python2"
  },
  "language_info": {
   "codemirror_mode": {
    "name": "ipython",
    "version": 2
   },
   "file_extension": ".py",
   "mimetype": "text/x-python",
   "name": "python",
   "nbconvert_exporter": "python",
   "pygments_lexer": "ipython2",
   "version": "2.7.11"
  }
 },
 "nbformat": 4,
 "nbformat_minor": 0
}
