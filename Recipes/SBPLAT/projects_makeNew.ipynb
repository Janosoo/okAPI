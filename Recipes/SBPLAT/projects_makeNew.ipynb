{
 "cells": [
  {
   "cell_type": "markdown",
   "metadata": {},
   "source": [
    "# How do I make a new _project_?\n",
    "### Overview\n",
    "There are a number of API calls related to projects. Here we focus on _creating a **new**_ project. Along the way, we will also show how to [list billing groups](http://docs.cancergenomicscloud.org/docs/list-your-billing-groups).\n",
    "\n",
    "### Prerequisites\n",
    " 1. You need to be a member (or owner) of _at least one_ project.\n",
    " 2. You need your _authentication token_ and the API needs to know about it. See <a href=\"Setup_API_environment.ipynb\">**Setup_API_environment.ipynb**</a> for details.\n",
    "  3. You understand how to <a href=\"projects_listAll.ipynb\" target=\"_blank\">list</a> projects you are a member of (we will just use that call directly here).\n",
    "  \n",
    "## Imports\n",
    "We import the _Api_ class from the official sevenbridges-python bindings below."
   ]
  },
  {
   "cell_type": "code",
   "execution_count": null,
   "metadata": {
    "collapsed": true
   },
   "outputs": [],
   "source": [
    "import sevenbridges as sbg"
   ]
  },
  {
   "cell_type": "markdown",
   "metadata": {},
   "source": [
    "## Initialize the object\n",
    "The _Api_ object needs to know your **auth\\_token** and the correct path. Here we assume you are using the .sbgrc file in your home directory. For other options see <a href=\"Setup_API_environment.ipynb\">Setup_API_environment.ipynb</a>"
   ]
  },
  {
   "cell_type": "code",
   "execution_count": null,
   "metadata": {
    "collapsed": true
   },
   "outputs": [],
   "source": [
    "# [USER INPUT] specify platform {cgc, sbg}\n",
    "prof = 'sbpla'\n",
    "\n",
    "config_config_file = sbg.Config(profile=prof)\n",
    "api = sbg.Api(config=config_config_file)"
   ]
  },
  {
   "cell_type": "markdown",
   "metadata": {},
   "source": [
    "## Make a new project using your first billing group\n",
    "We start by listing all of your projects and your billing groups. Next we create the JSON that will be passed to the API to create the project. The dictionary should include:\n",
    "* **billing_group** *Billing group* that will be charged for this project\n",
    "* **description**   (optional) Project description\n",
    "* **name**   Name of the project, may be *non-unique*<sup>1</sup>\n",
    "* **tags**   List of tags, currently unused. **cannot** be set while creating project\n",
    "\n",
    "**After** creating the project, you can re-check the project list and get *additional* details assigned by SBPLAT, including:\n",
    "\n",
    "* **id**     _Unique_ identifier for the project, generated based on Project Name\n",
    "* **href**   Address<sup>2</sup> of the project.\n",
    "* **type**   (unimportant) this is always equal to 'v2'\n",
    "\n",
    "<sup>1</sup> Please **don't** use non-unique *project names*. However, if you insist (on the GUI), the backend will allow it and assign a unique **id** to you project.\n",
    "<sup>2</sup> This is the address where, by using API you can get this resource"
   ]
  },
  {
   "cell_type": "code",
   "execution_count": null,
   "metadata": {
    "collapsed": false
   },
   "outputs": [],
   "source": [
    "# [USER INPUT] Set project name here:\n",
    "new_project_name = 'Michael Diamond'                          \n",
    "      \n",
    "    \n",
    "# What are my funding sources?\n",
    "billing_groups = api.billing_groups.query()  \n",
    "\n",
    "# Pick the first group (arbitrary)\n",
    "print((billing_groups[0].name + \\\n",
    "       ' will be charged for computation and storage (if applicable) for your new project'))\n",
    "\n",
    "# Set up the information for your new project\n",
    "new_project = {\n",
    "        'billing_group': billing_groups[0].id,\n",
    "        'description': \"\"\"A project created by the API recipe (projects_makeNew.ipynb).\n",
    "                      This also supports **markdown**\n",
    "                      _Pretty cool_, right?\n",
    "                   \"\"\",\n",
    "        'name': new_project_name\n",
    "}\n",
    "\n",
    "# check if this project already exists. LIST all projects and check for name match\n",
    "my_project = [p for p in api.projects.query(limit=100).all() \\\n",
    "              if p.name == new_project_name]      \n",
    "              \n",
    "if my_project:    # exploit fact that empty list is False, {list, tuple, etc} is True\n",
    "    print('A project with the name (%s) already exists, please choose a unique name' \\\n",
    "          % new_project_name)\n",
    "    raise KeyboardInterrupt\n",
    "else:\n",
    "    # CREATE the new project\n",
    "    my_project = api.projects.create(name = new_project['name'], \\\n",
    "                                     billing_group = new_project['billing_group'], \\\n",
    "                                     description = new_project['description'], \\\n",
    "                                     )\n",
    "    \n",
    "    # (re)list all projects, and get your new project\n",
    "    my_project = [p for p in api.projects.query(limit=100).all() \\\n",
    "              if p.name == new_project_name][0]\n",
    "\n",
    "    print('Your new project %s has been created.' % (my_project.name))\n",
    "    if hasattr(my_project, 'description'): # need to check if description has been entered\n",
    "        print('Project description: %s \\n' % (my_project.description)) "
   ]
  },
  {
   "cell_type": "markdown",
   "metadata": {},
   "source": [
    "## Additional Information\n",
    "Detailed documentation of this particular REST architectural style request is available [here](http://docs.sevenbridges.com/docs/create-a-new-project)"
   ]
  }
 ],
 "metadata": {
  "kernelspec": {
   "display_name": "Python 2",
   "language": "python",
   "name": "python2"
  },
  "language_info": {
   "codemirror_mode": {
    "name": "ipython",
    "version": 2
   },
   "file_extension": ".py",
   "mimetype": "text/x-python",
   "name": "python",
   "nbconvert_exporter": "python",
   "pygments_lexer": "ipython2",
   "version": "2.7.11"
  }
 },
 "nbformat": 4,
 "nbformat_minor": 0
}
