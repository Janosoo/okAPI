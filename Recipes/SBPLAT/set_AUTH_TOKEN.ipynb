{
 "cells": [
  {
   "cell_type": "markdown",
   "metadata": {},
   "source": [
    "# How do I _set_ my AUTH_TOKEN?\n",
    "### Overview\n",
    "The API needs to know who you are so we can maintain data security. If you don't set it, all calls will fail and _you're gonna to have a bad time_. There two ways to do this. We **strongly** recommend the first option as it will avoid copying your token (e.g. when pushing to git).\n",
    "\n",
    "1. Set an **environmental variable**. Log into the [Seven Bridges Platform](https://igor.sbgenomics.com/), then your personal token, can be obtained [here](https://igor.sbgenomics.com/account/#developer). \n",
    " * Go into Terminal and edit your bash profile:\n",
    "``` bash\n",
    "vi ~/.bashrc\n",
    "```\n",
    "\n",
    " * This will open the vi text editor. Press \"i\" to go into _insert_ mode, Enter the line (replacing 'your_actual_token' with your token in single quotes).\n",
    "```\n",
    "AUTH_TOKEN = 'your_actual_token'\n",
    "```\n",
    "\n",
    " * Then press ESC and type ':wq' to save changes. Then enter\n",
    "``` bash\n",
    "source ~/.bashrc\n",
    "jupyter notebook\n",
    "```\n",
    "\n",
    " * Check that all is well with the call below\n",
    "\n",
    "2. **Pass** your token to every API call. Go into the _recipes_ and _tutorials_ and change any\n",
    "```python\n",
    "my_variable = API(path='blah')\n",
    "```\n",
    "to\n",
    "```python\n",
    "my_variable = API(path='blah',token='your_actual_token')\n",
    "```"
   ]
  },
  {
   "cell_type": "code",
   "execution_count": null,
   "metadata": {
    "collapsed": false
   },
   "outputs": [],
   "source": [
    "from defs.apimethods import *\n",
    "\n",
    "if 'AUTH_TOKEN' in os.environ.keys():\n",
    "    if os.environ['AUTH_TOKEN'] is not 'your_actual_token':\n",
    "        my_username = API(path='user')\n",
    "        print('Congratulations %s %s, you have set your AUTH_TOKEN as an environmental variable!' \\\n",
    "             % (my_username.first_name, my_username.last_name))"
   ]
  },
  {
   "cell_type": "markdown",
   "metadata": {
    "collapsed": false
   },
   "source": [
    "## Additional Information\n",
    "Detailed documentation of this particular REST architectural style request is available [here](http://docs.sevenbridges.com/docs/get-my-information)"
   ]
  }
 ],
 "metadata": {
  "kernelspec": {
   "display_name": "Python 2",
   "language": "python",
   "name": "python2"
  },
  "language_info": {
   "codemirror_mode": {
    "name": "ipython",
    "version": 2
   },
   "file_extension": ".py",
   "mimetype": "text/x-python",
   "name": "python",
   "nbconvert_exporter": "python",
   "pygments_lexer": "ipython2",
   "version": "2.7.11"
  }
 },
 "nbformat": 4,
 "nbformat_minor": 0
}
