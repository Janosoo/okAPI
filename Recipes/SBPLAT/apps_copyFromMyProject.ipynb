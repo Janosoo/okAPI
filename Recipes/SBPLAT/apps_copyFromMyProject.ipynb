{
 "cells": [
  {
   "cell_type": "markdown",
   "metadata": {
    "deletable": true,
    "editable": true
   },
   "source": [
    "# How do I _copy_ an app from one of my other _projects_?\n",
    "## Overview\n",
    "Apps include both tools (individual bioinformatics utilities) and workflows (chains or pipelines of connected tools). Apps are located in one of two places: the [Seven Bridges Public Apps repository](https://igor.sbgenomics.com/public/apps) or a user-created project.\n",
    "\n",
    "## Objective\n",
    "You can copy an app from the Public App repository or from a project of which you're a member. Here, we focus on **copying an app from another project**. [[reference](http://docs.sevenbridges.com/docs/copy-an-app)]\n",
    "\n",
    "## Procedure\n",
    "1. We'll list all our projects.\n",
    "2. Then, we'll list the apps within the first project on the list generated above. \n",
    "3. Lastly, we'll copy an app from the first project to the second project in our list of projects.\n",
    "\n",
    "## Prerequisites\n",
    " 1. You need to be a member (or owner) of at least one project. Learn more about creating a new project. [[recipe](projects_makeNew.ipynb)] [[reference](http://docs.sevenbridges.com/docs/create-a-new-project)].\n",
    " 2. You need your **authentication token** and the API needs to know about it. See <a href=\"Setup_API_environment.ipynb\">Setup_API_environment.ipynb</a> for details. Learn more about [obtaining your authentication token](http://docs.sevenbridges.com/v1.0/docs/get-your-authentication-token).\n",
    " 3. You understand how to list projects of which you are a member. We will use this call directly to select a project below. [[recipe](projects_listAll.ipynb)] [[reference](http://docs.sevenbridges.com/docs/list-all-your-projects)]\n",
    " 4. You have at least one app in your selected project. If not, you can copy one from the Public Apps repository. [[recipe](apps_copyFromPublicApps.ipynb)] [[reference](http://docs.sevenbridges.com/docs/copy-an-app)]\n",
    " 5. You understand how to list apps within a project. We will use this call below and select an app. [[recipe](apps_listAll.ipynb)] [[reference](http://docs.sevenbridges.com/docs/list-all-apps-available-to-you)]\n",
    " \n",
    "Note that as with all okAPI recipes, this recipe makes use of the [Seven Bridges Public API Python library](../Tutorials/SBPLAT/Setup_API_environment.ipynb)\n",
    " \n",
    "## Imports\n",
    "We import the `Api` class from the official `sevenbridges-python` bindings below."
   ]
  },
  {
   "cell_type": "code",
   "execution_count": null,
   "metadata": {
    "collapsed": false,
    "deletable": true,
    "editable": true
   },
   "outputs": [],
   "source": [
    "import sevenbridges as sbg"
   ]
  },
  {
   "cell_type": "markdown",
   "metadata": {
    "deletable": true,
    "editable": true
   },
   "source": [
    "## Initialize the object\n",
    "The `Api` object needs to know your **auth\\_token** and the correct path. Here we assume you are using the .sbgrc file in your home directory. For other options see <a href=\"Setup_API_environment.ipynb\">Setup_API_environment.ipynb</a>"
   ]
  },
  {
   "cell_type": "code",
   "execution_count": null,
   "metadata": {
    "collapsed": false,
    "deletable": true,
    "editable": true
   },
   "outputs": [],
   "source": [
    "# [USER INPUT] specify platform {cgc, sbg}\n",
    "prof = 'sbpla'\n",
    "\n",
    "\n",
    "config_file = sbg.Config(profile=prof)\n",
    "api = sbg.Api(config=config_file)"
   ]
  },
  {
   "cell_type": "markdown",
   "metadata": {
    "deletable": true,
    "editable": true
   },
   "source": [
    "## Copy an app you can access\n",
    "First, we'll list all our projects. Then, we'll list the apps within the first project. Lastly, we'll copy an app from the first project to the second project. (Note that here you can also choose to copy a specific version of the app, by changing the last character of the following variable to the version you want):\n",
    "```python\n",
    "    source_app.id\n",
    "```\n",
    "The critical information for this `POST` request is the **app_id**. Note, you are **not** allowed to copy the same app **and** assign the same name<sup>1</sup> more than once. If you change the name, it is ok. Here we are using the App's **ID**, alternatively you can match bases on the App's **name** as shown here [apps_copyFromPublicApps](apps_copyFromPublicApps.ipynb).\n",
    "\n",
    "To make these results very obvious, use an empty project as your my\\_project (e.g. your <a href=projects_makeNew.ipynb> cookbook example project</a>) or add the _name_ arguement to something ridiculous like 'Orange Mocha Frapachino Maker'<sup>2</sup>\n",
    "\n",
    "### Warning on the NAME argument\n",
    "When copying apps, it is also possible to specify the **name** using\n",
    "\n",
    "```python\n",
    "    my_new_app = my_app_source.copy(project = my_project, name = my_app_source.name)\n",
    "```\n",
    "\n",
    "However, we caution that this can lead to conflicts with similarly named apps. Unless you are _certain_ that you want to set a specific, **different** app name, _please_ omit the name argument. It will still inherit the name from the app.\n",
    "\n",
    "```python\n",
    "    my_new_app = my_app_source.copy(project = my_project)\n",
    "```\n",
    "\n",
    "\n",
    "<sup>1</sup> Unlike files, apps are accesssible **both** *within* a project (here the Public Reference project) **and** by a *visibility* property (which may be set to 'public')\n",
    "\n",
    "<sup>2</sup> Note that setting the **name** of an app, actually changes the **id**. This will be fixed sometime in the future."
   ]
  },
  {
   "cell_type": "code",
   "execution_count": null,
   "metadata": {
    "collapsed": false,
    "deletable": true,
    "editable": true
   },
   "outputs": [],
   "source": [
    "# [USER INPUT] Set project names and app_id here:\n",
    "source_project_name = 'Keep on Smiling'\n",
    "my_project_name = 'cicipici'\n",
    "app_id = 'anurag.sethi/keep-on-smiling/whole-exome-sequencing-gatk-2-3-9-lite'\n",
    "\n",
    "\n",
    "# Identify source and target (my_project) projects\n",
    "source_project = [p for p in api.projects.query(limit=100).all()\n",
    "              if p.name == source_project_name]\n",
    "my_project = [p for p in api.projects.query(limit=100).all()\n",
    "              if p.name == my_project_name]\n",
    "\n",
    "\n",
    "# Double-check that both projects exist\n",
    "if not source_project:\n",
    "    print('Source project (%s) not found, check spelling' % source_project_name)\n",
    "    raise KeyboardInterrupt\n",
    "else:\n",
    "    source_project = source_project[0]\n",
    "    \n",
    "if not my_project:\n",
    "    print('Target project (%s) not found, check spelling' % my_project_name)\n",
    "    raise KeyboardInterrupt\n",
    "else:\n",
    "    my_project = my_project[0]\n",
    "    \n",
    "my_apps = api.apps.query(project = my_project.id, limit=100)\n",
    "source_app = [a for a in api.apps.query(\n",
    "        project = source_project.id, limit=100\n",
    "    ).all() if a.id == app_id][0]\n",
    "\n",
    "duplicate_app = [a for a in my_apps.all() if a.name == source_app.name]\n",
    "\n",
    "if duplicate_app:\n",
    "    print('App already exists in second project, please try another app')\n",
    "else:\n",
    "    print('App (%s) does not exist in Project (%s); copying now' % \\\n",
    "          (source_app.name, my_project.name))\n",
    "    \n",
    "    new_app = source_app.copy(\n",
    "        project = my_project.id\n",
    "    )\n",
    "        \n",
    "    # re-list apps in target project to verify the copy worked\n",
    "    my_app_names = [\n",
    "        a.name for a in api.apps.query(\n",
    "            project = my_project.id, limit=100\n",
    "        ).all()\n",
    "    ]\n",
    "    \n",
    "    if source_app.name in my_app_names:\n",
    "        print('Sucessfully copied one app!')\n",
    "    else:\n",
    "        print('Something went wrong...')  "
   ]
  },
  {
   "cell_type": "markdown",
   "metadata": {
    "deletable": true,
    "editable": true
   },
   "source": [
    "## Additional Information\n",
    "Detailed documentation of this particular REST architectural style request is available [here](http://docs.sevenbridges.com/docs/copy-an-app)."
   ]
  }
 ],
 "metadata": {
  "kernelspec": {
   "display_name": "Python 3",
   "language": "python",
   "name": "python3"
  },
  "language_info": {
   "codemirror_mode": {
    "name": "ipython",
    "version": 3
   },
   "file_extension": ".py",
   "mimetype": "text/x-python",
   "name": "python",
   "nbconvert_exporter": "python",
   "pygments_lexer": "ipython3",
   "version": "3.5.2"
  }
 },
 "nbformat": 4,
 "nbformat_minor": 0
}
