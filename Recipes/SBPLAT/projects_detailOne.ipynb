{
 "cells": [
  {
   "cell_type": "markdown",
   "metadata": {},
   "source": [
    "# What are the details of one of my _projects_?\n",
    "### Overview\n",
    "There are a number of API calls related to projects. Here we focus on _getting the details_ of a single project. As with any **detail**-type call, we will get extensive information about one project but must first know that project's id. We will show two options (A & B) of getting the same information.\n",
    "\n",
    "### Prerequisites\n",
    " 1. You need to be a member (or owner) of _at least one_ project.\n",
    " 2. You need your _authentication token_ and the API needs to know about it. See <a href=\"set_AUTH_TOKEN.ipynb\">**set_AUTH_TOKEN.ipynb**</a> for details.\n",
    " 3. You understand how to <a href=\"projects_listAll.ipynb\" target=\"_blank\">list</a> projects you are a member of (we will just use that call directly here).\n",
    " \n",
    "### Imports and Definitions\n",
    " A single call is sufficient to get project details. We will show two different options, both of which are defined in the apimethods.py file."
   ]
  },
  {
   "cell_type": "code",
   "execution_count": null,
   "metadata": {
    "collapsed": true
   },
   "outputs": [],
   "source": [
    "from defs.apimethods import *"
   ]
  },
  {
   "cell_type": "markdown",
   "metadata": {},
   "source": [
    "## (Option A) Use API() _object_\n",
    "We start by listing all of your projects, then get more information on the first one. A **detail**-call for projects returns the following *attributes*:\n",
    "* **description** The user specified project description\n",
    "* **id**     _Unique_ identifier for the project, generated based on Project Name\n",
    "* **name**   Name of project specified by the user, maybe _non-unique_\n",
    "* **href**   Address<sup>1</sup> of the project.\n",
    "* **tags**   List of tags, currently tags[0] = 'tcga' if protected data is used\n",
    "* **type**   (unimportant) this is always equal to 'v2'\n",
    "* **flag**   (unimportant) this is set by the object constructor, here always 'longList':False \n",
    "\n",
    "<sup>1</sup> This is the address where, by using API you can get this resource"
   ]
  },
  {
   "cell_type": "code",
   "execution_count": null,
   "metadata": {
    "collapsed": false
   },
   "outputs": [],
   "source": [
    "# Project index\n",
    "p_index = 0\n",
    "\n",
    "existing_projects = API(path='projects')                                 # LIST all projects\n",
    "single_project = API(path=('projects/'+ existing_projects.id[p_index]))  # DETAIL first project\n",
    "\n",
    "print('You have selected project (%s).' % (single_project.name))\n",
    "if hasattr(single_project, 'description'):       \n",
    "    # Need to check if description has been entered, GUI created project have default text, \n",
    "    #  but it is not in the metadata.\n",
    "    print('Project description: %s \\n' % (single_project.description)) "
   ]
  },
  {
   "cell_type": "markdown",
   "metadata": {},
   "source": [
    "## (Option B) Use api_call() *function*\n",
    "Using the api_call() function returns the same information as above, but now as *keys* within a dictionary for each<sup>2</sup> project. Here we also have listed all projects with the same call. \n",
    "\n",
    "<sup>2</sup> Note that each entry in the 'items' list has the complete information for a single member, unlike the object above which organizes and concantenates all the dictionaries."
   ]
  },
  {
   "cell_type": "code",
   "execution_count": null,
   "metadata": {
    "collapsed": false
   },
   "outputs": [],
   "source": [
    "# Project index\n",
    "p_index = 0\n",
    "\n",
    "# LIST some (n=3) projects\n",
    "existing_projects = api_call(path='projects', method='GET', \\\n",
    "                            query={'limit':3, 'offset':0}, data=None)\n",
    "# DETAIL first project\n",
    "single_project = api_call(path=('projects/' + existing_projects['items'][p_index]['id']))\n",
    "print(single_project)"
   ]
  },
  {
   "cell_type": "markdown",
   "metadata": {},
   "source": [
    "## Additional Information\n",
    "Detailed documentation of this particular REST architectural style request is available [here](http://docs.sevenbridges.com/docs/get-project-details)"
   ]
  }
 ],
 "metadata": {
  "kernelspec": {
   "display_name": "Python 2",
   "language": "python",
   "name": "python2"
  },
  "language_info": {
   "codemirror_mode": {
    "name": "ipython",
    "version": 2
   },
   "file_extension": ".py",
   "mimetype": "text/x-python",
   "name": "python",
   "nbconvert_exporter": "python",
   "pygments_lexer": "ipython2",
   "version": "2.7.11"
  }
 },
 "nbformat": 4,
 "nbformat_minor": 0
}
