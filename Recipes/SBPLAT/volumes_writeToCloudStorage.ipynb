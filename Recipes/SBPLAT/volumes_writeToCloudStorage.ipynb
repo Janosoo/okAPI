{
 "cells": [
  {
   "cell_type": "markdown",
   "metadata": {},
   "source": [
    "# How do I write files to my own _cloud storage_?\n",
    "### Overview\n",
    "Connecting to cloud storage facilitates sharing and leveraging bioinformatics data that is commonly stored there (details [here](http://docs.sevenbridges.com/docs/connecting-cloud-storage-overview)). Here, we show an example of **writing** files from the _Seven Bridges Platform_ to a users _Amazon Web Services_ **bucket**. \n",
    "\n",
    "### Prerequisites\n",
    " 1. You need your _authentication token_ and the API needs to know about it. See <a href=\"Setup_API_environment.ipynb\">**Setup_API_environment.ipynb**</a> for details.\n",
    " 2. You need to have an AWS account with an S3 bucket\n",
    " 3. You need to be a member (or owner) of a project that has some files in it, e.g. if you followed this [recipe](files_copyFromPublicReference.ipynb)\n",
    " \n",
    "### Setting up Identity and Access Management (IAM) access \n",
    "There is a detailed [tutorial](http://docs.sevenbridges.com/v1.0/docs/aws-cloud-storage-tutorial) to set up access to your buckets. Please follow that tutorials and make note of your **policy name(s)**. Also make sure to generate an _secret access key_.\n",
    "\n",
    "## Imports\n",
    "We import the _Api_ class from the official sevenbridges-python bindings below."
   ]
  },
  {
   "cell_type": "code",
   "execution_count": null,
   "metadata": {
    "collapsed": true
   },
   "outputs": [],
   "source": [
    "import sevenbridges as sbg"
   ]
  },
  {
   "cell_type": "markdown",
   "metadata": {},
   "source": [
    "## Initialize the object\n",
    "The _Api_ object needs to know your **auth\\_token** and the correct path. Here we assume you are using the .sbgrc file in your home directory. For other options see <a href=\"Setup_API_environment.ipynb\">Setup_API_environment.ipynb</a>"
   ]
  },
  {
   "cell_type": "code",
   "execution_count": null,
   "metadata": {
    "collapsed": true
   },
   "outputs": [],
   "source": [
    "# [USER INPUT] specify platform {cgc, sbg}\n",
    "prof = 'sbpla'\n",
    "\n",
    "\n",
    "config_file = sbg.Config(profile=prof)\n",
    "api = sbg.Api(config=config_file)"
   ]
  },
  {
   "cell_type": "markdown",
   "metadata": {},
   "source": [
    "## Mount the volume\n",
    "Since we have configured the IAM policy in the prior step, we can now mount the volume. Make sure to **replace** (BUCKET-NAME, INSERT ACCESS KEY ID, and INSERT SECRET ACCESS KEY) below\n",
    "\n",
    "### Warning\n",
    "You only need to mount a volume **once**. If you have already done this, then skip this cell and go to _Get details of the volume_\n",
    "\n",
    "#### Additional information\n",
    " * Detailed documentation of this particular REST architectural style request is available [here](http://docs.sevenbridges.com/docs/create-a-volume-v2)"
   ]
  },
  {
   "cell_type": "code",
   "execution_count": null,
   "metadata": {
    "collapsed": false
   },
   "outputs": [],
   "source": [
    "volume_import = api.volumes.create_s3_volume(\n",
    "    name='my_volume_RW', \n",
    "    bucket='BUCKET-NAME',\n",
    "    access_key_id='INSERT ACCESS KEY ID',\n",
    "    secret_access_key = 'INSERT SECRET ACCESS KEY',\n",
    "    access_mode='RW')"
   ]
  },
  {
   "cell_type": "markdown",
   "metadata": {},
   "source": [
    "## Get details of the volume\n",
    "Let's list all our volumes and get one volume's details to make sure it's mounted as we expected.\n",
    "\n",
    "### Warning\n",
    "We've hardcoded the single_volume to detail, this could easily be selected by matching 'name' instead\n",
    "\n",
    "#### Additional information\n",
    " * Detailed documentation of these particular REST architectural style request are available [here (list)](http://docs.sevenbridges.com/docs/list-volumes-v2) and [here (details)](http://docs.sevenbridges.com/docs/get-details-of-a-volume-v2)"
   ]
  },
  {
   "cell_type": "code",
   "execution_count": null,
   "metadata": {
    "collapsed": false
   },
   "outputs": [],
   "source": [
    "# [USER INPUT] Set volume name here:\n",
    "volume_name = 'my_volume_RW'  \n",
    "\n",
    "\n",
    "all_volumes = api.volumes.query()\n",
    "\n",
    "my_volume = [v for v in all_volumes.all() \n",
    "            if v.name == volume_name]\n",
    "\n",
    "if not my_volume:\n",
    "    print('Volume {} does not exist, check name / mounting'\n",
    "          .format(volume_name))\n",
    "    raise KeyboardInterrupt\n",
    "else:\n",
    "    my_volume = my_volume[0]\n",
    "\n",
    "print(my_volume.name)\n",
    "print(dir(my_volume))"
   ]
  },
  {
   "cell_type": "markdown",
   "metadata": {},
   "source": [
    "## Get some files to move\n",
    "Here we pick a project and a few files to move. In case you don't have any files, you could add them via the [GUI](http://docs.sevenbridges.com/docs/copy-files-using-the-visual-interface) or an API [recipe](files_copyFromPublicReference.ipynb). \n",
    "\n",
    "#### PROTIPS\n",
    " * A detailed _recipe_ for listing projects is [here](projects_listAll.ipynb)\n",
    " * A detailed _recipe_ for listing files is [here](files_listAll.ipynb)"
   ]
  },
  {
   "cell_type": "code",
   "execution_count": null,
   "metadata": {
    "collapsed": false
   },
   "outputs": [],
   "source": [
    "# [USER INPUT] Set project name here:\n",
    "project_name = 'Azzurri'\n",
    "extension = 'txt'\n",
    "\n",
    "\n",
    "# Find your project\n",
    "my_project = [p for p in api.projects.query(limit=100).all() \\\n",
    "             if p.name == project_name]\n",
    "\n",
    "if not my_project:    # exploit fact that empty list is False, {list, tuple, etc} is True\n",
    "    print('No project named (%s) found, please check spelling' % project_name)\n",
    "    raise KeyboardInterrupt\n",
    "else:\n",
    "    my_project = my_project[0]\n",
    "    \n",
    "# List files in that project matching your extension\n",
    "my_files = api.files.query(limit=100, project=my_project)\n",
    "selected_files = [f for f in my_files.all() \\\n",
    "                  if f.name[-len(extension):] == extension]"
   ]
  },
  {
   "cell_type": "markdown",
   "metadata": {},
   "source": [
    "## Start an export job\n",
    "Spin up a job to export files from the _Seven Bridges Platform_ to your _Cloud Storage_ (Volume).\n",
    "\n",
    "#### Additional information\n",
    " * Detailed documentation of these particular REST architectural style request are available [here](http://docs.sevenbridges.com/docs/start-an-export-job-v2)"
   ]
  },
  {
   "cell_type": "code",
   "execution_count": null,
   "metadata": {
    "collapsed": false
   },
   "outputs": [],
   "source": [
    "# Loop through selected files, start one job for each.\n",
    "exports = []\n",
    "for f in selected_files:\n",
    "    export = api.exports.submit_export(\n",
    "        file=f,                        \n",
    "        volume=my_volume,                     \n",
    "        location=f.name)\n",
    "    \n",
    "    exports.append(export)\n",
    "\n",
    "    print(\"File {} queued for export to your cloud storage \\n\"\n",
    "          .format(f.name))"
   ]
  },
  {
   "cell_type": "markdown",
   "metadata": {},
   "source": [
    "## List and detail export jobs\n",
    "The first call (list) is sufficient to keep track of the job progress in \n",
    "\n",
    "```python\n",
    "    my_volume.get_imports(project=my_project)\n",
    "```\n",
    "\n",
    "#### Additional information\n",
    " * Detailed documentation of these particular REST architectural style request are available [here](http://docs.sevenbridges.com/docs/list-export-jobs-v2) and [here](http://docs.sevenbridges.com/docs/get-details-of-an-export-job-v2)"
   ]
  },
  {
   "cell_type": "code",
   "execution_count": null,
   "metadata": {
    "collapsed": false
   },
   "outputs": [],
   "source": [
    "all_export_jobs = my_volume.get_exports(project=my_project)\n",
    "\n",
    "for j in all_export_jobs:\n",
    "    print('File {} import is {}'\n",
    "         .format(j.destination, j.state))\n",
    "print('\\n')"
   ]
  }
 ],
 "metadata": {
  "kernelspec": {
   "display_name": "Python 2",
   "language": "python",
   "name": "python2"
  },
  "language_info": {
   "codemirror_mode": {
    "name": "ipython",
    "version": 2
   },
   "file_extension": ".py",
   "mimetype": "text/x-python",
   "name": "python",
   "nbconvert_exporter": "python",
   "pygments_lexer": "ipython2",
   "version": "2.7.11"
  }
 },
 "nbformat": 4,
 "nbformat_minor": 0
}
