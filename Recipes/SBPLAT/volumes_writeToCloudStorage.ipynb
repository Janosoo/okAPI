{
 "cells": [
  {
   "cell_type": "markdown",
   "metadata": {},
   "source": [
    "# How do I write files to my own _cloud storage_?\n",
    "### Overview\n",
    "Connecting to cloud storage facilitates sharing and leveraging bioinformatics data that is commonly stored there (details [here](http://docs.sevenbridges.com/docs/connecting-cloud-storage-overview)). Here, we show an example of **writing** files from the _Seven Bridges Platform_ to a users _Amazon Web Services_ **bucket**. \n",
    "\n",
    "### Prerequisites\n",
    " 1. You need your _authentication token_ and the API needs to know about it. See <a href=\"Setup_API_environment.ipynb\">**Setup_API_environment.ipynb**</a> for details.\n",
    " 2. You need to have an AWS account with an S3 bucket\n",
    " 3. You need to be a member (or owner) of a project that has some files in it, e.g. if you followed this [recipe](files_copyFromPublicReference.ipynb)\n",
    " \n",
    "### Setting up Identity and Access Management (IAM) access \n",
    "There is a detailed [tutorial](http://docs.sevenbridges.com/v1.0/docs/aws-cloud-storage-tutorial) to set up access to your buckets. Please follow that tutorials and make note of your **policy name(s)**. Also make sure to generate an _secret access key_.\n",
    "\n",
    "## Imports\n",
    "We import the _Api_ class from the official sevenbridges-python bindings below. We also define<sup>1</sup> a function to wrap the Volumes API calls.\n",
    "\n",
    "<sup>1</sup> Support for _Volumes API_ is on the immediate roadmap for the _sevenbridges-python_ library, once it is implemented the api_call() function is unnecessary."
   ]
  },
  {
   "cell_type": "code",
   "execution_count": null,
   "metadata": {
    "collapsed": true
   },
   "outputs": [],
   "source": [
    "import sevenbridges as sbg\n",
    "\n",
    "import json\n",
    "from requests import request\n",
    "\n",
    "\n",
    "def api_call(path, method='GET', query=None, data=None, token=None):\n",
    "    \n",
    "    base_url = 'https://api.sbgenomics.com/v2/storage/'\n",
    "    \n",
    "    data = json.dumps(data) if isinstance(data, dict) \\\n",
    "    or isinstance(data,list) else None\n",
    "              \n",
    "    headers = {\n",
    "        'X-SBG-Auth-Token': token,\n",
    "        'Accept': 'application/json',\n",
    "        'Content-type': 'application/json',\n",
    "    }\n",
    "    \n",
    "    response = request(method, base_url + path, params=query, \\\n",
    "                       data=data, headers=headers) \n",
    "    response_dict = json.loads(response.content) if \\\n",
    "    response.content else {}\n",
    "    \n",
    "    if response.status_code / 100 != 2:\n",
    "        print(response_dict['message'])\n",
    "        print('Error Code: %i.' % (response_dict['code']))\n",
    "        print(response_dict['more_info'])\n",
    "        raise Exception('Server responded with status code %s.' \\\n",
    "                        % response.status_code)\n",
    "    return response_dict"
   ]
  },
  {
   "cell_type": "markdown",
   "metadata": {},
   "source": [
    "## Initialize the object\n",
    "The _Api_ object needs to know your **auth\\_token** and the correct path. Here we assume you are using the .sbgrc file in your home directory. For other options see <a href=\"Setup_API_environment.ipynb\">Setup_API_environment.ipynb</a>"
   ]
  },
  {
   "cell_type": "code",
   "execution_count": null,
   "metadata": {
    "collapsed": true
   },
   "outputs": [],
   "source": [
    "# [USER INPUT] specify platform {cgc, sbg}\n",
    "prof = 'sbpla'\n",
    "\n",
    "\n",
    "config_file = sbg.Config(profile=prof)\n",
    "api = sbg.Api(config=config_file)"
   ]
  },
  {
   "cell_type": "markdown",
   "metadata": {},
   "source": [
    "## Mount the volume\n",
    "Since we have configured the IAM policy in the prior step, we can now mount the volume.\n",
    "\n",
    "#### Additional information\n",
    " * Detailed documentation of this particular REST architectural style request is available [here](http://docs.sevenbridges.com/docs/create-a-volume-v2)"
   ]
  },
  {
   "cell_type": "code",
   "execution_count": null,
   "metadata": {
    "collapsed": false
   },
   "outputs": [],
   "source": [
    "body = {\n",
    "  \"name\": \"my_volume\",\n",
    "  \"service\": {\n",
    "    \"type\": \"s3\",\n",
    "    \"bucket\": \"BUCKET-NAME\",\n",
    "    \"prefix\": \"\",\n",
    "    \"credentials\": {\n",
    "      \"access_key_id\": \"INSERT ACCESS KEY ID\",\n",
    "      \"secret_access_key\": \"INSERT SECRET ACCESS KEY\"\n",
    "    },\n",
    "    \"properties\": {\n",
    "      \"sse_algorithm\": \"AES256\"\n",
    "    }\n",
    "  },\n",
    "  \"access_mode\": \"RW\"\n",
    "}\n",
    "\n",
    "response = api_call(path = 'volumes/', method = 'POST', \\\n",
    "                    token = config_file.auth_token, data = body)"
   ]
  },
  {
   "cell_type": "markdown",
   "metadata": {},
   "source": [
    "## Get details of the volume\n",
    "Let's list all our volumes and get one volume's details to make sure it's mounted as we expected.\n",
    "\n",
    "### Warning\n",
    "We've hardcoded the single_volume to detail, this could easily be selected by matching 'name' instead\n",
    "\n",
    "#### Additional information\n",
    " * Detailed documentation of these particular REST architectural style request are available [here (list)](http://docs.sevenbridges.com/docs/list-volumes-v2) and [here (details)](http://docs.sevenbridges.com/docs/get-details-of-a-volume-v2)"
   ]
  },
  {
   "cell_type": "code",
   "execution_count": null,
   "metadata": {
    "collapsed": false
   },
   "outputs": [],
   "source": [
    "my_volumes = api_call(path = 'volumes', method = 'GET', \\\n",
    "                    token = config_file.auth_token)\n",
    "for v in my_volumes['items']:\n",
    "    print(v)\n",
    "    \n",
    "\n",
    "single_volume = api_call(path = ('volumes/' + my_volumes['items'][0]['id']), \\\n",
    "                         method = 'GET', token = config_file.auth_token)\n",
    "print(single_volume)"
   ]
  },
  {
   "cell_type": "markdown",
   "metadata": {},
   "source": [
    "## Get some files to move\n",
    "Here we pick a project and a few files to move. In case you don't have any files, you could add them via the [GUI](http://docs.sevenbridges.com/docs/copy-files-using-the-visual-interface) or an API [recipe](files_copyFromPublicReference.ipynb). \n",
    "\n",
    "#### PROTIPS\n",
    " * A detailed _recipe_ for listing projects is [here](projects_listAll.ipynb)\n",
    " * A detailed _recipe_ for listing files is [here](files_listAll.ipynb)"
   ]
  },
  {
   "cell_type": "code",
   "execution_count": null,
   "metadata": {
    "collapsed": false
   },
   "outputs": [],
   "source": [
    "# [USER INPUT] Set project name here:\n",
    "project_name = 'Tweaking'\n",
    "extension = 'cxb'\n",
    "\n",
    "\n",
    "# Find your project\n",
    "my_project = [p for p in api.projects.query(limit=100).all() \\\n",
    "             if p.name == project_name]\n",
    "\n",
    "if my_project:    # exploit fact that empty list is False, {list, tuple, etc} is True\n",
    "    print('No project named (%s) found, please check spelling' % project_name)\n",
    "    raise KeyboardInterrupt\n",
    "else:\n",
    "    my_project = my_project[0]\n",
    "    \n",
    "# List files in that project matching your extension\n",
    "my_files = api.files.query(limit=100, project=my_project)\n",
    "selected_files = [f for f in my_files.all() \\\n",
    "                  if f.name[-len(extension):] == extension]"
   ]
  },
  {
   "cell_type": "markdown",
   "metadata": {},
   "source": [
    "## Start an export job\n",
    "Spin up a job to export files from the _Seven Bridges Platform_ to your _Cloud Storage_ (Volume).\n",
    "\n",
    "#### Additional information\n",
    " * Detailed documentation of these particular REST architectural style request are available [here](http://docs.sevenbridges.com/docs/start-an-export-job-v2)"
   ]
  },
  {
   "cell_type": "code",
   "execution_count": null,
   "metadata": {
    "collapsed": false
   },
   "outputs": [],
   "source": [
    "# Loop through selected files, start one job for each.\n",
    "for f in selected_files[1:]:\n",
    "    body = {\n",
    "        \"source\": {\n",
    "            \"file\": f.id\n",
    "        },\n",
    "        \"destination\": {\n",
    "            \"volume\": single_volume['id'],\n",
    "            \"location\": f.name\n",
    "        }\n",
    "    } \n",
    "    \n",
    "    response = api_call(path = 'exports', method = 'POST', \\\n",
    "                    token = config_file.auth_token, data = body)\n",
    "    print(\"File (%s) queued for export to your cloud storage\" % \\\n",
    "         (f.name))"
   ]
  },
  {
   "cell_type": "markdown",
   "metadata": {},
   "source": [
    "## List and detail export jobs\n",
    "The first call (list) is sufficient to keep track of the job progress in \n",
    "\n",
    "```python\n",
    "    export_jobs['items'][0]['state']\n",
    "```\n",
    "\n",
    "The second call reveals more detail about the job.\n",
    "\n",
    "#### Additional information\n",
    " * Detailed documentation of these particular REST architectural style request are available [here](http://docs.sevenbridges.com/docs/list-export-jobs-v2) and [here](http://docs.sevenbridges.com/docs/get-details-of-an-export-job-v2)"
   ]
  },
  {
   "cell_type": "code",
   "execution_count": null,
   "metadata": {
    "collapsed": false
   },
   "outputs": [],
   "source": [
    "export_jobs = api_call(path = 'exports', method = 'GET', \\\n",
    "                    token = config_file.auth_token)\n",
    "\n",
    "print(\"Example of information available in the list call:\")\n",
    "print(export_jobs['items'][0])\n",
    "\n",
    "job_details = api_call(path = ('exports/' + export_jobs['items'][0]['id']), \\\n",
    "                      method = 'GET', token = config_file.auth_token)\n",
    "\n",
    "print(\"\\n Example of information available in the detail call:\")\n",
    "print(job_details)"
   ]
  }
 ],
 "metadata": {
  "kernelspec": {
   "display_name": "Python 2",
   "language": "python",
   "name": "python2"
  },
  "language_info": {
   "codemirror_mode": {
    "name": "ipython",
    "version": 2
   },
   "file_extension": ".py",
   "mimetype": "text/x-python",
   "name": "python",
   "nbconvert_exporter": "python",
   "pygments_lexer": "ipython2",
   "version": "2.7.11"
  }
 },
 "nbformat": 4,
 "nbformat_minor": 0
}
