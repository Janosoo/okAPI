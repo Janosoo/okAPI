{
 "cells": [
  {
   "cell_type": "markdown",
   "metadata": {},
   "source": [
    "# How do I _create_ and _start_ a task?\n",
    "### Overview\n",
    "We are getting into advanced techniques here and will need to leverage a few other cookbooks. You will need to add an app and some files in your project, then it is easy to start one. \n",
    "\n",
    "### Prerequisites\n",
    " 1. You need to be a member (or owner) of _at least one_ project.\n",
    " 2. You need your _authentication token_ and the API needs to know about it. See <a href=\"Setup_API_environment.ipynb\">**Setup_API_environment.ipynb**</a> for details.\n",
    " 3. You understand how to <a href=\"projects_listAll.ipynb\" target=\"_blank\">list</a> projects you are a member of (we will just use that call directly and pick one here).\n",
    " 4. You understand how to <a href=\"apps_listAll.ipynb\" target=\"_blank\">list</a> apps within one of your projects (we will just use that call directly here). This is a **great place** to get the **app_id** you will need in this recipe.\n",
    " 5. You have at least one app in your project, maybe from <a href=\"apps_copyFromPublicApps.ipynb\" target=\"_blank\">copying one</a>\n",
    " 6. You may want to review how to <a href=\"apps_detailOne.ipynb\" target=\"_blank\"> get details </a> of your app (we will assume you do, and pass the appropriate inputs).\n",
    "\n",
    " \n",
    "### WARNING\n",
    "This will burn through some processing credits (**about \\$0.50**). You can create _DRAFT_ tasks to just see how it works, swap the commenting in **Build and run tasks** to only run: \n",
    "```python\n",
    "# task created in DRAFT state\n",
    "task = api.tasks.create(name=task_name, project=my_project.id, app=single_app.id, inputs=inputs, run=False)       \n",
    "\n",
    "# task created and RUN immediately\n",
    "task = api.tasks.create(name=task_name, project=my_project.id, app=single_app.id, inputs=inputs, run=True)       \n",
    "```\n",
    "\n",
    "## Imports\n",
    "We import the _Api_ class from the official sevenbridges-python bindings below."
   ]
  },
  {
   "cell_type": "code",
   "execution_count": null,
   "metadata": {
    "collapsed": true
   },
   "outputs": [],
   "source": [
    "import sevenbridges as sbg"
   ]
  },
  {
   "cell_type": "markdown",
   "metadata": {},
   "source": [
    "## Initialize the object\n",
    "The _Api_ object needs to know your **auth\\_token** and the correct path. Here we assume you are using the .sbgrc file in your home directory. For other options see <a href=\"Setup_API_environment.ipynb\">Setup_API_environment.ipynb</a>"
   ]
  },
  {
   "cell_type": "code",
   "execution_count": null,
   "metadata": {
    "collapsed": true
   },
   "outputs": [],
   "source": [
    "# User input: specify platform {cgc, sbg}\n",
    "prof = 'sbg'\n",
    "\n",
    "config_config_file = sbg.Config(profile=prof)\n",
    "api = sbg.Api(config=config_config_file)"
   ]
  },
  {
   "cell_type": "markdown",
   "metadata": {},
   "source": [
    "## Find your project \n",
    "First, we identify an **interesting project** (by _name_) by searching though all of our projects<sup>1</sup>"
   ]
  },
  {
   "cell_type": "code",
   "execution_count": null,
   "metadata": {
    "collapsed": false
   },
   "outputs": [],
   "source": [
    "# [USER INPUT] Set project name:\n",
    "project_name = 'Michael Diamond'     # project to copy app into\n",
    "a_name = 'SBG FASTA Indices'\n",
    "\n",
    "\n",
    "# FIND my project\n",
    "my_project = [p for p in api.projects.query(limit=100).all() \\\n",
    "              if p.name == project_name]                         \n",
    "if not my_project:\n",
    "    print('Target project (%s) not found, check spelling' % project_name)\n",
    "    raise KeyboardInterrupt\n",
    "else:\n",
    "    my_project = my_project[0]"
   ]
  },
  {
   "cell_type": "markdown",
   "metadata": {},
   "source": [
    "## Copy an app to use for the task\n",
    "Next, we find an **interesting app** (by _name_), again by searching though all of the apps _within_ that project<sup>1</sup>. Note, we are reusing my_project from above.)\n",
    "\n",
    "<sup>1</sup> A _cleaner_ way to do this would be to identify by project and app **id**. Stay tuned for updates."
   ]
  },
  {
   "cell_type": "code",
   "execution_count": null,
   "metadata": {
    "collapsed": false
   },
   "outputs": [],
   "source": [
    "# Apps already in my project\n",
    "my_apps = api.apps.query(project = my_project.id, limit=100)\n",
    "\n",
    "# Apps in the Public Reference\n",
    "my_app_source = [a for a in api.apps.query(visibility='public', limit=100).all() \\\n",
    "                 if a.name == a_name]\n",
    "if not my_app_source:\n",
    "    print('App (%s) does not exist in Public Reference Apps' % (a_name))\n",
    "    raise KeyboardInterrupt\n",
    "else:\n",
    "    my_app_source = my_app_source[0]\n",
    "\n",
    "# Make sure NOT to copy the same app 2x, this angers the Platform considerably\n",
    "duplicate_app = [a for a in my_apps.all() if a.name == my_app_source.name]\n",
    "\n",
    "if duplicate_app:\n",
    "    print('App already exists in second project, using that one')\n",
    "    my_new_app = [a for a in api.apps.query(limit = 100, \\\n",
    "                   project = my_project.id).all() \\\n",
    "                   if a.name == a_name][0]\n",
    "else:\n",
    "    print('App (%s) does not exist in Project (%s); copying now' % \\\n",
    "          (a_name, my_project.name))\n",
    "    \n",
    "    my_new_app = my_app_source.copy(project = my_project.id, name = a_name)\n",
    "        \n",
    "    # re-list apps in target project to verify the copy worked\n",
    "    my_apps = api.apps.query(project = my_project.id, limit=100)\n",
    "    my_app_names = [a.name for a in my_apps.all()]\n",
    "    \n",
    "    if a_name in my_app_names:\n",
    "        print('Sucessfully copied one app!')\n",
    "    else:\n",
    "        print('Something went wrong...')"
   ]
  },
  {
   "cell_type": "markdown",
   "metadata": {},
   "source": [
    "## Copy a public reference file to use for an input\n",
    "We will first find our _source\\_project_ (the Public Reference Files), then list the files within the source project<sup>2</sup>, and copy a file from **_source\\_project_ -> _my\\_project_**.\n",
    "\n",
    "<sup>2</sup> Files are only accessible **within** a project - here the Public Reference project (**warning** we may change this project name in the future)."
   ]
  },
  {
   "cell_type": "code",
   "execution_count": null,
   "metadata": {
    "collapsed": false
   },
   "outputs": [],
   "source": [
    "# [USER INPUT] Set file and Public Reference Project names here:\n",
    "source_project_id = 'admin/sbg-public-data'        \n",
    "f_name = 'ucsc.hg19.fasta'                                     # file to copy\n",
    "\n",
    "\n",
    "# LIST all file names in target project\n",
    "my_files = [f.name for f in api.files.query(limit = 100, project = my_project.id).all()]\n",
    "# Find source file\n",
    "source_file = [f for f in api.files.query(limit = 100, project = source_project_id).all() \\\n",
    "               if f.name == f_name]\n",
    "\n",
    "# Make sure that file exists in Public Reference\n",
    "if not source_file:\n",
    "    print(\"File (%s) does not exist in Public Reference, please check spelling\" \\\n",
    "         % (f_name))\n",
    "    raise KeyboardInterrupt\n",
    "else:\n",
    "    source_file = source_file[0]\n",
    "    \n",
    "# Check if first file already exists in the target project\n",
    "if source_file.name in my_files:\n",
    "    print('File already exists in second project, using that one')\n",
    "    my_new_file = [f for f in api.files.query(limit = 100, \\\n",
    "                   project = my_project.id).all() \\\n",
    "                   if f.name == source_file.name][0]\n",
    "else:\n",
    "    print('File (%s) does not exist in Project (%s); copying now' % \\\n",
    "          (source_file.name, my_project.id))\n",
    "\n",
    "    my_new_file = source_file.copy(project = my_project.id, \\\n",
    "                                   name = source_file.name)\n",
    "\n",
    "    # re-list files in target project to verify the copy worked\n",
    "    my_files = [f.name for f in api.files.query(limit = 100, project = my_project.id).all()]\n",
    "    \n",
    "    if source_file.name in my_files:\n",
    "        print('Sucessfully copied one file!')\n",
    "    else:\n",
    "        print('Something went wrong...')"
   ]
  },
  {
   "cell_type": "markdown",
   "metadata": {},
   "source": [
    "## Create & start the task\n",
    "Here we use the reference file and set one of the 11 optional configuration inputs. Note that input files are passed a _file_ (or a _list_ of _files_) while configuration parameters are passed just the values."
   ]
  },
  {
   "cell_type": "code",
   "execution_count": null,
   "metadata": {
    "collapsed": false
   },
   "outputs": [],
   "source": [
    "# Task description\n",
    "task_name = 'task created with task_create.ipynb'\n",
    "inputs = {'reference':my_new_file} # 'fasta' is a 'File_Inputs'\n",
    "\n",
    "# if your task has any 'Config_inputs' that can be specified by\n",
    "#    {'id':value}      # value can be str, bool, float, etc depending on tool\n",
    "\n",
    "# Create and RUN a task\n",
    "my_task = api.tasks.create(name=task_name, project=my_project.id, \\\n",
    "                        app=my_new_app.id, inputs=inputs, run=True)"
   ]
  },
  {
   "cell_type": "markdown",
   "metadata": {},
   "source": [
    "## Additional Information\n",
    "Detailed documentation of this particular REST architectural style request is available [here](http://docs.sevenbridges.com/docs/create-a-new-task) and [here](http://docs.sevenbridges.com/docs/perform-an-action-on-a-specific-task)"
   ]
  }
 ],
 "metadata": {
  "kernelspec": {
   "display_name": "Python 2",
   "language": "python",
   "name": "python2"
  },
  "language_info": {
   "codemirror_mode": {
    "name": "ipython",
    "version": 2
   },
   "file_extension": ".py",
   "mimetype": "text/x-python",
   "name": "python",
   "nbconvert_exporter": "python",
   "pygments_lexer": "ipython2",
   "version": "2.7.11"
  }
 },
 "nbformat": 4,
 "nbformat_minor": 0
}
