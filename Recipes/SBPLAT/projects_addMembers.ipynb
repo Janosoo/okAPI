{
 "cells": [
  {
   "cell_type": "markdown",
   "metadata": {
    "deletable": true,
    "editable": true
   },
   "source": [
    "# How do I add members to one my _projects_?\n",
    "### Overview\n",
    "Here we focus on _adding a member_ to one of your projects. Importantly, you **must** be the admin of this project.\n",
    "\n",
    "### Prerequisites\n",
    " 1. You need to be a member (or owner) of _at least one_ project.\n",
    " 2. You need your _authentication token_ and the API needs to know about it. See <a href=\"Setup_API_environment.ipynb\">**Setup_API_environment.ipynb**</a> for details.\n",
    "  3. You understand how to <a href=\"projects_listAll.ipynb\" target=\"_blank\">list</a> projects you are a member of (we will just use that call directly here).\n",
    "  \n",
    "## Imports\n",
    "We import the _Api_ class from the official sevenbridges-python bindings below."
   ]
  },
  {
   "cell_type": "code",
   "execution_count": null,
   "metadata": {
    "collapsed": true,
    "deletable": true,
    "editable": true
   },
   "outputs": [],
   "source": [
    "import sevenbridges as sbg"
   ]
  },
  {
   "cell_type": "markdown",
   "metadata": {
    "deletable": true,
    "editable": true
   },
   "source": [
    "## Initialize the object\n",
    "The _Api_ object needs to know your **auth\\_token** and the correct path. Here we assume you are using the .sbgrc file in your home directory. For other options see <a href=\"Setup_API_environment.ipynb\">Setup_API_environment.ipynb</a>"
   ]
  },
  {
   "cell_type": "code",
   "execution_count": null,
   "metadata": {
    "collapsed": true,
    "deletable": true,
    "editable": true
   },
   "outputs": [],
   "source": [
    "# [USER INPUT] specify platform {cgc, sbpla, etc}\n",
    "prof = 'sbpla'\n",
    "\n",
    "\n",
    "config_file = sbg.Config(profile=prof)\n",
    "api = sbg.Api(config=config_file)"
   ]
  },
  {
   "cell_type": "markdown",
   "metadata": {
    "deletable": true,
    "editable": true
   },
   "source": [
    "## List all your projects\n",
    "We start by listing all of your projects, then get more information on the first one. A **detail**-call for projects returns the following *attributes*:\n",
    "* **description** The user specified project description\n",
    "* **id**     _Unique_ identifier for the project, generated based on Project Name\n",
    "* **name**   Name of project specified by the user, maybe _non-unique_\n",
    "* **href**   Address<sup>1</sup> of the project.\n",
    "* **tags**   List of tags, currently an empty list\n",
    "* **type**   (unimportant) this is always equal to 'v2'\n",
    "\n",
    "<sup>1</sup> This is the address where, by using API you can get this resource"
   ]
  },
  {
   "cell_type": "code",
   "execution_count": null,
   "metadata": {
    "collapsed": false,
    "deletable": true,
    "editable": true
   },
   "outputs": [],
   "source": [
    "# [USER INPUT] Set project name here to add members to:\n",
    "project_name = 'Life is Beautiful'\n",
    "\n",
    "\n",
    "# check if this project already exists. LIST all projects and check for name match\n",
    "my_project = [p for p in api.projects.query(limit=100).all() \\\n",
    "              if p.name == project_name]\n",
    "\n",
    "if not my_project:    # exploit fact that empty list is False, {list, tuple, etc} is True\n",
    "    print('Target project ({}) not found, please check spelling'.format(project_name))\n",
    "    raise KeyboardInterrupt\n",
    "else:\n",
    "    my_project = my_project[0]\n",
    "    my_project = api.projects.get(id = my_project.id)\n",
    "    print('You have selected project {}.'.format(my_project.name))\n",
    "    if hasattr(my_project, 'description'):       \n",
    "        # Need to check if description has been entered, GUI created project have default text, \n",
    "        #  but it is not in the metadata.\n",
    "        print('Project description: {} \\n'.format(my_project.description)) "
   ]
  },
  {
   "cell_type": "markdown",
   "metadata": {
    "deletable": true,
    "editable": true
   },
   "source": [
    "## Add members\n",
    "In the list **user\\_names** below, add some actual user names. Then run the script and they will be added to your project."
   ]
  },
  {
   "cell_type": "code",
   "execution_count": null,
   "metadata": {
    "collapsed": false,
    "deletable": true,
    "editable": true
   },
   "outputs": [],
   "source": [
    "user_names =['',\n",
    "            '']\n",
    "\n",
    "# here we are assigning all users in the list the same permissions, this could also be a list\n",
    "user_permissions = {'write': True,\n",
    "                    'read': True,\n",
    "                    'copy': True,\n",
    "                    'execute': False,\n",
    "                    'admin': False\n",
    "                    }\n",
    "\n",
    "for name in user_names:\n",
    "    my_project.add_member(user = name, permissions = user_permissions)"
   ]
  },
  {
   "cell_type": "markdown",
   "metadata": {
    "deletable": true,
    "editable": true
   },
   "source": [
    "## Additional Information\n",
    "Detailed documentation of this particular REST architectural style request is available [here](http://docs.sevenbridges.com/docs/add-a-member-to-a-project)"
   ]
  }
 ],
 "metadata": {
  "kernelspec": {
   "display_name": "Python 3",
   "language": "python",
   "name": "python3"
  },
  "language_info": {
   "codemirror_mode": {
    "name": "ipython",
    "version": 3
   },
   "file_extension": ".py",
   "mimetype": "text/x-python",
   "name": "python",
   "nbconvert_exporter": "python",
   "pygments_lexer": "ipython3",
   "version": "3.5.2"
  }
 },
 "nbformat": 4,
 "nbformat_minor": 0
}
