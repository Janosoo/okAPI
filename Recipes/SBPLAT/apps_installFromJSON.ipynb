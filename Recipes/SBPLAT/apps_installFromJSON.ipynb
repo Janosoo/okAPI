{
 "cells": [
  {
   "cell_type": "markdown",
   "metadata": {},
   "source": [
    "# How do I create an _app_ from a CWL JSON?\n",
    "### Overview\n",
    "This recipe is actually an _edge-case_, but one that the author uses frequently. It would also be a good fit for someone using code from a github repo, e.g. [Gaurav Kaushik's](https://github.com/gaurav-kaushik) excellent ones. We will:\n",
    "\n",
    " 1. create a new project\n",
    " 2. check that there are no apps\n",
    " 3. upload our app\n",
    " 4. check that it exists\n",
    "\n",
    "### Prerequisites\n",
    " 1. You need your _authentication token_ and the API needs to know about it. See <a href=\"Setup_API_environment.ipynb\">**Setup_API_environment.ipynb**</a> for details.\n",
    " 2. You have a **properly formatted** JSON file<sup>1</sup>.\n",
    " 3. You understand how to <a href=\"projects_listAll.ipynb\" target=\"_blank\">list</a> projects you are a member of (we will just use that call directly and pick one here).\n",
    " 4. You have at least one app in your project - one way to do this is by <a href=\"apps_copyFromPublicApps.ipynb\" target=\"_blank\">copying</a> one\n",
    "\n",
    "<sup>1</sup> Note: Using _select all_; _copy_; _paste to text editor_; _save as JSON_ can fail due to slight inconsistencies in how the OS handles formatting. A much better approach is either (i) download a properly formatted JSON or (ii) use the _export_ button on the desired app on the Seven Bridges Platform and save the resulting webpage as a JSON directly. \n",
    "\n",
    "## Imports\n",
    "We import the _Api_ class from the official sevenbridges-python bindings below."
   ]
  },
  {
   "cell_type": "code",
   "execution_count": null,
   "metadata": {
    "collapsed": true
   },
   "outputs": [],
   "source": [
    "import sevenbridges as sbg"
   ]
  },
  {
   "cell_type": "markdown",
   "metadata": {},
   "source": [
    "## Initialize the object\n",
    "The _Api_ object needs to know your **auth\\_token** and the correct path. Here we assume you are using the .sbgrc file in your home directory. For other options see <a href=\"Setup_API_environment.ipynb\">Setup_API_environment.ipynb</a>"
   ]
  },
  {
   "cell_type": "code",
   "execution_count": null,
   "metadata": {
    "collapsed": true
   },
   "outputs": [],
   "source": [
    "# [USER INPUT] specify platform {cgc, sbpla, etc}\n",
    "prof = 'sbpla'\n",
    "\n",
    "\n",
    "config_file = sbg.Config(profile=prof)\n",
    "api = sbg.Api(config=config_file)"
   ]
  },
  {
   "cell_type": "markdown",
   "metadata": {},
   "source": [
    "## Create a shiny, new project\n",
    "To avoid any copy-errors with the app, we will make a new project. If this project name already exists, the code below will raise an interupt and fail. Be _creative_ with your project names, it's something you will look back on and laugh. \n",
    "\n",
    "#### PROTIPS\n",
    "This next cell is more extensively detailed in this [recipe](projects_makeNew.ipynb)"
   ]
  },
  {
   "cell_type": "code",
   "execution_count": null,
   "metadata": {
    "collapsed": false
   },
   "outputs": [],
   "source": [
    "# [USER INPUT] Set project name and billing group index here:\n",
    "new_project_name = 'Shiny and new'                          \n",
    "index_billing = -1   \n",
    "\n",
    "\n",
    "# Check if this project already exists. LIST all projects and check for name match\n",
    "my_project = [p for p in api.projects.query(limit=100).all() \\\n",
    "              if p.name == new_project_name]      \n",
    "              \n",
    "if my_project:    # exploit fact that empty list is False, {list, tuple, etc} is True\n",
    "    print('A project named {} exists, please choose a unique name'\n",
    "          .format(new_project_name))\n",
    "    raise KeyboardInterrupt\n",
    "else:\n",
    "    # Create a new project\n",
    "    # What are my funding sources?\n",
    "    billing_groups = api.billing_groups.query()  \n",
    "    print((billing_groups[index_billing].name + \\\n",
    "           ' will be charged for computation and storage (if applicable)'))\n",
    "\n",
    "    # Set up the information for your new project\n",
    "    new_project = {\n",
    "            'billing_group': billing_groups[index_billing].id,\n",
    "            'description': \"\"\"A project created by the API recipe (apps_installFromJSON).\n",
    "                          This also supports **markdown**\n",
    "                          _Pretty cool_, right?\n",
    "                       \"\"\",\n",
    "            'name': new_project_name\n",
    "    }\n",
    "\n",
    "    my_project = api.projects.create(\n",
    "        name = new_project['name'], billing_group = new_project['billing_group'], \n",
    "        description = new_project['description']\n",
    "    )\n",
    "    \n",
    "    # (re)list all projects, and get your new project\n",
    "    my_project = [p for p in api.projects.query(limit=100).all() \n",
    "              if p.name == new_project_name][0]\n",
    "\n",
    "    print('Your new project {} has been created.'.format(\n",
    "        my_project.name))\n",
    "    # Print description if it exists\n",
    "    if hasattr(my_project, 'description'): \n",
    "        print('Project description: \\n {}'.format(my_project.description)) "
   ]
  },
  {
   "cell_type": "markdown",
   "metadata": {},
   "source": [
    "## Sanity-check: do I have any apps?\n",
    "Since you have just created the project, there will be **no** _Files_, _Apps_, or _Tasks_ in it. But just to be sure, let's query the apps in our project.\n",
    "\n",
    "#### PROTIPS\n",
    "This next cell is more extensively detailed in this [recipe](apps_listAll.ipynb)"
   ]
  },
  {
   "cell_type": "code",
   "execution_count": null,
   "metadata": {
    "collapsed": false
   },
   "outputs": [],
   "source": [
    "# List the apps in my project    \n",
    "my_apps = api.apps.query(project = my_project.id, limit=100)\n",
    "print('In project {}, you have {} apps.'.format(\n",
    "    my_project.name, my_apps.total))"
   ]
  },
  {
   "cell_type": "markdown",
   "metadata": {},
   "source": [
    "## Upload the JSON\n",
    "We've pre-loaded on for you in the **/app_jsons/** folder. This should go _smoothly_. We use the **json** library to manage the formatting. Here you should choose an *app\\_id* - dealer's choice on what you name it, but _please_ don't use the same ID twice. If you do, then Jack will be sad. Your call will also **fail** with _\"Conflict: Requested app/revision already exists.\"_\n",
    "\n",
    "Finally, we will re-check the apps in the project and see that it has uploaded sucessfully."
   ]
  },
  {
   "cell_type": "code",
   "execution_count": null,
   "metadata": {
    "collapsed": false
   },
   "outputs": [],
   "source": [
    "# [USER INPUT] Specify the ID to assign to your app:\n",
    "app_id = '/my-samtools-view'\n",
    "\n",
    "\n",
    "#Load the Application JSONs\n",
    "import json\n",
    "\n",
    "f = open('app_jsons/samtools-view.json', 'r')\n",
    "app_raw = f.read()\n",
    "app = json.loads(app_raw)\n",
    "\n",
    "# Create the Workflows\n",
    "a_id = (my_project.id + app_id)\n",
    "my_app_first = api.apps.install_app(id = a_id, raw = app)\n",
    "\n",
    "# List the apps in my project    \n",
    "my_apps = api.apps.query(project = my_project.id, limit=100)\n",
    "print('In project {}, you have {} apps.'.format(\n",
    "    my_project.name, my_apps.total))\n",
    "\n",
    "for a in my_apps.all(): \n",
    "    print('App name is {}; \\t App id: {}\\n'.format(\n",
    "        a.name, a.id))"
   ]
  },
  {
   "cell_type": "markdown",
   "metadata": {},
   "source": [
    "## Additional Information\n",
    "Detailed documentation of this particular REST architectural style request is available [here](http://docs.sevenbridges.com/docs/add-an-app-using-raw-cwl)"
   ]
  }
 ],
 "metadata": {
  "kernelspec": {
   "display_name": "Python 2",
   "language": "python",
   "name": "python2"
  },
  "language_info": {
   "codemirror_mode": {
    "name": "ipython",
    "version": 2
   },
   "file_extension": ".py",
   "mimetype": "text/x-python",
   "name": "python",
   "nbconvert_exporter": "python",
   "pygments_lexer": "ipython2",
   "version": "2.7.11"
  }
 },
 "nbformat": 4,
 "nbformat_minor": 0
}
