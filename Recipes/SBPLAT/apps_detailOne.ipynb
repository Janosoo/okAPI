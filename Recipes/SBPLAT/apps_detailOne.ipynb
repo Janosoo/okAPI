{
 "cells": [
  {
   "cell_type": "markdown",
   "metadata": {
    "deletable": true,
    "editable": true
   },
   "source": [
    "# What are the details of one of my _apps_?\n",
    "## Overview\n",
    "Obtaining a single app's details is an important step for starting a task. The app, which can be either a tool or a workflow, should be one located in a project that you can access. This could be an app that has been uploaded to the Seven Bridges Platform by a project member, or a publicly available app that has been copied to the project. \n",
    "\n",
    "As with any **detail**-type call, we will get extensive information about one app. However, we must first obtain that app's id. \n",
    "\n",
    "## Objective\n",
    "\n",
    "In this recipe we focus on **getting the details** from a single app. [[reference](http://docs.sevenbridges.com/v1.0/docs/get-details-of-an-app)]\n",
    "\n",
    "## Procedure\n",
    "1. We'll list all our projects. [[recipe](projects_listAll.ipynb)] [[reference](http://docs.sevenbridges.com/docs/list-all-your-projects)]\n",
    "2. Then, we'll list the apps within the first project on the list generated above. [[recipe](apps_listAll.ipynb)] [[reference](http://docs.sevenbridges.com/docs/list-all-apps-available-to-you)]\n",
    "3. Lastly, we'll get the details for the first app in that project. [[reference](http://docs.sevenbridges.com/v1.0/docs/get-details-of-an-app)]\n",
    "\n",
    "## Prerequisites\n",
    " 1. You need to be a member (or owner) of at least one project. Learn more about creating a new project. [[recipe](projects_makeNew.ipynb)] [[reference](http://docs.sevenbridges.com/docs/create-a-new-project)].\n",
    " 2. You need your **authentication token** and the API needs to know about it. See <a href=\"Setup_API_environment.ipynb\">Setup_API_environment.ipynb</a> for details. Learn more about [obtaining your authentication token](http://docs.sevenbridges.com/v1.0/docs/get-your-authentication-token).\n",
    " 3. You understand how to list projects of which you are a member. We will use this call directly to select a project below. [[recipe](projects_listAll.ipynb)] [[reference](http://docs.sevenbridges.com/docs/list-all-your-projects)]\n",
    " 4. You have at least one app in your selected project. If not, you can copy one from the Public Apps repository. [[recipe](apps_copyFromPublicApps.ipynb)] [[reference](http://docs.sevenbridges.com/docs/copy-an-app)]\n",
    " 5. You understand how to list apps within a project. We will use this call below and select an app. Note that this is a great place to get the **app_id** you will need in this recipe. [[recipe](apps_listAll.ipynb)] [[reference](http://docs.sevenbridges.com/docs/list-all-apps-available-to-you)]\n",
    " \n",
    "Note that as with all okAPI recipes, this recipe makes use of the [Seven Bridges Public API Python library](../Tutorials/SBPLAT/Setup_API_environment.ipynb).\n",
    " \n",
    " \n",
    "## Imports\n",
    "We import the `Api` class from the official `sevenbridges-python` bindings below."
   ]
  },
  {
   "cell_type": "code",
   "execution_count": null,
   "metadata": {
    "collapsed": false,
    "deletable": true,
    "editable": true
   },
   "outputs": [],
   "source": [
    "import sevenbridges as sbg"
   ]
  },
  {
   "cell_type": "markdown",
   "metadata": {
    "deletable": true,
    "editable": true
   },
   "source": [
    "## Initialize the object\n",
    "The `Api` object needs to know your **auth\\_token** and the correct path. Here we assume you are using the .sbgrc file in your home directory. For other options see <a href=\"Setup_API_environment.ipynb\">Setup_API_environment.ipynb</a>."
   ]
  },
  {
   "cell_type": "code",
   "execution_count": null,
   "metadata": {
    "collapsed": true,
    "deletable": true,
    "editable": true
   },
   "outputs": [],
   "source": [
    "# [USER INPUT] specify platform {cgc, sbg}\n",
    "prof = 'sbpla'\n",
    "\n",
    "config_file = sbg.Config(profile=prof)\n",
    "api = sbg.Api(config=config_file)"
   ]
  },
  {
   "cell_type": "markdown",
   "metadata": {
    "deletable": true,
    "editable": true
   },
   "source": [
    "## Dig into your app\n",
    "First, we list all of your projects. Then, we list the apps within the first one. Lastly, we obtain the details for the first app in that list. A **detail**-call for an app returns the following attributes:\n",
    "* **`id`,** the unique identifier for the app\n",
    "* **`name`,** the name of the app. Note this **is metadata and can be changed**.\n",
    "* **`href`,** the address<sup>1</sup> of the app\n",
    "* **`raw`,** the details of the app\n",
    "* **`project`,** the project the app is in\n",
    "* **`revision`,** the specific revision number of the app\n",
    "\n",
    "The **raw** dictionary<sup>2</sup> contains:\n",
    "* **`stdout`**\n",
    "* **`sbg:categories`,** the categories that the app belongs to \n",
    "* **`sbg:copyOf`,** the original app your app is copied from\n",
    "* **`sbg:toolAuthor`,** the author of the app\n",
    "* **`id`,** the app id\n",
    "* **`successCodes`,** the list of success codes for a tool\n",
    "* **`sbg:revision`,** the specific revision of the app\n",
    "* **`sbg:latestRevision`,** the latest revision available\n",
    "* **`sbg:modifiedBy`,** the user who modified the app revision \n",
    "* **`sbg:toolkitVersion`,** the version of the toolkit \n",
    "* **`label`,** user-friendly name of the app (like *Picard MergeSamFiles*)\n",
    "* **`arguments`**\n",
    "* **`sbg:createdBy`,** the username of the user who originally created the app\n",
    "* **`inputs`,** a description of the inputs \n",
    "* **`sbg:links`,** links to original documentation for the tools\n",
    "* **`description`**\n",
    "* **`sbg:sbgMaintained`,** notes whether the app is maintained by Seven Bridges or not\n",
    "* **`sbg:modifiedOn`,** modified info timestamp\n",
    "* **`outputs`,** a description of the outputs\n",
    "* **`baseCommand`,** the base command that executes (for example `java -jar /opt/picard-tools-1.140/picard.jar MergeSamFiles`, but in more complex format)\n",
    "* **`sbg:contributors`,** the list of contributors to the app\n",
    "* **`sbg:validationErrors`,** app validation errors, if they exist\n",
    "* **`requirements`** \n",
    "* **`temporaryFailCodes`,** codes that cause temporary failure (which can be retried)\n",
    "* **`class`**\n",
    "* **`sbg:job`,** \n",
    "* **`hints`,** contains information on memory, CPU requirements, and the link to actual [*docker* image](http://docs.sevenbridges.com/v1.0/docs/sdk-overview#section-docker) that executes.\n",
    "* **`sbg:id`** \n",
    "* **`sbg:createdOn`,** the timestamp when the app was created\n",
    "* **`sbg:toolkit`,** the toolkit version \n",
    "* **`stdin`**\n",
    "* **`sbg:cmdPreview`,** preview of the command line, for example:\n",
    "```java\n",
    "java -Xmx2048M -jar /opt/picard-tools-1.140/picard.jar CollectAlignmentSummaryMetrics INPUT=/root/folder/example.bam REFERENCE_SEQUENCE=/root/directory/example.fasta OUTPUT=example.summary_metrics.txt METRIC_ACCUMULATION_LEVEL=ALL_READS INPUT=/root/folder/example.bam /root/folder/example.bam\n",
    "```\n",
    "* **`sbg:license`,** liscensing for the tool \n",
    "* **`sbg:revisionsInfo`,** contains information on revisions\n",
    "* **`sbg:project`,** what is the project that contains the app\n",
    "\n",
    "<sup>1</sup> This is the address where, by using API you can get this resource\n",
    "\n",
    "<sup>2</sup> Many of these fields are related to the [Common Workflow Language](http://docs.cancergenomicscloud.org/docs/sdk-overview) _Application JSON_ describing the **App**."
   ]
  },
  {
   "cell_type": "code",
   "execution_count": null,
   "metadata": {
    "collapsed": false,
    "deletable": true,
    "editable": true
   },
   "outputs": [],
   "source": [
    "# [USER INPUT] Set project name:\n",
    "project_name = 'cicipici'                   \n",
    "a_name = 'CNVnator Analysis'\n",
    "\n",
    "\n",
    "# LIST all projects\n",
    "my_project = [p for p in api.projects.query(limit=100).all() \\\n",
    "              if p.name == project_name][0]                             \n",
    "\n",
    "# list the apps in ONE project\n",
    "my_apps = api.apps.query(project = my_project.id, limit=100)\n",
    "\n",
    "# get details of the app\n",
    "single_app = [a for a in my_apps.all() if a.name == a_name][0]\n",
    "\n",
    "print('You have selected app (%s), which was created by (%s). \\n It has %i inputs:' % \\\n",
    "      (single_app.name, single_app.raw['sbg:createdBy'], len(single_app.raw['inputs'])))\n",
    "for ii in single_app.raw['inputs']:\n",
    "    print(ii['id'][1:])"
   ]
  },
  {
   "cell_type": "markdown",
   "metadata": {
    "deletable": true,
    "editable": true
   },
   "source": [
    "## Additional Information\n",
    "Detailed documentation of this particular REST architectural style request is available [here](http://docs.sevenbridges.com/docs/get-details-of-an-app). Conversely, if you're looking for the raw CWL of an app, see the documentation [here](http://docs.sevenbridges.com/docs/get-raw-cwl-for-an-app)."
   ]
  }
 ],
 "metadata": {
  "kernelspec": {
   "display_name": "Python 3",
   "language": "python",
   "name": "python3"
  },
  "language_info": {
   "codemirror_mode": {
    "name": "ipython",
    "version": 3
   },
   "file_extension": ".py",
   "mimetype": "text/x-python",
   "name": "python",
   "nbconvert_exporter": "python",
   "pygments_lexer": "ipython3",
   "version": "3.5.2"
  }
 },
 "nbformat": 4,
 "nbformat_minor": 0
}
