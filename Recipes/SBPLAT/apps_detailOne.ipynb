{
 "cells": [
  {
   "cell_type": "markdown",
   "metadata": {},
   "source": [
    "# What are the details of one of my _apps_?\n",
    "### Overview\n",
    "Here we focus on _getting the details_ from a single app. This will be important later when we want to start a task. As with any **detail**-type call, we will get extensive information about one app but must first know that app's id. \n",
    "\n",
    "### Prerequisites\n",
    " 1. You need to be a member (or owner) of _at least one_ project.\n",
    " 2. You need your _authentication token_ and the API needs to know about it. See <a href=\"Setup_API_environment.ipynb\">**Setup_API_environment.ipynb**</a> for details.\n",
    " 3. You understand how to <a href=\"projects_listAll.ipynb\" target=\"_blank\">list</a> projects you are a member of (we will just use that call directly and pick one here).\n",
    " 4. You understand how to <a href=\"apps_listAll.ipynb\" target=\"_blank\">list</a> apps within one of your projects (we will just use that call directly here). This is a **great place** to get the **app_id** you will need in this recipe.\n",
    " 5. You have at least one app in your project, maybe from <a href=\"apps_copyFromPublicApps.ipynb\" target=\"_blank\">copying one</a>\n",
    " \n",
    "## Imports\n",
    "We import the _Api_ class from the official sevenbridges-python bindings below."
   ]
  },
  {
   "cell_type": "code",
   "execution_count": null,
   "metadata": {
    "collapsed": false
   },
   "outputs": [],
   "source": [
    "import sevenbridges as sbg"
   ]
  },
  {
   "cell_type": "markdown",
   "metadata": {},
   "source": [
    "## Initialize the object\n",
    "The _Api_ object needs to know your **auth\\_token** and the correct path. Here we assume you are using the .sbgrc file in your home directory. For other options see <a href=\"Setup_API_environment.ipynb\">Setup_API_environment.ipynb</a>"
   ]
  },
  {
   "cell_type": "code",
   "execution_count": null,
   "metadata": {
    "collapsed": true
   },
   "outputs": [],
   "source": [
    "# [USER INPUT] specify platform {cgc, sbg}\n",
    "prof = 'sbg'\n",
    "\n",
    "config_config_file = sbg.Config(profile=prof)\n",
    "api = sbg.Api(config=config_config_file)"
   ]
  },
  {
   "cell_type": "markdown",
   "metadata": {},
   "source": [
    "## Dig into your app\n",
    "We start by listing all of your projects, then list the apps within the first one. A **detail**-call for projects returns the following *attributes*:\n",
    "* **id**     _Unique_ identifier for the app\n",
    "* **name**   Name of the app, note this **is** metadata and can be _changed_\n",
    "* **href**   Address<sup>1</sup> of the app.\n",
    "* **raw**    Details of the app\n",
    "* **project** Project the app is in\n",
    "* **revision** App revision\n",
    "\n",
    "The **raw** dictionary<sup>2</sup>:\n",
    "* stdout\n",
    "* sbg:categories - categories that app belongs to \n",
    "* sbg:copyOf - what is the app this one was copied from\n",
    "* sbg:toolAuthor - author of the tool\n",
    "* id - app id\n",
    "* successCodes - list of success codes for a tool\n",
    "* sbg:revision - revision of the app\n",
    "* sbg:latestRevision - latest revision available\n",
    "* sbg:modifiedBy - user who modified the app revision \n",
    "* sbg:toolkitVersion - version of the toolkit \n",
    "* label - User friendly naming of the app (like *Picard MergeSamFiles*)\n",
    "* arguments\n",
    "* sbg:createdBy - which user originally created the app\n",
    "* inputs - description of the inputs \n",
    "* sbg:links - links to original documentation for the tools\n",
    "* description \n",
    "* sbg:sbgMaintained - notes whether the app is maintained by Seven Bridges or not\n",
    "* sbg:modifiedOn - modified info timestamp\n",
    "* outputs - description of the outputs\n",
    "* baseCommand - base command that executes (for example `java -jar /opt/picard-tools-1.140/picard.jar MergeSamFiles`, but in more complex format)\n",
    "* sbg:contributors - list of contributors to the app\n",
    "* sbg:validationErrors - app validation errors if they exist\n",
    "* requirements \n",
    "* temporaryFailCodes - codes that cause temporary failure (which can be retried)\n",
    "* class \n",
    "* sbg:job \n",
    "* hints - contains info on memory, CPU requirements and the link to actual *docker* image that executes\n",
    "* sbg:id \n",
    "* sbg:createdOn - timestamp when the app was created\n",
    "* sbg:toolkit - toolkit version \n",
    "* stdin \n",
    "* sbg:cmdPreview - preview of the command line, for example:\n",
    "```java\n",
    "java -Xmx2048M -jar /opt/picard-tools-1.140/picard.jar CollectAlignmentSummaryMetrics INPUT=/root/folder/example.bam REFERENCE_SEQUENCE=/root/directory/example.fasta OUTPUT=example.summary_metrics.txt METRIC_ACCUMULATION_LEVEL=ALL_READS INPUT=/root/folder/example.bam /root/folder/example.bam\n",
    "```\n",
    "* sbg:license - licencing for the tool \n",
    "* sbg:revisionsInfo - contains info on revisions\n",
    "* sbg:project - what is the project that contains the app\n",
    "\n",
    "<sup>1</sup> This is the address where, by using API you can get this resource\n",
    "\n",
    "<sup>2</sup> Many of these fields are related to the [Common Workflow Language](http://docs.cancergenomicscloud.org/docs/sdk-overview) JSON describing the app."
   ]
  },
  {
   "cell_type": "code",
   "execution_count": null,
   "metadata": {
    "collapsed": false
   },
   "outputs": [],
   "source": [
    "# [USER INPUT] Set project name:\n",
    "project_name = 'Keep on Smiling'                   # project to check\n",
    "app_id = 'jack_digi/keep-on-smiling/TorrentMappingAlignmentProgramMap4/0'\n",
    "\n",
    "\n",
    "# LIST all projects\n",
    "my_project = [p for p in api.projects.query(limit=100).all() \\\n",
    "              if p.name == project_name][0]                             \n",
    "\n",
    "# list the apps in ONE project\n",
    "my_apps = api.apps.query(project = my_project.id, limit=100).all()\n",
    "\n",
    "# get details of the app\n",
    "single_app = [a for a in my_apps if a.id == app_id][0]\n",
    "\n",
    "print('You have selected app (%s), which was created by (%s). \\n It has %i inputs:' % \\\n",
    "      (single_app.name, single_app.raw['sbg:createdBy'], len(single_app.raw['inputs'])))\n",
    "for ii in single_app.raw['inputs']:\n",
    "    print(ii['id'][1:])"
   ]
  },
  {
   "cell_type": "markdown",
   "metadata": {},
   "source": [
    "## Get a dictionary of the App's ~CWL\n",
    "This is a useful **first look** at the app description, but please **be careful** since we have wrapped it in a function, it is **not a JSON**. You would want to \n",
    "\n",
    "1. go to the GUI\n",
    "2. click on the app\n",
    "3. in the top right, click \"Export\"\n",
    "4. **save** that page as a json. (do not copy paste as that introduces surpsring errors)\n",
    "5. load the json file into python.\n",
    "6. convert it into a json (see this [tutorial](../../Tutorials/CGC/batch_SAMtoolsView.ipynb) for a good example)"
   ]
  },
  {
   "cell_type": "code",
   "execution_count": null,
   "metadata": {
    "collapsed": false
   },
   "outputs": [],
   "source": [
    "# # !!! UNFINISHED !!!\n",
    "\n",
    "# cwl = single_app.raw\n",
    "# print(cwl)             # TODO: resolve copy/paste JSON issues"
   ]
  },
  {
   "cell_type": "markdown",
   "metadata": {},
   "source": [
    "## Additional Information\n",
    "Detailed documentation of this particular REST architectural style request is available [here](http://docs.sevenbridges.com/docs/get-file-details) and [here](http://docs.sevenbridges.com/docs/get-raw-cwl-for-an-app)"
   ]
  }
 ],
 "metadata": {
  "kernelspec": {
   "display_name": "Python 2",
   "language": "python",
   "name": "python2"
  },
  "language_info": {
   "codemirror_mode": {
    "name": "ipython",
    "version": 2
   },
   "file_extension": ".py",
   "mimetype": "text/x-python",
   "name": "python",
   "nbconvert_exporter": "python",
   "pygments_lexer": "ipython2",
   "version": "2.7.11"
  }
 },
 "nbformat": 4,
 "nbformat_minor": 0
}
