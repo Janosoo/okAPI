{
 "cells": [
  {
   "cell_type": "markdown",
   "metadata": {},
   "source": [
    "# How do I _copy_ an app from the _public apps_?\n",
    "### Overview\n",
    "Apps can be copied from one of two sources:\n",
    "1. other projects you are a member of\n",
    "2. public reference. \n",
    "\n",
    "Here we focus on copying an app from _public reference_. \n",
    "\n",
    "### Prerequisites\n",
    " 1. You need to be a member (or owner) of _at least **one**_ project.\n",
    " 2. You need your _authentication token_ and the API needs to know about it. See <a href=\"set_AUTH_TOKEN.ipynb\">**set_AUTH_TOKEN.ipynb**</a> for details.\n",
    " 3. You understand how to <a href=\"projects_listAll.ipynb\" target=\"_blank\">list</a> projects you are a member of (we will just use that call directly and pick one here).\n",
    " 4. You understand how to <a href=\"apps_listAll.ipynb\" target=\"_blank\">list</a> apps within your project (we will just use that call directly and pick one here).\n",
    " \n",
    "### Imports and Definitions\n",
    "A single call is sufficient to copy an app. Here there is **no advantage** in using the object to POST the call, but it is rather useful searching the results of the GET calls."
   ]
  },
  {
   "cell_type": "code",
   "execution_count": null,
   "metadata": {
    "collapsed": true
   },
   "outputs": [],
   "source": [
    "from defs.apimethods import *"
   ]
  },
  {
   "cell_type": "markdown",
   "metadata": {},
   "source": [
    "## Use API() _object_\n",
    "We will first list all our projects, then list the apps within the Public Reference project<sup>1</sup> , and finally copy an app between the Public Reference to the target project. Here we also explicitly set _'limit':100_ inside the _query_. This helps speed up the auto-pagination feature within the object constructor.\n",
    "\n",
    "The critical information for this POST is the **app_id**. Note, you are **not** allowed to copy the same app **and** assign the same name more than once. If you change the name, it is ok.\n",
    "\n",
    "To make these results very obvious, use an empty project as your TARGET\\_PROJECT (e.g. your <a href=projects_makeNew.ipynb> cookbook example project</a>) or change the _name_ in the _data_ dictionary to something like 'Dept of Awesome'<sup>2</sup>\n",
    "\n",
    "\n",
    "<sup>1</sup> Unlike files, apps are accesssible **both** *within* a project (here the Public Reference project) **and** by a *visibility* property (which may be set to 'public')\n",
    "\n",
    "<sup>2</sup> Note that setting the **name** of an app, actually changes the **id**. We are working on fixing this inconsistency.\n",
    "\n",
    "#### Why am I getting an Error Code 6000?\n",
    "You found a known bug, we are _very sorry_ for this. It is already being worked on and should be ok soon. Try copying the app named **'Torrent Mapping Alignment Program Map4'**, this will work. Known affected workflows:\n",
    "* Exome Coverage QC 1.0\n",
    "* RNA-Seq De Novo Assembly and Analysis - Trinity 2.0.6\n",
    "* RNA-Seq De Novo Assembly - Trinity 2.0.6\n",
    "* Whole Exome Sequencing GATK 2.3.9.-lite"
   ]
  },
  {
   "cell_type": "code",
   "execution_count": null,
   "metadata": {
    "collapsed": false
   },
   "outputs": [],
   "source": [
    "# [USER INPUT] Set project (p_) index and app name:\n",
    "p_index = 1                                       # target project\n",
    "a_name = 'Torrent Mapping Alignment Program Map4'\n",
    "\n",
    "# LIST all projects\n",
    "existing_projects = API('projects')         \n",
    "\n",
    "# LIST all Public Apps using VISIBILITY and searching by NAME\n",
    "my_apps_source = API(path='apps', query={'visibility': 'public', 'limit': 100})\n",
    "my_apps_target = API(path='apps', query={'project':existing_projects.id[p_index]})\n",
    "a_index = my_apps_source.name.index(a_name)\n",
    "\n",
    "# Check if app already exists in the second project\n",
    "if my_apps_source.id[a_index] in my_apps_target.id:\n",
    "    print('App already exists in second project, please try another app')\n",
    "else:\n",
    "    print('App (%s) does not exist in Project (%s); copying now' % \\\n",
    "          (my_apps_source.name[a_index], existing_projects.id[p_index]))\n",
    "    \n",
    "    # COPY the selected app from first to second project\n",
    "    API(path=('apps/' + my_apps_source.id[a_index] + '/actions/copy'), \\\n",
    "        method='POST', \\\n",
    "        data={'project': existing_projects.id[p_index],\\\n",
    "              'name': my_apps_source.name[a_index]})      # 'name': 'Dept of Awesome'})\n",
    "\n",
    "    # re-list the apps in secondProject to verify the copy worked\n",
    "    my_apps_target = API(path='apps', \\\n",
    "                         query={'project': existing_projects.id[p_index]})\n",
    "    \n",
    "    if my_apps_source.name[a_index] in my_apps_target.name:\n",
    "        print('Sucessfully copied one app!')\n",
    "    else:\n",
    "        print('Something went wrong...')\n",
    "    \n",
    "    # Note for Footnote #2\n",
    "    print(my_apps_target.name)\n",
    "    print(my_apps_target.id)"
   ]
  },
  {
   "cell_type": "markdown",
   "metadata": {},
   "source": [
    "## Additional Information\n",
    "Detailed documentation of this particular REST architectural style request is available [here](http://docs.sevenbridges.com/docs/copy-an-app-secondary-method)"
   ]
  }
 ],
 "metadata": {
  "kernelspec": {
   "display_name": "Python 2",
   "language": "python",
   "name": "python2"
  },
  "language_info": {
   "codemirror_mode": {
    "name": "ipython",
    "version": 2
   },
   "file_extension": ".py",
   "mimetype": "text/x-python",
   "name": "python",
   "nbconvert_exporter": "python",
   "pygments_lexer": "ipython2",
   "version": "2.7.11"
  }
 },
 "nbformat": 4,
 "nbformat_minor": 0
}
