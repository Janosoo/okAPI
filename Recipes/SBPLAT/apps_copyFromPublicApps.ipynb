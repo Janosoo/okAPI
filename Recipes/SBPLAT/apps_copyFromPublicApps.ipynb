{
 "cells": [
  {
   "cell_type": "markdown",
   "metadata": {},
   "source": [
    "# How do I _copy_ an app from the Seven Bridges _Public Apps_ repository?\n",
    "## Overview\n",
    "Apps include both tools (individual bioinformatics utilities) and workflows (chains or pipelines of connected tools). Apps are located in one of two places: the [Seven Bridges Public Apps repository](https://igor.sbgenomics.com/public/apps) or a user-created project.\n",
    "\n",
    "The Seven Bridges Platform offers a repository of [publicly available apps](https://igor.sbgenomics.com/public/apps) suitable for many different types of data analysis. Apps include both tools (individual bioinformatics utilities) and workflows (chains or pipelines of connected tools). The publicly available apps are maintained by the Seven Bridges Platform bioinformatics team to represent the latest tool versions.\n",
    "\n",
    "## Objective\n",
    "\n",
    "You can copy an app from the Public App repository or from a project of which you're a member. Here, we focus on **copying an app from the Public App repository**. [[reference](http://docs.sevenbridges.com/docs/copy-an-app)]\n",
    " \n",
    "\n",
    "## Procedure\n",
    "1. We'll list all our projects.\n",
    "2. Then, we'll list the apps within the Seven Bridges Public Apps repository. \n",
    "3. Lastly, we'll copy an app from the Public Apps repository to the first project in our list of projects.\n",
    "\n",
    "## Prerequisites\n",
    " 1. You need to be a member (or owner) of at least one project. Learn more about creating a new project. [[recipe](projects_makeNew.ipynb)] [[reference](http://docs.sevenbridges.com/docs/create-a-new-project)].\n",
    " 2. You need your **authentication token** and the API needs to know about it. See <a href=\"Setup_API_environment.ipynb\">Setup_API_environment.ipynb</a> for details. Learn more about [obtaining your authentication token](http://docs.sevenbridges.com/v1.0/docs/get-your-authentication-token).\n",
    " 3. You understand how to list projects of which you are a member. We will use this call directly to select a project below. [[recipe](projects_listAll.ipynb)] [[reference](http://docs.sevenbridges.com/docs/list-all-your-projects)]\n",
    " 4. You understand how to list apps within a project. We will use this call below and select an app. [[recipe](apps_listAll.ipynb)] [[reference](http://docs.sevenbridges.com/docs/list-all-apps-available-to-you)]\n",
    " \n",
    "Note that as with all okAPI recipes, this recipe makes use of the [Seven Bridges Public API Python library](../Tutorials/SBPLAT/Setup_API_environment.ipynb)\n",
    " \n",
    "## Imports\n",
    "We import the `Api` class from the official `sevenbridges-python` bindings below."
   ]
  },
  {
   "cell_type": "code",
   "execution_count": null,
   "metadata": {
    "collapsed": true
   },
   "outputs": [],
   "source": [
    "import sevenbridges as sbg"
   ]
  },
  {
   "cell_type": "markdown",
   "metadata": {},
   "source": [
    "## Initialize the object\n",
    "The _Api_ object needs to know your **auth\\_token** and the correct path. Here we assume you are using the .sbgrc file in your home directory. For other options see <a href=\"Setup_API_environment.ipynb\">Setup_API_environment.ipynb</a>"
   ]
  },
  {
   "cell_type": "code",
   "execution_count": null,
   "metadata": {
    "collapsed": true
   },
   "outputs": [],
   "source": [
    "# [USER INPUT] specify platform {cgc, sbg}\n",
    "prof = 'sbpla'\n",
    "\n",
    "config_file = sbg.Config(profile=prof)\n",
    "api = sbg.Api(config=config_file)"
   ]
  },
  {
   "cell_type": "markdown",
   "metadata": {},
   "source": [
    "## Copy a Public App\n",
    "First, we'll list all our projects. Then, we'll list the apps within the Public Reference project<sup>1</sup>. Lastly, we'll copy an app between the Public Reference project to the my\\_project. Here we also explicitly set _'limit':100_ inside the _query_. This helps speed up the auto-pagination feature within the object constructor.\n",
    "\n",
    "The critical information for this `POST` request is the **app_id**. Note, you are **not** allowed to copy the same app **and** assign the same name more than once. If you change the name, it is ok. Here we are using the App's **name**, alternatively you can match bases on the App's **ID** as shown here [apps_copyFromMyProject](apps_copyFromMyProject.ipynb). \n",
    "\n",
    "To make these results very obvious, use an empty project as your my\\_project (e.g. your <a href=projects_makeNew.ipynb> cookbook example project</a>) or add the _name_ arguement to something ridiculous like 'Orange Mocha Frapachino Maker'<sup>2</sup>\n",
    "\n",
    "### Warning on the NAME argument\n",
    "When copying apps, it is also possible to specify the **name** using\n",
    "\n",
    "```python\n",
    "    my_new_app = public_app.copy(project = my_project, name = my_app_source.name)\n",
    "```\n",
    "\n",
    "However, we caution that this can lead to conflicts with similarly named apps. Unless you are _certain_ that you want to set a specific, **different** app name, _please_ omit the name argument. It will still inherit the name from the app.\n",
    "\n",
    "```python\n",
    "    my_new_app = public_app.copy(project = my_project)\n",
    "```\n",
    "\n",
    "\n",
    "<sup>1</sup> Unlike files, apps are accesssible **both** *within* a project (here the Public Reference project) **and** by a *visibility* property (which may be set to 'public')\n",
    "\n",
    "<sup>2</sup> Note that setting the **name** of an app, actually changes the **id**. We are working on fixing this inconsistency."
   ]
  },
  {
   "cell_type": "code",
   "execution_count": null,
   "metadata": {
    "collapsed": false
   },
   "outputs": [],
   "source": [
    "# (optional) Print names of all Public Apps\n",
    "A = [a.name for a in api.apps.query(visibility='public', limit=100).all()]\n",
    "A.sort()\n",
    "\n",
    "for a in A:\n",
    "    print a"
   ]
  },
  {
   "cell_type": "code",
   "execution_count": null,
   "metadata": {
    "collapsed": false
   },
   "outputs": [],
   "source": [
    "# [USER INPUT] Set project name; project (p_) and file (f_) indices here:\n",
    "my_project_name = 'Keep on Smiling'\n",
    "a_name = 'Whole Exome Sequencing GATK 2.3.9.-lite'\n",
    "\n",
    "\n",
    "# pull out target project\n",
    "my_project = [p for p in api.projects.query(limit=100).all() \\\n",
    "              if p.name == my_project_name]\n",
    "\n",
    "# Double-check that target project exists\n",
    "if not my_project:\n",
    "    print('Target project (%s) not found, check spelling' % my_project_name)\n",
    "    raise KeyboardInterrupt\n",
    "else:\n",
    "    my_project = my_project[0]\n",
    "    \n",
    "my_apps = api.apps.query(project = my_project.id, limit=100)\n",
    "public_app = [a for a in api.apps.query(visibility='public', limit=100).all() \\\n",
    "                 if a.name == a_name][0]\n",
    "\n",
    "duplicate_app = [a for a in my_apps.all() if a.name == public_app.name]\n",
    "\n",
    "if duplicate_app:\n",
    "    print('App already exists in second project, please try another app')\n",
    "else:\n",
    "    print('App (%s) does not exist in Project (%s); copying now' % \\\n",
    "          (a_name, my_project.name))\n",
    "    \n",
    "    new_app = public_app.copy(project = my_project.id)\n",
    "        \n",
    "    # re-list apps in target project to verify the copy worked\n",
    "    my_app_names = [a.name for a in \\\n",
    "                    api.apps.query(project = my_project.id, limit=100).all()]\n",
    "    \n",
    "    if a_name in my_app_names:\n",
    "        print('Sucessfully copied one app!')\n",
    "    else:\n",
    "        print('Something went wrong...')"
   ]
  },
  {
   "cell_type": "markdown",
   "metadata": {},
   "source": [
    "## Additional Information\n",
    "Detailed documentation of this particular REST architectural style request is available [here](http://docs.sevenbridges.com/docs/copy-an-app)."
   ]
  }
 ],
 "metadata": {
  "kernelspec": {
   "display_name": "Python 3",
   "language": "python",
   "name": "python3"
  },
  "language_info": {
   "codemirror_mode": {
    "name": "ipython",
    "version": 3
   },
   "file_extension": ".py",
   "mimetype": "text/x-python",
   "name": "python",
   "nbconvert_exporter": "python",
   "pygments_lexer": "ipython3",
   "version": "3.5.2"
  }
 },
 "nbformat": 4,
 "nbformat_minor": 0
}
