{
 "cells": [
  {
   "cell_type": "markdown",
   "metadata": {},
   "source": [
    "# How do I find<sup>1</sup> & download TCGA data hosted on AWS?\n",
    "\n",
    "## Goal\n",
    "The **goal** of this tutorial is to empower the public to access [TCGA](https://wiki.nci.nih.gov/display/TCGA/TCGA+Home) data via [Amazon Web Services](https://aws.amazon.com/). \n",
    "\n",
    "## TCGA Data Types\n",
    "There are two [types](https://wiki.nci.nih.gov/display/TCGA/Open+Access+and+Controlled+Access+Data) of TCGA data:\n",
    "\n",
    " * Open Access Data\n",
    " * Controlled Access Data \n",
    "\n",
    "Investigators can obtain access to _Controlled_ data through the [NIH](https://www.nih.gov/) via the [dBGaP](http://www.ncbi.nlm.nih.gov/gap) site. Seven Bridges has obtained _Trusted Partner_ status with the NIH and authenticates user through the Federated Identity service.\n",
    "\n",
    "## Steps to data access\n",
    "Finding and downloading TCGA data are accomplished with three different steps. Data is _found_ by constructing and executing a [SPARQL](https://www.w3.org/TR/rdf-sparql-query/) query (Step 1). Data can be _downloaded_ by an API call (Step 2) if the user has appropriate access to the data type (Step 2). \n",
    "\n",
    " 1. [OpenSPARQL](https://opensparql.sbgenomics.com/#/) to query a [RDF](https://www.w3.org/RDF/) database of hosted TCGA data\n",
    " 2. Register on the [Cancer Genomics Cloud](https://cgc.sbgenomics.com/login/) (CGC)\n",
    " 3. The CGC [API](http://docs.cancergenomicscloud.org/docs/the-cgc-api) to download files\n",
    " \n",
    "We will follow these steps to find and then download _Open Access Data_ which will be accessible to **all users**. However, we _encourage users_ to modify the example query to stratify particularly interesting cohorts or obtain _Controlled Access Data_ (if they have the appropriate permission).\n",
    "\n",
    "## Notes\n",
    "This tutorial is written in **Python 2.7**, for compatibility with Python 3 please swap out the _urllib_ library. \n",
    "\n",
    "<sup>1</sup> This is the **OpenSPARQL** flavor of this tutorial. There is also a _Datasets API_ version [here](access_TCGA_on_AWS_via_DatasetsAPI.ipynb)"
   ]
  },
  {
   "cell_type": "markdown",
   "metadata": {},
   "source": [
    "## _Step 1_: Find data with OpenSPARQL\n",
    "### Imports\n",
    "We import [urllib](https://docs.python.org/2/library/urllib.html) and [SPARQLWrapper](https://rdflib.github.io/sparqlwrapper/) for checking the OpenSPARQL endpoint and constructing the SPARQL object. Both json and requests will be needed later for the API calls."
   ]
  },
  {
   "cell_type": "code",
   "execution_count": 1,
   "metadata": {
    "collapsed": true
   },
   "outputs": [],
   "source": [
    "# Needed for Step 1\n",
    "import urllib\n",
    "import SPARQLWrapper as spark\n",
    "\n",
    "\n",
    "# Needed for Step 3\n",
    "import json\n",
    "from requests import request"
   ]
  },
  {
   "cell_type": "markdown",
   "metadata": {},
   "source": [
    "### Check OpenSPARQL endpoint\n",
    "This tutorial relies on a public endpoint that can be temporarily down. Here we make sure it is operational. Then we initialize the SPARQL object."
   ]
  },
  {
   "cell_type": "code",
   "execution_count": 2,
   "metadata": {
    "collapsed": false
   },
   "outputs": [
    {
     "name": "stdout",
     "output_type": "stream",
     "text": [
      "Endpoint is operational, we are good to go!\n"
     ]
    }
   ],
   "source": [
    "# Check SPARQL endpoint\n",
    "try:\n",
    "    rc = urllib.urlopen(\"https://opensparql.sbgenomics.com\").getcode()\n",
    "except Exception:\n",
    "    rc = 0\n",
    "if rc != 200:\n",
    "    print(\n",
    "        \"\"\"script relies on sparql endpoint \n",
    "        (https://opensparql.sbgenomics.com/) \n",
    "        which is currently not responding. \n",
    "        Can not continue, exiting.\"\"\")\n",
    "    raise KeyboardInterrupt\n",
    "else:\n",
    "    print(\"Endpoint is operational, we are good to go!\")\n",
    "    \n",
    "    \n",
    "# Initialize SPARQL object\n",
    "sparql_endpoint = \"https://opensparql.sbgenomics.com/bigdata/namespace/tcga_metadata_kb/sparql\"\n",
    "sparql = spark.SPARQLWrapper(sparql_endpoint)   "
   ]
  },
  {
   "cell_type": "markdown",
   "metadata": {},
   "source": [
    "### Define a query\n",
    "We will construct a query to find a set of TCGA files. First, please review the TCGA **ontology** that we have defined for this dataset [here](http://docs.cancergenomicscloud.org/docs/tcga-metadata-on-the-cgc), it includes **140 properties** and takes some time to navigate.  \n",
    "\n",
    "This tutorial is searching for **female**, **Breast Cancer**, patients (_Cases_), who are **alive** and the associated _Files_ which are **open-access**, provide **Gene expression** and came from the **experiemental strategy** of RNA-seq. One way to think about this is nesting, e.g.\n",
    " \n",
    " * Case\n",
    "   * hasGender\n",
    "   * hasDiseaseType \n",
    "   * hasVitalStatus\n",
    " * File\n",
    "   * hasAccessLevel\n",
    "   * hasDataType \n",
    "   * hasExperimentalStrategy\n",
    "\n",
    "We will assign an _exact value_ to the above properties. However, the query also needs a few _non-specific_ parameters such as **File : hasStoragePath**. We include this in the query without an exact value such that this information is _returned_ by the query. We will need it for downloading the file in the next step. Alternatively, you can return properties and operate on them directly in Python, we provide an example here with **Case : hasDaysToLastFollowup**.\n",
    "\n",
    "Below we set the query and execute it. The query results are stored in an object named **results**."
   ]
  },
  {
   "cell_type": "code",
   "execution_count": 3,
   "metadata": {
    "collapsed": false
   },
   "outputs": [],
   "source": [
    "# Create the query above as a block-string\n",
    "query = \"\"\"\n",
    "    prefix rdfs: <http://www.w3.org/2000/01/rdf-schema#>\n",
    "    prefix tcga: <https://www.sbgenomics.com/ontologies/2014/11/tcga#>\n",
    "\n",
    "    select distinct ?case_id ?file_name ?file ?path ?vital_status ?days_to_follow\n",
    "    where\n",
    "    {\n",
    "      ?case a tcga:Case .\n",
    "      ?case rdfs:label ?case_id .\n",
    "      \n",
    "      ?case tcga:hasDiseaseType ?dt .\n",
    "      ?dt rdfs:label 'Breast Invasive Carcinoma' .\n",
    "\n",
    "      ?case tcga:hasGender ?gender. \n",
    "      ?gender rdfs:label 'FEMALE' .\n",
    "  \n",
    "      ?case tcga:hasVitalStatus ?vs .\n",
    "      ?vs rdfs:label 'Alive' .\n",
    "      \n",
    "      ?case tcga:hasDaysToLastFollowUp ?days_to_follow .\n",
    "\n",
    "      ?case tcga:hasFile ?file .\n",
    "    \n",
    "      ?file rdfs:label ?file_name .\n",
    "      ?file tcga:hasStoragePath ?path .\n",
    "      \n",
    "      ?file tcga:hasAccessLevel ?ac .\n",
    "      ?ac rdfs:label 'Open' .\n",
    "      \n",
    "      ?file tcga:hasExperimentalStrategy ?es .\n",
    "      ?es rdfs:label 'RNA-Seq'.\n",
    "      \n",
    "      ?file tcga:hasDataType ?dat.\n",
    "      ?dat rdfs:label 'Gene expression'\n",
    "    }\n",
    "\"\"\"\n",
    "\n",
    "sparql.setQuery(query)              # Define query on the wrapper\n",
    "sparql.setReturnFormat(spark.JSON)  # We want server to return JSON to use\n",
    "results = sparql.query().convert()  # Convert results to Python object"
   ]
  },
  {
   "cell_type": "markdown",
   "metadata": {},
   "source": [
    "### Extracting useful results\n",
    "Here we extract useful information from the _results_ object. First we extract two _examples_ of properties which maybe actionable in iPython:\n",
    "\n",
    " 1. UUID\n",
    " 2. Days to last followup\n",
    " \n",
    "Next we pull out two properties which will be necessary for downloading the data:\n",
    "\n",
    " 1. Path\n",
    " 2. (optional) File name\n",
    " \n",
    "We print out some summary stats about the query and list the first 10 results.\n",
    "\n",
    "#### Note\n",
    "There will very likely be repetitive _UUIDs_ and _days to followup_ in the print-out. This is **expected behavior** because we have not restricted the query to be exclusive, e.g. by specifying **Sample : hasSampleType = 'Primary Tumor'**. Instead we are seeing multiple files per sample, likely due to multiple samples. "
   ]
  },
  {
   "cell_type": "code",
   "execution_count": 4,
   "metadata": {
    "collapsed": false
   },
   "outputs": [
    {
     "name": "stdout",
     "output_type": "stream",
     "text": [
      "Query returned 4349 results, printing the first 10:\n",
      "Case UUID 084C6AEC-94F7-4090-8F3F-59FA9E89721A had 786 days to last followup \n",
      "\n",
      "Case UUID 084C6AEC-94F7-4090-8F3F-59FA9E89721A had 786 days to last followup \n",
      "\n",
      "Case UUID 084C6AEC-94F7-4090-8F3F-59FA9E89721A had 786 days to last followup \n",
      "\n",
      "Case UUID 084C6AEC-94F7-4090-8F3F-59FA9E89721A had 786 days to last followup \n",
      "\n",
      "Case UUID 084C6AEC-94F7-4090-8F3F-59FA9E89721A had 786 days to last followup \n",
      "\n",
      "Case UUID 08306EDE-E74B-4BE9-B768-7FD98647B6AC had 344 days to last followup \n",
      "\n",
      "Case UUID 08306EDE-E74B-4BE9-B768-7FD98647B6AC had 344 days to last followup \n",
      "\n",
      "Case UUID 08306EDE-E74B-4BE9-B768-7FD98647B6AC had 344 days to last followup \n",
      "\n",
      "Case UUID 08306EDE-E74B-4BE9-B768-7FD98647B6AC had 344 days to last followup \n",
      "\n",
      "Case UUID 08306EDE-E74B-4BE9-B768-7FD98647B6AC had 344 days to last followup \n",
      "\n"
     ]
    }
   ],
   "source": [
    "# Information (potentially actionable) about the query results\n",
    "uuid_list = [result['case_id']['value'] for result in results['results']['bindings']]\n",
    "day_to_follow_list = \\\n",
    "[result['days_to_follow']['value'] for result in results['results']['bindings']]\n",
    "\n",
    "# Information for downloading files within the query\n",
    "file_paths = [result['path']['value'] for result in results['results']['bindings']]\n",
    "file_names = [result['file_name']['value'] for result in results['results']['bindings']]\n",
    "file_ids = [result['file']['value'].split('/')[-1] for result in results['results']['bindings']]\n",
    "\n",
    "# Print some information about the query results\n",
    "print(\"Query returned %i results, printing the first 10:\" % (len(uuid_list)))\n",
    "for ii in range(0,min(10, len(uuid_list))):\n",
    "    print(\"Case UUID %s had %s days to last followup \\n\" \\\n",
    "         % (uuid_list[ii], day_to_follow_list[ii]))"
   ]
  },
  {
   "cell_type": "markdown",
   "metadata": {},
   "source": [
    "## _Step 2_: Register for a Cancer Genomics Cloud Account\n",
    "### Create a new account\n",
    "**NOTE**: Users with an existing CGC account can skip this step.\n",
    "\n",
    "There is an excellent guide to registering for the CGC [here](http://docs.cancergenomicscloud.org/docs/sign-up-for-the-cgc) -- this whould process should take less than 5 mins and is free.  \n",
    "\n",
    "### Get your Developer Token\n",
    "Once you have registered and verified your account, log in to the CGC. In the top right corner, click on your user name (here \"jack\"). A small window will drop down, including your account balance, data access approval, Account Settings, and Payments.  \n",
    "\n",
    "<img src=\"images/TCGA_AWS_0.png\" height=\"218\" width=\"780\"> \n",
    "\n",
    "Click on Account Settings to open a new window with your information.\n",
    "\n",
    "<img src=\"images/TCGA_AWS_1.png\" height=\"496\" width=\"537\"> \n",
    "\n",
    "In the left panel, click on Developer to get to the Developer Dashboard.\n",
    "\n",
    "<img src=\"images/TCGA_AWS_2.png\" height=\"338\" width=\"780\"> \n",
    "\n",
    "If this is the first time logging on, you won't have any Token. Click the green Generate Token button to get one. \n",
    "\n",
    "<img src=\"images/TCGA_AWS_3.png\" height=\"274\" width=\"579\"> \n",
    "\n",
    "Copy the Authentication Token, we will use this later for data access. \n",
    "\n",
    "**NOTE**: your token is **confidential** information which grants the same access as your username and password. Please keep it safe. In case it is compromised (for example in a publically shared iPython notebook), make sure to click the _Regenerate Token_ button to disable the old one and generate a new one."
   ]
  },
  {
   "cell_type": "markdown",
   "metadata": {},
   "source": [
    "## _Step 3_: Download data with the Cancer Genomics Cloud API\n",
    "We will use the Python wrapper (sevenbridges-python) to download the data. If you haven't already installed this, please do\n",
    "\n",
    "### Install _sevenbridges-python_ library\n",
    "You need to install _sevenbridges-python_ library. Library details are available [here](http://sevenbridges-python.readthedocs.io/en/latest/sevenbridges/). The easiest way to install sevenbridges-python is using pip:\n",
    "```bash\n",
    "pip install sevenbridges-python\n",
    "```\n",
    "\n",
    "### Save your Authentication Token to a local configuration file\n",
    "There are multiple ways to pass your authentication token to the sevenbridges-python library. Here we focus on using a configuration file in your HOME directory. The format of the .sbgrc is standard ini file format, as shown below:\n",
    "\n",
    "   ```bash\n",
    "    [cgc]\n",
    "    auth-token = 910975f5b24a470bb0b028fe813b8100\n",
    "    api-url = https://cgc-api.sbgenomics.com/v2\n",
    "    \n",
    "    [sbpla]\n",
    "    auth-token = 700992f7b24a470bb0b028fe813b8100\n",
    "    api-url = https://api.sbgenomics.com/v2  \n",
    "   ```\n",
    "To **create** this file<sup>1</sup>, use the following steps in your _Terminal_:\n",
    "\n",
    "    1.\n",
    "```bash\n",
    "cd ~\n",
    "touch .sbgrc\n",
    "vi .sbgrc\n",
    "```\n",
    "    2. Press \"i\" then enter to go into **insert mode**\n",
    "    3. Write the text above for each environment. It should look like: \n",
    " \n",
    "<img src=\"images/example_sbgrc_file.png\" height=\"505\" width=\"409\"> \n",
    "    4. Press \"ESC\" then type \":wq\" to save the file and exit vi\n",
    "  \n",
    "<sup>1</sup> If the file already exists, omit the _touch_ command\n",
    "\n",
    "### Imports\n",
    "We import the _Api_ class from the official sevenbridges-python bindings below."
   ]
  },
  {
   "cell_type": "code",
   "execution_count": 5,
   "metadata": {
    "collapsed": true
   },
   "outputs": [],
   "source": [
    "import sevenbridges as sbg"
   ]
  },
  {
   "cell_type": "markdown",
   "metadata": {
    "collapsed": true
   },
   "source": [
    "## Initialize the object\n",
    "The _Api_ object needs to know your **auth\\_token** and the correct path. Here we assume you are using the .sbgrc file in your home directory. For other options see <a href=\"https://github.com/sbg/okAPI/blob/master/Recipes/CGC/Setup_API_environment.ipynb\">Setup_API_environment.ipynb</a>"
   ]
  },
  {
   "cell_type": "code",
   "execution_count": 6,
   "metadata": {
    "collapsed": true
   },
   "outputs": [],
   "source": [
    "# [USER INPUT] specify platform {cgc, sbg}\n",
    "prof = 'cgc'\n",
    "\n",
    "\n",
    "config_file = sbg.Config(profile=prof)\n",
    "api = sbg.Api(config=config_file)"
   ]
  },
  {
   "cell_type": "markdown",
   "metadata": {},
   "source": [
    "### List of links to download files\n",
    "Here we loop through the _first ten_ files using the **file\\_ids** list from above. We do two things with these ids:\n",
    "\n",
    " 1. Create a list of files on the platform. From this point, it would be possible to **take action** on the CGC, i.e. combining these files with an _App_ and the starting a _Task_. \n",
    " 2. (optional) Generate a list of download links\n",
    " 3. Download each of the ten files in this list. They will be saved to a _downloads_ folder in your local directory."
   ]
  },
  {
   "cell_type": "code",
   "execution_count": 8,
   "metadata": {
    "collapsed": false
   },
   "outputs": [
    {
     "name": "stdout",
     "output_type": "stream",
     "text": [
      "UNCID_654572.TCGA-A2-A0D1-01A-11R-A034-07.110309_UNC12-SN629_0068_BB05LPABXX.3.trimmed.annotated.translated_to_genomic.spljxn.quantification.txt\n",
      "UNCID_654594.TCGA-A2-A0D1-01A-11R-A034-07.110309_UNC12-SN629_0068_BB05LPABXX.3.trimmed.annotated.gene.quantification.txt\n",
      "unc.edu.01370d42-f75c-4532-9b9c-24ff7302b033.1770587.bt.exon_quantification.txt\n",
      "unc.edu.01370d42-f75c-4532-9b9c-24ff7302b033.1151943.junction_quantification.txt\n",
      "UNCID_654642.TCGA-A2-A0D1-01A-11R-A034-07.110309_UNC12-SN629_0068_BB05LPABXX.3.trimmed.annotated.translated_to_genomic.exon.quantification.txt\n",
      "unc.edu.e3639f71-cfe7-46c7-8390-73f8043ac6b0.1147657.junction_quantification.txt\n",
      "UNCID_477289.TCGA-A2-A0T6-01A-11R-A084-07.110406_UNC13-SN749_0049_AC008AABXX.7.trimmed.annotated.translated_to_genomic.exon.quantification.txt\n",
      "UNCID_477240.TCGA-A2-A0T6-01A-11R-A084-07.110406_UNC13-SN749_0049_AC008AABXX.7.trimmed.annotated.translated_to_genomic.spljxn.quantification.txt\n",
      "unc.edu.e3639f71-cfe7-46c7-8390-73f8043ac6b0.1769820.bt.exon_quantification.txt\n",
      "UNCID_477208.TCGA-A2-A0T6-01A-11R-A084-07.110406_UNC13-SN749_0049_AC008AABXX.7.trimmed.annotated.gene.quantification.txt\n"
     ]
    }
   ],
   "source": [
    "# 1) Generate a list a file objects from the file_ids list\n",
    "file_list = []\n",
    "for f_id in file_ids[0:10]:\n",
    "    file_list.append(api.files.get(id = f_id))\n",
    "    print(file_list[-1].name)    \n",
    "    \n",
    "# (BRANCH-POINT) Do something awesome with these files on the CGC\n",
    "\n",
    "\n",
    "# 2) (optional) Generate a list of download links\n",
    "dl_list = []\n",
    "for f in file_list:\n",
    "    dl_list.append(f.download_info())\n",
    "\n",
    "    \n",
    "# 3) Download each of the files in the list to a _downloads_ folder in your local directory.\n",
    "import os\n",
    "\n",
    "dl_dir = 'downloads'\n",
    "try:\n",
    "    os.stat(dl_dir)\n",
    "except:\n",
    "    os.mkdir(dl_dir)\n",
    "\n",
    "for f in file_list:\n",
    "    f.download(path = (\"%s/%s\" % (dl_dir, f.name)))"
   ]
  }
 ],
 "metadata": {
  "kernelspec": {
   "display_name": "Python 2",
   "language": "python",
   "name": "python2"
  },
  "language_info": {
   "codemirror_mode": {
    "name": "ipython",
    "version": 2
   },
   "file_extension": ".py",
   "mimetype": "text/x-python",
   "name": "python",
   "nbconvert_exporter": "python",
   "pygments_lexer": "ipython2",
   "version": "2.7.11"
  }
 },
 "nbformat": 4,
 "nbformat_minor": 0
}
