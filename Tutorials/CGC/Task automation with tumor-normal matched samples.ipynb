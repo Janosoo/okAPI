{
 "cells": [
  {
   "cell_type": "markdown",
   "metadata": {
    "deletable": true,
    "editable": true
   },
   "source": [
    "# How can I make, validate, and run many tasks with tumor-normal bam file matching?\n",
    "\n",
    "In this tutorial, you will learn how to match bam files that belong to the same primary tumor and solid tissue normal samples that belong to the same TCGA case ID and run tasks with the tumor-normal matched files. To learn how to import these files using the Datasets API, please use the **Tumor Tissue Normal Matched TCGA.ipynb** tutorial.\n",
    "\n",
    "## Objective\n",
    "This tutorial introduces you to performing an analysis where you match the tumor-normal files for same patient using the API with the sevenbridges-python bindings library.\n",
    "\n",
    "## Procedure\n",
    "We are going to assume that you already contain a project with the appropriate bam files.\n",
    "\n",
    " 1. Find an existing project.\n",
    " 2. Copy app from public apps to the project.\n",
    " 3. Print an app's input ports.\n",
    " 4. Copy reference file from public files.\n",
    " 5. Create tasks with tumor-normal matched bam files.\n",
    "\n",
    "## Prerequisites\n",
    "You need your authentication token and the API needs to know about it. See Setup_API_environment.ipynb for details.\n",
    "You have imported the tumor-normal TCGA bam files within the platform to an existing project. The **Tumor Tissue Normal Matched TCGA.ipynb** tutorial provides a method to perform this input.\n",
    "\n",
    "## Imports\n",
    "We import the Api class from the official sevenbridges-python bindings below.\n"
   ]
  },
  {
   "cell_type": "code",
   "execution_count": null,
   "metadata": {
    "collapsed": true,
    "deletable": true,
    "editable": true
   },
   "outputs": [],
   "source": [
    "import sevenbridges as sbg"
   ]
  },
  {
   "cell_type": "markdown",
   "metadata": {
    "deletable": true,
    "editable": true
   },
   "source": [
    "## Initialize the object\n",
    "The Api object needs to know your auth_token and the correct path. Here we assume you are using the .sbgrc file in your home directory. For other options see Setup_API_environment.ipynb"
   ]
  },
  {
   "cell_type": "code",
   "execution_count": null,
   "metadata": {
    "collapsed": true,
    "deletable": true,
    "editable": true
   },
   "outputs": [],
   "source": [
    "# [USER INPUT] Specify platform {cgc, sbg}\n",
    "prof = 'cgc'\n",
    "\n",
    "\n",
    "config_file = sbg.Config(profile=prof)\n",
    "api = sbg.Api(config=config_file)"
   ]
  },
  {
   "cell_type": "markdown",
   "metadata": {
    "deletable": true,
    "editable": true
   },
   "source": [
    "## 1) Find an existing project\n",
    "\n",
    "Find the project within your project space using the name of the project."
   ]
  },
  {
   "cell_type": "code",
   "execution_count": null,
   "metadata": {
    "collapsed": false,
    "deletable": true,
    "editable": true
   },
   "outputs": [],
   "source": [
    "my_project_name = 'matched tumor-normal samples'\n",
    "my_project = [p for p in api.projects.query(limit=100).all() \\\n",
    "              if p.name == my_project_name]\n",
    "\n",
    "# Double-check that target project exists\n",
    "if not my_project:\n",
    "    print('Target project (%s) not found, check spelling' % my_project_name)\n",
    "    raise KeyboardInterrupt\n",
    "else:\n",
    "    my_project = my_project[0]"
   ]
  },
  {
   "cell_type": "markdown",
   "metadata": {
    "deletable": true,
    "editable": true
   },
   "source": [
    "## 2) Find an app within the public tools and copy it to the project\n",
    "\n",
    "We will find the VarScan2 Workflow from BAM app within the public tools and copy it to the project."
   ]
  },
  {
   "cell_type": "code",
   "execution_count": null,
   "metadata": {
    "collapsed": false,
    "deletable": true,
    "editable": true
   },
   "outputs": [],
   "source": [
    "app_name = \"VarScan2 Workflow from BAM\"\n",
    "\n",
    "public_app = [a for a in api.apps.query(visibility='public', limit=100).all() \\\n",
    "                 if a.name == app_name]\n",
    "\n",
    "# Double-check that source app exists among the public apps\n",
    "if not public_app:\n",
    "    print('Target app (%s) not found, check spelling' % app_name)\n",
    "    raise KeyboardInterrupt\n",
    "else:\n",
    "    public_app = public_app[0]"
   ]
  },
  {
   "cell_type": "code",
   "execution_count": null,
   "metadata": {
    "collapsed": false,
    "deletable": true,
    "editable": true
   },
   "outputs": [],
   "source": [
    "my_apps = api.apps.query(project = my_project.id, limit=100)\n",
    "\n",
    "duplicate_app = [a for a in my_apps.all() if a.name == public_app.name]\n",
    "\n",
    "if duplicate_app:\n",
    "    print('App already exists in second project. Using this app instead.')\n",
    "    new_app = duplicate_app[0]\n",
    "else:\n",
    "    print('App (%s) does not exist in Project (%s); copying now' % \\\n",
    "          (app_name, my_project.name))\n",
    "    \n",
    "    new_app = public_app.copy(project = my_project.id)\n",
    "        \n",
    "    # re-list apps in target project to verify the copy worked\n",
    "    my_app_names = [a.name for a in \\\n",
    "                    api.apps.query(project = my_project.id, limit=100).all()]\n",
    "    \n",
    "    if app_name in my_app_names:\n",
    "        print('Sucessfully copied one app!')\n",
    "    else:\n",
    "        print('Something went wrong...')"
   ]
  },
  {
   "cell_type": "markdown",
   "metadata": {
    "deletable": true,
    "editable": true
   },
   "source": [
    "## 3) Getting details of the inputs for the app.\n",
    "\n",
    "In this step, we will identify the input ports for the Varscan2 workflow so that we can get the appropriate ports set with input files for each task."
   ]
  },
  {
   "cell_type": "code",
   "execution_count": null,
   "metadata": {
    "collapsed": false,
    "deletable": true,
    "editable": true
   },
   "outputs": [],
   "source": [
    "idx = 1\n",
    "print(\"This app has {} input ports\".format(len(new_app.raw[\"inputs\"])))\n",
    "for eachInput in  new_app.raw[\"inputs\"]:\n",
    "    print(\"Input port {} with input id {}\".format(idx, eachInput[\"id\"]))\n",
    "    idx += 1"
   ]
  },
  {
   "cell_type": "markdown",
   "metadata": {
    "deletable": true,
    "editable": true
   },
   "source": [
    "## 4) Copying the reference fasta file for the tasks.\n",
    "\n",
    "In this step, we will copy the ucsc.hg19.fasta file from the public reference files to the project. We then use this copied file as the reference file (input_fasta_file input port) for each task."
   ]
  },
  {
   "cell_type": "code",
   "execution_count": null,
   "metadata": {
    "collapsed": true,
    "deletable": true,
    "editable": true
   },
   "outputs": [],
   "source": [
    "ref_file_name = 'ucsc.hg19.fasta'\n",
    "source_project_id = 'admin/sbg-public-data'  \n",
    "source_files = list(api.files.query(limit = 100, project = source_project_id).all())\n",
    "reqd_input_file = [currFile for currFile in source_files if currFile.name == ref_file_name]\n",
    "\n",
    "if not reqd_input_file:\n",
    "    print('File does not exist. Cannot copy.')\n",
    "else:\n",
    "    reqd_input_file = reqd_input_file[0]\n",
    "    copied_file = reqd_input_file.copy(project=my_project.id,  name = reqd_input_file.name)\n",
    "\n"
   ]
  },
  {
   "cell_type": "markdown",
   "metadata": {
    "deletable": true,
    "editable": true
   },
   "source": [
    "## 5) Create tasks for each tumor-tissue normal matched file.\n",
    "\n",
    "In this step, we will identify all the bam files that Primary tumor samples and Solid Tissue Normal samples that belong to the same patient (case ID in TCGA). Then we use these matched bam files as inputs to the Tumor_BAM and Normal_BAM input ports for VarScan2 and start multiple VarScan2 tasks."
   ]
  },
  {
   "cell_type": "code",
   "execution_count": null,
   "metadata": {
    "collapsed": false,
    "deletable": true,
    "editable": true
   },
   "outputs": [],
   "source": [
    "all_files = list(api.files.query(project=my_project.id, limit=100).all())\n",
    "tumor_bam_files = [curr_file for curr_file in all_files if curr_file.name.endswith(\".bam\") and curr_file.metadata[\"sample_type\"] == \"Primary Tumor\"]\n",
    "normal_bam_files = [curr_file for curr_file in all_files if curr_file.name.endswith(\".bam\") and curr_file.metadata[\"sample_type\"] == \"Solid Tissue Normal\"]"
   ]
  },
  {
   "cell_type": "code",
   "execution_count": null,
   "metadata": {
    "collapsed": false,
    "deletable": true,
    "editable": true
   },
   "outputs": [],
   "source": [
    "inputs = {}\n",
    "inputs[\"input_fasta_file\"] = copied_file\n",
    "all_tasks = []\n",
    "for curr_tumor_file in tumor_bam_files:\n",
    "    matched_normal_files = [curr_file for curr_file in normal_bam_files if curr_file.metadata[\"case_id\"] == curr_tumor_file.metadata[\"case_id\"]]\n",
    "    for curr_matched_normal_file in matched_normal_files:\n",
    "        inputs[\"Tumor_BAM\"] = curr_tumor_file\n",
    "        inputs[\"Normal_BAM\"] = curr_matched_normal_file\n",
    "        task_name = \"VarScan2 with \" + curr_tumor_file.name + \" and \" + curr_matched_normal_file.name\n",
    "        my_task = api.tasks.create(name=task_name, project=my_project.id, \\\n",
    "                                    app=new_app.id, inputs=inputs, run=False)\n",
    "        #my_task.run()\n",
    "        all_tasks.append(my_task)"
   ]
  }
 ],
 "metadata": {
  "kernelspec": {
   "display_name": "Python 3",
   "language": "python",
   "name": "python3"
  },
  "language_info": {
   "codemirror_mode": {
    "name": "ipython",
    "version": 3
   },
   "file_extension": ".py",
   "mimetype": "text/x-python",
   "name": "python",
   "nbconvert_exporter": "python",
   "pygments_lexer": "ipython3",
   "version": "3.5.2"
  }
 },
 "nbformat": 4,
 "nbformat_minor": 0
}
