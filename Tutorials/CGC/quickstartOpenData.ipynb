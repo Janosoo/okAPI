{
 "cells": [
  {
   "cell_type": "markdown",
   "metadata": {},
   "source": [
    "# How do I get started with _open-data_? \n",
    "### Overview\n",
    "This _guide_ using the API to lead you through a simple fastaq processing analysis which parallels the GUI _Quickstart featuring open-access data_ using the CGC <sup>1</sup>. We have written this example in Python, but the concepts can be adapted to your preferred programming language. We encourage you to try this analysis yourself.\n",
    "\n",
    "The flow of the CGC is from the *user* who owns or is a member of multiple *projects*. Each *project* contains multiple *files* and *apps*. Users can run *tasks* by selecting input *files* and *configuration parameters* for an *app* within thier project. \n",
    "\n",
    "<img src=\"images/CGC_overview-02.png\"> \n",
    "\n",
    "<sup>1</sup> This document is not yet complete, will be added in the near future.\n",
    "\n",
    "\n",
    "### Prerequisites\n",
    " 1. You need your _authentication token_ and the API needs to know about it. See <a href=\"set_AUTH_TOKEN.ipynb\">**set_AUTH_TOKEN.ipynb**</a> for details.\n",
    " \n",
    "## Imports and Definitions\n",
    "We will use a Python class (API) as a wrapper for API calls. All classes and methods defined in <a href=\"defs/apimethods.py\" target=\"_blank\">_defs/apimethods.py_</a>. "
   ]
  },
  {
   "cell_type": "code",
   "execution_count": null,
   "metadata": {
    "collapsed": true
   },
   "outputs": [],
   "source": [
    "from defs.apimethods import *"
   ]
  },
  {
   "cell_type": "markdown",
   "metadata": {
    "collapsed": true
   },
   "source": [
    "## Create a project\n",
    "Projects are the foundation of any analysis on the CGC. We can either use a project that has already been created, or we can use the API to create one. Here we will create a new project, but first check that it doesn't exist to show both methods. The *project name*, Pilot Fund *billing group*, and a project *description* will be sent in our API call. \n",
    "\n",
    "#### PROTIPS\n",
    "* The recipe for _creating a project_ is [here](../../Recipes/CGC/projects_makeNew.ipynb)\n",
    "* Detailed documentation of this particular REST architectural style request is available [here](http://docs.cancergenomicscloud.org/docs/create-a-new-project)"
   ]
  },
  {
   "cell_type": "code",
   "execution_count": null,
   "metadata": {
    "collapsed": false
   },
   "outputs": [],
   "source": [
    "# [USER INPUT] Set project name here:\n",
    "new_project_name = 'Keep on Smiling'\n",
    "\n",
    "# LIST all projects\n",
    "existing_projects = API('projects')                            \n",
    "        \n",
    "# What are my funding sources?\n",
    "billing_groups = API('billing/groups')\n",
    "# Pick the first group (arbitrary)\n",
    "print((billing_groups.name[0] + \\\n",
    "       ' will be charged for computation and storage (if applicable) for your new project'))\n",
    "\n",
    "# Set up the information for your new project\n",
    "new_project = {\n",
    "        'billing_group': billing_groups.id[0],\n",
    "        'description': 'A project created by the API Cookbook.',\n",
    "        'name': new_project_name, \n",
    "        'tags': ['tcga']\n",
    "}\n",
    "    \n",
    "if new_project['name'] in existing_projects.name:\n",
    "    # Your project (might) already exist\n",
    "    print('A project with the same name already exists, you are good to go')\n",
    "    p_index = existing_projects.name.index(new_project['name'])\n",
    "    my_project = API(path=('projects/' + existing_projects.id[p_index])) \n",
    "\n",
    "else:\n",
    "    # CREATE the new project\n",
    "    my_project = API(method='POST', data=new_project, path='projects')\n",
    "    # (re)list all projects, to check that new project posted\n",
    "    existing_projects = API(path='projects')\n",
    "    # get ADDITONAL new project details \n",
    "    my_project = API(path=('projects/' + existing_projects.id[0])) \n",
    "    \n",
    "    print('Your new project %s has been created.' % (my_project.name))\n",
    "    if hasattr(my_project, 'description'): # need to check if description has been entered\n",
    "        print('Project description: %s \\n' % (my_project.description))"
   ]
  },
  {
   "cell_type": "markdown",
   "metadata": {},
   "source": [
    "## Add files\n",
    "Here we will take advantage of files already in the _Public Reference Files_. \n",
    "\n",
    "#### PROTIPS\n",
    "* The recipe for _copying files to a project_ is [here](../../Recipes/CGC/files_copyFromPublicReference.ipynb)\n",
    "* Detailed documentation of this particular REST architectural style request is available [here](http://docs.cancergenomicscloud.org/docs/copy-a-file)"
   ]
  },
  {
   "cell_type": "code",
   "execution_count": null,
   "metadata": {
    "collapsed": false
   },
   "outputs": [],
   "source": [
    "# [USER INPUT] Set project and file names:\n",
    "p_name = 'admin/sbg-public-data'\n",
    "f_name = 'ucsc.hg19.fasta'                 \n",
    "\n",
    "# LIST all files in the source and target project\n",
    "my_files_source = API(path='files', \\\n",
    "                      query={'project':p_name, 'limit':100})\n",
    "my_files_target = API(path='files', \\\n",
    "                      query={'project': my_project.id})\n",
    "\n",
    "if f_name not in my_files_source.name:\n",
    "    print('File (%s) not found. Where do we go from here?' % (f_name))\n",
    "    raise KeyboardInterrupt\n",
    "else:\n",
    "    f_index = my_files_source.name.index(f_name)\n",
    "    if f_name not in my_files_target.name:\n",
    "        print('File (%s) does not exist in Project (%s); copying now' % \\\n",
    "              (f_name, my_project.id))\n",
    "\n",
    "        # COPY the selected file from source to target project\n",
    "        API(path=('files/' + my_files_source.id[f_index] + '/actions/copy'), \\\n",
    "            method='POST', \\\n",
    "            data={'project': my_project.id,\\\n",
    "                  'name': f_name}) \n",
    "\n",
    "        # re-list files in target project to verify the copy worked\n",
    "        my_files_target = API(path='files', \\\n",
    "                              query={'project': my_project.id})\n",
    "\n",
    "        if f_name in my_files_target.name:\n",
    "            print('Sucessfully copied one file!')\n",
    "        else:\n",
    "            print('Something went wrong...')\n",
    "                \n",
    "# We are done copying files, let's clean up a little\n",
    "del my_files_source, my_files_target\n",
    "my_files = API(path='files', query={'project': my_project.id})"
   ]
  },
  {
   "cell_type": "markdown",
   "metadata": {},
   "source": [
    "## Add the _Picard CreateSequenceDictionary_ workflow\n",
    "There are more than 150 public apps available on the Seven Bridges CGC. Here we query all of them, then copy the target workflow to our project. \n",
    "\n",
    "#### PROTIPS\n",
    "* The recipe for _copying apps from Public Reference apps_ is [here](../../Recipes/CGC/apps_copyFromPublicApps.ipynb)\n",
    "* Detailed documentation of this particular REST architectural style request is available [here](http://docs.cancergenomicscloud.org/docs/copy-an-app-secondary-method)"
   ]
  },
  {
   "cell_type": "code",
   "execution_count": null,
   "metadata": {
    "collapsed": false
   },
   "outputs": [],
   "source": [
    "# [USER INPUT] Set app name:\n",
    "a_name = 'Picard CreateSequenceDictionary'\n",
    "       \n",
    "# LIST all Public Apps using VISIBILITY and searching by NAME\n",
    "my_apps_source = API(path='apps', query={'visibility': 'public', 'limit': 100})\n",
    "my_apps_target = API(path='apps', query={'project': my_project.id})\n",
    "if a_name not in my_apps_source.name:\n",
    "    print('Target app (%s) does not exist in the public repository. Please double-check the spelling' \\\n",
    "          % (TARGET_APP))\n",
    "else:\n",
    "    a_index = my_apps_source.name.index(a_name)\n",
    "\n",
    "# Check if app already exists in the second project\n",
    "if my_apps_source.name[a_index] in my_apps_target.name:\n",
    "    print('App already exists in second project, you are good to go')\n",
    "else:\n",
    "    print('App (%s) does not exist in Project (%s); copying now' % \\\n",
    "          (my_apps_source.name[a_index], my_project.id))\n",
    "    \n",
    "    # COPY the selected app from first to second project\n",
    "    API(path=('apps/' + my_apps_source.id[a_index] + '/actions/copy'), \\\n",
    "        method='POST', \\\n",
    "        data={'project': my_project.id,\\\n",
    "              'name': my_apps_source.name[a_index]})\n",
    "\n",
    "    # re-list the apps in secondProject to verify the copy worked\n",
    "    my_apps_target = API(path='apps', query={'project': my_project.id})\n",
    "    \n",
    "    if my_apps_source.name[a_index] in my_apps_target.name:\n",
    "        print('Sucessfully copied one app!')\n",
    "    else:\n",
    "        print('Something went wrong...')\n",
    "    \n",
    "# We are done copying files, let's clean up a little\n",
    "del my_apps_source, my_apps_target\n",
    "my_apps = API(path='apps', query={'project': my_project.id})"
   ]
  },
  {
   "cell_type": "markdown",
   "metadata": {},
   "source": [
    "## Build & Start tasks\n",
    "Next we generate one task for the single input file we added. The task will start running immediately. Note, unlike the _Controlled Data_ [Example](quickstart.ipynb), we don't build a _File Processing List_ here because this task takes only a single input and we do **not** expect to have more than one file (no batch processing).\n",
    "\n",
    "#### PROTIPS\n",
    "* The closest recipe for _creating and starting tasks_ is [here](../../Recipes/CGC/tasks_create.ipynb)\n",
    "* Detailed documentation of this particular REST architectural style request is available [here](http://docs.cancergenomicscloud.org/docs/create-a-new-task)"
   ]
  },
  {
   "cell_type": "code",
   "execution_count": null,
   "metadata": {
    "collapsed": false
   },
   "outputs": [],
   "source": [
    "# JSON of the Task\n",
    "new_task = {'description': 'APIs are awesome',\n",
    "    'name': ('task created with CGC_API_quickstartOpenData.ipynb'),\n",
    "    'app': (my_apps.id[0]),                                  # App should be at index 0 since we just added it\n",
    "    'project': my_project.id,\n",
    "    'inputs': {\n",
    "        'input_reference': {                               # .fasta reference file\n",
    "            'class': 'File',\n",
    "            'path': my_files.id[my_files.name.index(f_name)],\n",
    "            'name': my_files.name[my_files.name.index(f_name)]\n",
    "        },\n",
    "        'quiet': 'True'\n",
    "    }\n",
    "}\n",
    "my_task = API(method='POST', data=new_task, path='tasks/', query = {'action': 'run'})\n",
    "# ALTERNATIVE: make a DRAFT task and start it later\n",
    "# myTask = API(method='POST', data=new_task, path='tasks/')        # task created in DRAFT state\n",
    "# myTask = API(method='POST', path=('tasks/' + myTask.id + '/actions/run'))  \n",
    "    \n",
    "print(\"\"\"\n",
    "% Task has been created. Enjoy a break, treat yourself to a coffee, \n",
    "and come back to us once you've gotten an email that tasks are done.\n",
    "(alternatively, use the task monitoring cells below)\"\"\")"
   ]
  },
  {
   "cell_type": "markdown",
   "metadata": {},
   "source": [
    "## Check task completion\n",
    "These tasks may take a long time to complete, here are two ways to check in on them:\n",
    "* Wait for email confirmation <sup>1</sup>\n",
    "* Ping the task to see it's _status_. Here we use a 10 min interval, adjust it appropriately for longer or shorter workflows\n",
    "\n",
    "<sup>1</sup> Emails will arrive regardless of whether the task was started by GUI or API.\n",
    "\n",
    "#### PROTIPS\n",
    "* The closest recipe for _monitoring tasks_ is [here](../../Recipes/CGC/tasks_monitorAndGetResults.ipynb)\n",
    "* Detailed documentation of this particular REST architectural style request is available [here](http://docs.cancergenomicscloud.org/docs/perform-an-action-on-a-specific-task)"
   ]
  },
  {
   "cell_type": "code",
   "execution_count": null,
   "metadata": {
    "collapsed": false
   },
   "outputs": [],
   "source": [
    "# [USER INPUT] Set loop time (seconds):\n",
    "loop_time = 120\n",
    "\n",
    "flag = {'taskRunning': True}\n",
    "while flag['taskRunning']:\n",
    "    print('Pinging CGC for task completion, will download summary files once all tasks completed.')\n",
    "    my_task = API(method='GET', path=('tasks/' + my_task.id))\n",
    "    if my_task.status == 'COMPLETED':\n",
    "        flag['taskRunning'] = False\n",
    "        print('Task has completed, life is beautiful')\n",
    "    elif my_task.status  == 'FAILED':  \n",
    "        flag['taskRunning'] = False\n",
    "        print('Task (%s) failed, check it out' \\\n",
    "                  % (my_task.id))\n",
    "    else:\n",
    "        sleep(loop_time)"
   ]
  },
  {
   "cell_type": "markdown",
   "metadata": {},
   "source": [
    "## Check task outputs\n",
    "Here we poll only the last completed task (adapt as needed)"
   ]
  },
  {
   "cell_type": "code",
   "execution_count": null,
   "metadata": {
    "collapsed": false
   },
   "outputs": [],
   "source": [
    "my_task = API(method='GET', path=('tasks/' + my_task.id))\n",
    "print('Your task created %i outputs' % (len(my_task.outputs.keys())))\n",
    "for f_name in my_task.outputs:\n",
    "    print(' task output (%s) is the file (%s)' % (f_name, my_task.outputs[f_name]['name']))"
   ]
  },
  {
   "cell_type": "markdown",
   "metadata": {},
   "source": [
    "### (optional) Download output files\n",
    "You already have all of these files **saved in your project** (and an _email_ for each completed task). You may also download some files\n",
    "\n",
    "#### PROTIPS\n",
    "* Detailed documentation of this particular REST architectural style request is available [here](http://docs.cancergenomicscloud.org/docs/get-download-url-for-a-file)"
   ]
  },
  {
   "cell_type": "code",
   "execution_count": null,
   "metadata": {
    "collapsed": false
   },
   "outputs": [],
   "source": [
    "# [USER INPUT] Set file extension(s) to download here:\n",
    "output_ext = 'dict' \n",
    "\n",
    "dl_list = [\"links to file downloads\"]\n",
    "\n",
    "my_files = API(path='files', query={'project': my_project.id})\n",
    "for ii, f_name in enumerate(my_files.name):\n",
    "    if (f_name[-len(output_ext):] == output_ext):\n",
    "        dl_list.append(api_call(path=('files/' + my_files.id[ii] + '/download_info'))['url'])\n",
    "        \n",
    "download_files(dl_list)"
   ]
  },
  {
   "cell_type": "markdown",
   "metadata": {},
   "source": [
    "We hope this tutorial has been helpful for you. If you have any feedback (especially _positive_), we would cherish it. Please share your thoughts on our [forum](http://docs.cancergenomicscloud.org/discuss).\n",
    "\n",
    "**Good luck & have fun!**"
   ]
  }
 ],
 "metadata": {
  "kernelspec": {
   "display_name": "Python 2",
   "language": "python",
   "name": "python2"
  },
  "language_info": {
   "codemirror_mode": {
    "name": "ipython",
    "version": 2
   },
   "file_extension": ".py",
   "mimetype": "text/x-python",
   "name": "python",
   "nbconvert_exporter": "python",
   "pygments_lexer": "ipython2",
   "version": "2.7.11"
  }
 },
 "nbformat": 4,
 "nbformat_minor": 0
}
