{
 "cells": [
  {
   "cell_type": "markdown",
   "metadata": {},
   "source": [
    "# How do I get started with RNA-seq?\n",
    "### Overview\n",
    "This tutorial will run an API version of the GUI [quickstart](http://docs.cancergenomicscloud.org/docs/quickstart) that we _assume_ you've **already completed**. Note, this works with **TCGA-controlled** data. We have written this example in Python, but the concepts can be adapted to your preferred programming language. We encourage you to try this analysis yourself. \n",
    "\n",
    "The flow of the CGC is from the *user* who owns or is a member of multiple *projects*. Each *project* contains multiple *files* and *apps*. Users can run *tasks* by selecting input *files* and *configuration parameters* for an *app* within thier project. \n",
    "\n",
    "<img src=\"images/CGC_overview-02.png\"> \n",
    "\n",
    "### Prerequisites\n",
    " 1. You need your _authentication token_ and the API needs to know about it. See <a href=\"set_AUTH_TOKEN.ipynb\">**set_AUTH_TOKEN.ipynb**</a> for details.\n",
    " 2. You should have completed the GUI [quickstart](http://docs.cancergenomicscloud.org/docs/quickstart)\n",
    " \n",
    "## Imports and Definitions\n",
    "We will use a Python class (API) as a wrapper for API calls. All classes and methods defined in <a href=\"defs/apimethods.py\" target=\"_blank\">_defs/apimethods.py_</a>. "
   ]
  },
  {
   "cell_type": "code",
   "execution_count": null,
   "metadata": {
    "collapsed": true
   },
   "outputs": [],
   "source": [
    "from defs.apimethods import *"
   ]
  },
  {
   "cell_type": "markdown",
   "metadata": {
    "collapsed": true
   },
   "source": [
    "## Create a project\n",
    "Projects are the foundation of any analysis on the CGC. We can either use a project that has already been created, or we can use the API to create one. Here we will create a new project, but first check that it doesn't exist to show both methods. The *project name*, Pilot Fund *billing group*, and a project *description* will be sent in our API call. \n",
    "\n",
    "#### PROTIPS\n",
    "* The recipe for _creating a project_ is [here](../../Recipes/CGC/projects_makeNew.ipynb)\n",
    "* Detailed documentation of this particular REST architectural style request is available [here](http://docs.cancergenomicscloud.org/docs/create-a-new-project)"
   ]
  },
  {
   "cell_type": "code",
   "execution_count": null,
   "metadata": {
    "collapsed": false
   },
   "outputs": [],
   "source": [
    "# [USER INPUT] Set project name here:\n",
    "new_project_name = 'Life is Beautiful'\n",
    "\n",
    "# LIST all projects\n",
    "existing_projects = API('projects')                            \n",
    "        \n",
    "# What are my funding sources?\n",
    "billing_groups = API('billing/groups')\n",
    "# Pick the first group (arbitrary)\n",
    "print((billing_groups.name[0] + \\\n",
    "       ' will be charged for computation and storage (if applicable) for your new project'))\n",
    "\n",
    "# Set up the information for your new project\n",
    "new_project = {\n",
    "        'billing_group': billing_groups.id[0],\n",
    "        'description': \"\"\"A project created by the API tutorial (quickstart.ipynb).\n",
    "                      This also supports **markdown**\n",
    "                      _Pretty cool_, right?\n",
    "                   \"\"\",        \n",
    "        'name': new_project_name, \n",
    "        'tags': ['tcga']\n",
    "}\n",
    "    \n",
    "if new_project['name'] in existing_projects.name:\n",
    "    # Your project (might) already exist\n",
    "    print('A project with the same name already exists, you are good to go')\n",
    "    p_index = existing_projects.name.index(new_project['name'])\n",
    "    my_project = API(path=('projects/' + existing_projects.id[p_index])) \n",
    "\n",
    "else:\n",
    "    # CREATE the new project\n",
    "    my_project = API(method='POST', data=new_project, path='projects')\n",
    "    # (re)list all projects, to check that new project posted\n",
    "    existing_projects = API(path='projects')\n",
    "    # get ADDITONAL new project details \n",
    "    my_project = API(path=('projects/' + existing_projects.id[0])) \n",
    "    \n",
    "    print('Your new project %s has been created.' % (my_project.name))\n",
    "    if hasattr(my_project, 'description'): # need to check if description has been entered\n",
    "        print('Project description: %s \\n' % (my_project.description))"
   ]
  },
  {
   "cell_type": "markdown",
   "metadata": {},
   "source": [
    "## Add files\n",
    "Here we will take advantage of the already created Quickstart project from the GUI tutorial. This code will look for our three input files from that project and copy them over. \n",
    "\n",
    "#### PROTIPS\n",
    "* The recipe for _copying files to a project_ is [here](../../Recipes/CGC/files_copyFromMyProject.ipynb)\n",
    "* Detailed documentation of this particular REST architectural style request is available [here](http://docs.cancergenomicscloud.org/docs/copy-a-file)"
   ]
  },
  {
   "cell_type": "code",
   "execution_count": null,
   "metadata": {
    "collapsed": false
   },
   "outputs": [],
   "source": [
    "# [USER INPUT] Set project name; project (p_) and file (f_) indices here:\n",
    "p_name = 'Quickstart'                     # source project name\n",
    "input_ext = ['tar.gz',                    # input file types to copy\n",
    "            'gtf',\n",
    "            'fasta']                       \n",
    "\n",
    "# LIST all files in the source and target project\n",
    "if p_name in existing_projects.name:\n",
    "    p_index = existing_projects.name.index(p_name)\n",
    "else:\n",
    "    print(\"\"\"\n",
    "    Project not found. \n",
    "    Please check that p_name matches the name you used in the GUI Quickstart.\n",
    "    \"\"\")\n",
    "    raise KeyboardInterrupt\n",
    "\n",
    "my_files_source = API(path='files', \\\n",
    "                      query={'project':existing_projects.id[p_index], \\\n",
    "                            'limit':100})\n",
    "my_files_target = API(path='files', \\\n",
    "                      query={'project': my_project.id})\n",
    "\n",
    "# Loop through files in first project, \n",
    "#  check if they are needed AND don't exist in your project\n",
    "for f_index, f_name in enumerate(my_files_source.name):\n",
    "    flag = {'match': False}\n",
    "    # find candidate files with the correct file extension\n",
    "    for f_ext in input_ext:\n",
    "        if f_name[-len(f_ext):] == f_ext:\n",
    "            flag['match'] = True\n",
    "            break\n",
    "    if flag['match']:\n",
    "        # find files that do not exist in your project\n",
    "        if f_name not in my_files_target.name:\n",
    "            print('File (%s) does not exist in Project (%s); copying now' % \\\n",
    "                  (f_name, my_project.id))\n",
    "\n",
    "            # COPY the selected file from source to target project\n",
    "            API(path=('files/' + my_files_source.id[f_index] + '/actions/copy'), \\\n",
    "                method='POST', \\\n",
    "                data={'project': my_project.id,\\\n",
    "                      'name': f_name}) \n",
    "\n",
    "            # re-list files in target project to verify the copy worked\n",
    "            my_files_target = API(path='files', \\\n",
    "                                  query={'project': my_project.id})\n",
    "\n",
    "            if f_name in my_files_target.name:\n",
    "                print('Sucessfully copied one file!')\n",
    "            else:\n",
    "                print('Something went wrong...')\n",
    "                \n",
    "# We are done copying files, let's clean up a little\n",
    "del my_files_source, my_files_target\n",
    "my_files = API(path='files', query={'project': my_project.id})"
   ]
  },
  {
   "cell_type": "markdown",
   "metadata": {},
   "source": [
    "## Add the _RNA-seq STAR_ workflow\n",
    "There are more than 150 public apps available on the Seven Bridges CGC. Here we query all of them, then copy the target workflow to our project. \n",
    "\n",
    "#### PROTIPS\n",
    "* The recipe for _copying apps from Public Reference apps_ is [here](../../Recipes/CGC/apps_copyFromPublicApps.ipynb)\n",
    "* Detailed documentation of this particular REST architectural style request is available [here](http://docs.cancergenomicscloud.org/docs/copy-an-app-secondary-method)"
   ]
  },
  {
   "cell_type": "code",
   "execution_count": null,
   "metadata": {
    "collapsed": false
   },
   "outputs": [],
   "source": [
    "# [USER INPUT] Set app name:\n",
    "a_name = 'RNA-seq Alignment - STAR for TCGA PE tar'\n",
    "       \n",
    "# LIST all Public Apps using VISIBILITY and searching by NAME\n",
    "my_apps_source = API(path='apps', query={'visibility': 'public', 'limit': 100})\n",
    "my_apps_target = API(path='apps', query={'project': my_project.id})\n",
    "if a_name not in my_apps_source.name:\n",
    "    print('Target app (%s) does not exist in the public repository. Please double-check the spelling' \\\n",
    "          % (TARGET_APP))\n",
    "else:\n",
    "    a_index = my_apps_source.name.index(a_name)\n",
    "\n",
    "# Check if app already exists in the second project\n",
    "if my_apps_source.name[a_index] in my_apps_target.name:\n",
    "    print('App already exists in second project, you are good to go')\n",
    "else:\n",
    "    print('App (%s) does not exist in Project (%s); copying now' % \\\n",
    "          (my_apps_source.name[a_index], my_project.id))\n",
    "    \n",
    "    # COPY the selected app from first to second project\n",
    "    API(path=('apps/' + my_apps_source.id[a_index] + '/actions/copy'), \\\n",
    "        method='POST', \\\n",
    "        data={'project': my_project.id,\\\n",
    "              'name': my_apps_source.name[a_index]})\n",
    "\n",
    "    # re-list the apps in secondProject to verify the copy worked\n",
    "    my_apps_target = API(path='apps', query={'project': my_project.id})\n",
    "    \n",
    "    if my_apps_source.name[a_index] in my_apps_target.name:\n",
    "        print('Sucessfully copied one app!')\n",
    "    else:\n",
    "        print('Something went wrong...')\n",
    "    \n",
    "# We are done copying files, let's clean up a little\n",
    "del my_apps_source, my_apps_target\n",
    "my_apps = API(path='apps', query={'project': my_project.id})"
   ]
  },
  {
   "cell_type": "markdown",
   "metadata": {},
   "source": [
    "## Build a file processing list\n",
    "Most likely, we will only have one input file and two reference files in the project. However, if multiple input files were imported, this will create a batch of *single-input-single-output tasks* - one for each file. This code builds the list of files\n",
    "\n",
    "#### PROTIPS\n",
    "* We don't have a recipe for this, but you can _follow your bliss_ here. Maybe you want to use to metadata ([get metadata](../../Recipes/CGC/files_detailOne.ipynb)) to decide which files fit in."
   ]
  },
  {
   "cell_type": "code",
   "execution_count": null,
   "metadata": {
    "collapsed": false
   },
   "outputs": [],
   "source": [
    "# Build .fileProcessing (inputs) and .fileIndex (references) lists [for workflow]\n",
    "file_proc_list = ['Files to Process']\n",
    "gtf_ind = None\n",
    "fasta_ind = None\n",
    "\n",
    "for ii,f_name in enumerate(my_files.name):\n",
    "    # this conditional is for 'RNA seq STAR alignment' in Quickstart_API. \n",
    "    #  Adapt appropriately for other workflows. Also the order of \n",
    "    #  input_ext has been HARD-CODED\n",
    "    if f_name[-len(input_ext[0]):] == input_ext[0]:\n",
    "        file_proc_list.append(ii)\n",
    "    elif f_name[-len(input_ext[1]):] == input_ext[1]:\n",
    "        gtf_ind = ii\n",
    "    elif f_name[-len(input_ext[2]):] == input_ext[2]:\n",
    "        fasta_ind = ii"
   ]
  },
  {
   "cell_type": "markdown",
   "metadata": {},
   "source": [
    "## Build & Start tasks\n",
    "Next we will iterate through the File Processing List (file_proc_list) to generate one task for each input file (note the gtf and fasta files are _references_ and will be re-used for each task). Tasks will start running immediately.\n",
    "\n",
    "#### PROTIPS\n",
    "* The closest recipe for _creating and starting tasks_ is [here](../../Recipes/CGC/tasks_create.ipynb)\n",
    "* Detailed documentation of this particular REST architectural style request is available [here](http://docs.cancergenomicscloud.org/docs/create-a-new-task)"
   ]
  },
  {
   "cell_type": "code",
   "execution_count": null,
   "metadata": {
    "collapsed": false
   },
   "outputs": [],
   "source": [
    "my_task_list = [None]\n",
    "for ii,f_ind in enumerate(file_proc_list[1:]):                  # Start at 1 because file_proc_list[0] is header\n",
    "    new_task = {'description': 'APIs are awesome, look what they can make',\n",
    "        'name': ('Task (#%i) created with quickstart.ipynb_' %  (ii)),\n",
    "        'app': (my_apps.id[0]),                                  # ASSUMES only single workflow in project\n",
    "        'project': my_project.id,\n",
    "        'inputs': {\n",
    "            'genomeFastaFiles': {                               # .fasta reference file\n",
    "                'class': 'File',\n",
    "                'path': my_files.id[fasta_ind],\n",
    "                'name': my_files.name[fasta_ind]\n",
    "            },\n",
    "            'input_archive_file': {                             # File Processing List\n",
    "                'class': 'File',\n",
    "                'path': my_files.id[f_ind],\n",
    "                'name': my_files.name[f_ind]\n",
    "            },\n",
    "            # .gtf reference file, !NOTE: this workflow expects a _list_ for this input\n",
    "            'sjdbGTFfile': [\n",
    "               {\n",
    "                'class': 'File',\n",
    "                'path': my_files.id[gtf_ind],\n",
    "                'name': my_files.name[gtf_ind]\n",
    "               }\n",
    "            ]\n",
    "        }\n",
    "    }\n",
    "    # Create and RUN tasks\n",
    "    my_task = API(method='POST', data=new_task, path='tasks/', query = {'action': 'run'})\n",
    "    my_task_list.append(my_task.id)\n",
    "    # ALTERNATIVE: make a DRAFT task and start it later\n",
    "#     myTask = API(method='POST', data=new_task, path='tasks/')        # task created in DRAFT state\n",
    "#     myTask = API(method='POST', path=('tasks/' + myTask.id + '/actions/run'))\n",
    "my_task_list.pop(0)\n",
    "\n",
    "print(\"\"\"\n",
    "%i tasks have been created. Enjoy a break, treat yourself to a coffee, \n",
    "and come back to us once you've gotten an email that tasks are done.\n",
    "(alternatively, use the task monitoring cells below)\"\"\" % (ii+1))"
   ]
  },
  {
   "cell_type": "markdown",
   "metadata": {},
   "source": [
    "## Check task completion\n",
    "These tasks may take a long time to complete, here are two ways to check in on them:\n",
    "* Wait for email confirmation <sup>1</sup>\n",
    "* Ping the task to see it's _status_. Here we use a 10 min interval, adjust it appropriately for longer or shorter workflows\n",
    "\n",
    "<sup>1</sup> Emails will arrive regardless of whether the task was started by GUI or API.\n",
    "\n",
    "#### PROTIPS\n",
    "* The closest recipe for _monitoring tasks_ is [here](../../Recipes/CGC/tasks_monitorAndGetResults.ipynb)\n",
    "* Detailed documentation of this particular REST architectural style request is available [here](http://docs.cancergenomicscloud.org/docs/perform-an-action-on-a-specific-task)"
   ]
  },
  {
   "cell_type": "code",
   "execution_count": null,
   "metadata": {
    "collapsed": false
   },
   "outputs": [],
   "source": [
    "# [USER INPUT] Set loop time (seconds):\n",
    "loop_time = 600\n",
    "\n",
    "for t_id in my_task_list:\n",
    "    # Check on one task at a time, \n",
    "    #  if ANY running, we are not done (no sense to query others)\n",
    "    flag = {'taskRunning': True}\n",
    "    while flag['taskRunning']:\n",
    "        task = api_call(('tasks/' + t_id))\n",
    "        if task['status'] == 'COMPLETED':\n",
    "            flag['taskRunning'] = False\n",
    "            print('Task has completed, life is beautiful')\n",
    "        elif (task['status'] == 'FAILED') or (task['status'] == 'ABORTED'):\n",
    "            print('Task (%s) failed, check it out' \\\n",
    "                  % (t_id))\n",
    "            flag['taskRunning'] = False\n",
    "        else:\n",
    "            sleep(loop_time) "
   ]
  },
  {
   "cell_type": "markdown",
   "metadata": {},
   "source": [
    "## Check task outputs\n",
    "Here we poll only the last completed task (adapt as needed)"
   ]
  },
  {
   "cell_type": "code",
   "execution_count": null,
   "metadata": {
    "collapsed": true
   },
   "outputs": [],
   "source": [
    "for ii, t_id in enumerate(my_task_list):\n",
    "    my_task = API(method='GET', path=('tasks/' + my_task.id))\n",
    "    print('Your task (#%i) created %i outputs' % (str(ii), len(my_task.outputs.keys())))\n",
    "    for f_name in my_task.outputs:\n",
    "        print(' task output (%s) is the file (%s)' % (f_name, my_task.outputs[f_name]['name']))"
   ]
  },
  {
   "cell_type": "markdown",
   "metadata": {},
   "source": [
    "### (optional) Download output files\n",
    "You already have all of these files **saved in your project** (and an _email_ for each completed task). You may also download some files\n",
    "\n",
    "#### PROTIPS\n",
    "* Detailed documentation of this particular REST architectural style request is available [here](http://docs.cancergenomicscloud.org/docs/get-download-url-for-a-file)"
   ]
  },
  {
   "cell_type": "code",
   "execution_count": null,
   "metadata": {
    "collapsed": true
   },
   "outputs": [],
   "source": [
    "# [USER INPUT] Set file extension(s) to download here:\n",
    "output_ext = 'bam' \n",
    "\n",
    "dl_list = [\"links to file downloads\"]\n",
    "\n",
    "my_files = API(path='files', query={'project': my_project.id})\n",
    "for ii, f_name in enumerate(my_files.name):\n",
    "    if (f_name[-len(output_ext):] == output_ext):\n",
    "        dl_list.append(api_call(path=('files/' + my_files.id[ii] + '/download_info'))['url'])\n",
    "        \n",
    "download_files(dl_list)"
   ]
  },
  {
   "cell_type": "markdown",
   "metadata": {},
   "source": [
    "We hope this tutorial has been helpful for you. If you have any feedback (especially _positive_), we would cherish it. Please share your thoughts on our [forum](http://docs.cancergenomicscloud.org/discuss).\n",
    "\n",
    "**Good luck & have fun!**"
   ]
  }
 ],
 "metadata": {
  "kernelspec": {
   "display_name": "Python 2",
   "language": "python",
   "name": "python2"
  },
  "language_info": {
   "codemirror_mode": {
    "name": "ipython",
    "version": 2
   },
   "file_extension": ".py",
   "mimetype": "text/x-python",
   "name": "python",
   "nbconvert_exporter": "python",
   "pygments_lexer": "ipython2",
   "version": "2.7.11"
  }
 },
 "nbformat": 4,
 "nbformat_minor": 0
}
