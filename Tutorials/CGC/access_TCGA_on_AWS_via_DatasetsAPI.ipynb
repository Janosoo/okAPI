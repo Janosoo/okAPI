{
 "cells": [
  {
   "cell_type": "markdown",
   "metadata": {},
   "source": [
    "# How do I find<sup>2</sup> & download TCGA data hosted on AWS?\n",
    "\n",
    "## Goal\n",
    "The **goal** of this tutorial is to empower the public to access [TCGA](https://wiki.nci.nih.gov/display/TCGA/TCGA+Home) data via [Amazon Web Services](https://aws.amazon.com/). \n",
    "\n",
    "## TCGA Data Types\n",
    "There are two [types](https://wiki.nci.nih.gov/display/TCGA/Open+Access+and+Controlled+Access+Data) of TCGA data:\n",
    "\n",
    " * Open Access Data\n",
    " * Controlled Access Data \n",
    "\n",
    "Investigators can obtain access to _Controlled_ data through the [NIH](https://www.nih.gov/) via the [dBGaP](http://www.ncbi.nlm.nih.gov/gap) site. Seven Bridges has obtained _Trusted Partner_ status with the NIH and authenticates user through the Federated Identity service.\n",
    "\n",
    "## Steps to data access\n",
    "Finding and downloading TCGA data are accomplished with three different steps. Data is _found_ by constructing and executing a [SPARQL](https://www.w3.org/TR/rdf-sparql-query/) query within the _Datasets API_ (Step 2). Data can be _downloaded_ by an API call (Step 3) if the user has appropriate access to the data type (Step 1). \n",
    "\n",
    " 1. Register on the [Cancer Genomics Cloud](https://cgc.sbgenomics.com/login/) (CGC)\n",
    " 2. [Dataset API](http://docs.cancergenomicscloud.org/docs/datasets-api-overview) to query a [RDF](https://www.w3.org/RDF/) database of hosted TCGA data. \n",
    " 3. The CGC [API](http://docs.cancergenomicscloud.org/docs/the-cgc-api) to download files\n",
    " \n",
    "We will follow these steps to find and then download _Open Access Data_ which will be accessible to **all users**. However, we _encourage users_ to modify the example query to stratify particularly interesting cohorts or obtain _Controlled Access Data_ (if they have the appropriate permission).\n",
    "\n",
    "## Notes\n",
    " * This tutorial is written in **Python 2.7**, for compatibility with Python 3 please swap out the _urllib_ library. \n",
    " * Datasets API is an **Advanced Access** feature, which means, while it is fully operational, it is subject to change.\n",
    "\n",
    "<sup>2</sup> This is the **Datasets API** flavor of this tutorial. There is also an _OpenSPARQL_ version [here](access_TCGA_on_AWS.ipynb)"
   ]
  },
  {
   "cell_type": "markdown",
   "metadata": {},
   "source": [
    "## _Step 1_: Register for a Cancer Genomics Cloud Account\n",
    "### Create a new account\n",
    "**NOTE**: Users with an existing CGC account can skip this step.\n",
    "\n",
    "There is an excellent guide to registering for the CGC [here](http://docs.cancergenomicscloud.org/docs/sign-up-for-the-cgc) -- this whould process should take less than 5 mins and is free.  \n",
    "\n",
    "### Get your Developer Token\n",
    "Once you have registered and verified your account, log in to the CGC. In the top right corner, click on your user name (here \"jack\"). A small window will drop down, including your account balance, data access approval, Account Settings, and Payments.  \n",
    "\n",
    "<img src=\"images/TCGA_AWS_0.png\" height=\"218\" width=\"780\"> \n",
    "\n",
    "Click on Account Settings to open a new window with your information.\n",
    "\n",
    "<img src=\"images/TCGA_AWS_1.png\" height=\"496\" width=\"537\"> \n",
    "\n",
    "In the left panel, click on Developer to get to the Developer Dashboard.\n",
    "\n",
    "<img src=\"images/TCGA_AWS_2.png\" height=\"338\" width=\"780\"> \n",
    "\n",
    "If this is the first time logging on, you won't have any Token. Click the green Generate Token button to get one. \n",
    "\n",
    "<img src=\"images/TCGA_AWS_3.png\" height=\"274\" width=\"579\"> \n",
    "\n",
    "Copy the Authentication Token, we will use this later for data access. \n",
    "\n",
    "**NOTE**: your token is **confidential** information which grants the same access as your username and password. Please keep it safe. In case it is compromised (for example in a publically shared iPython notebook), make sure to click the _Regenerate Token_ button to disable the old one and generate a new one."
   ]
  },
  {
   "cell_type": "markdown",
   "metadata": {},
   "source": [
    "## _Step 2_: Find data with Datasets API\n",
    "### Imports\n",
    "We import json and requests to write a wrapper around the API call"
   ]
  },
  {
   "cell_type": "code",
   "execution_count": 1,
   "metadata": {
    "collapsed": true
   },
   "outputs": [],
   "source": [
    "import json\n",
    "from requests import request"
   ]
  },
  {
   "cell_type": "markdown",
   "metadata": {},
   "source": [
    "### Define an API call wrapper\n",
    "We define a simple function here to send and recieve JSONs from the API using correctly formatted HTTP calls. The necessary imports have already been handled above.\n",
    "\n",
    "Note, we are making the base URL optional as the Datasets API and Cancer Genomics Cloud API use different endpoints"
   ]
  },
  {
   "cell_type": "code",
   "execution_count": 2,
   "metadata": {
    "collapsed": true
   },
   "outputs": [],
   "source": [
    "def api_call(path, method='GET', query=None, data=None, token=None):\n",
    "    \n",
    "    base_url = 'https://cgc-datasets-api.sbgenomics.com/datasets/tcga/v0/'\n",
    "    \n",
    "    data = json.dumps(data) if isinstance(data, dict) \\\n",
    "    or isinstance(data,list) else None\n",
    "              \n",
    "    headers = {\n",
    "        'X-SBG-Auth-Token': token,\n",
    "        'Accept': 'application/json',\n",
    "        'Content-type': 'application/json',\n",
    "    }\n",
    "    \n",
    "    response = request(method, base_url + path, params=query, \\\n",
    "                       data=data, headers=headers) \n",
    "    response_dict = json.loads(response.content) if \\\n",
    "    response.content else {}\n",
    "\n",
    "    if response.status_code / 100 != 2:\n",
    "        print(response_dict['message'])\n",
    "        print('Error Code: %i.' % (response_dict['code']))\n",
    "        print(response_dict['more_info'])\n",
    "        raise Exception('Server responded with status code %s.' \\\n",
    "                        % response.status_code)\n",
    "    return response_dict"
   ]
  },
  {
   "cell_type": "markdown",
   "metadata": {},
   "source": [
    "### Provide the Authentication Token\n",
    "This is the worst approach, I'm just seeing if you are paying attention. Examples of proper coding of your auth\\_token are available for [sevenbridges-python bindings](https://github.com/sbg/okAPI/blob/master/Recipes/CGC/Setup_API_environment.ipynb)"
   ]
  },
  {
   "cell_type": "code",
   "execution_count": 3,
   "metadata": {
    "collapsed": true
   },
   "outputs": [],
   "source": [
    "auth_token = '15baf12492f6432086b6b44b3d6389d0'"
   ]
  },
  {
   "cell_type": "markdown",
   "metadata": {},
   "source": [
    "### Define a query\n",
    "We will construct a query to find a set of TCGA files. First, please review the TCGA **ontology** that we have defined for this dataset [here](http://docs.cancergenomicscloud.org/docs/tcga-metadata-on-the-cgc), it includes **140 properties** and takes some time to navigate.  \n",
    "\n",
    "This tutorial is searching for **female**, **Breast Cancer**, patients (_Cases_), who are **alive** and the associated _Files_ which are **open-access**, provide **Gene expression** and came from the **experiemental strategy** of RNA-seq. One way to think about this is nesting, e.g.\n",
    " \n",
    " * File\n",
    "   * hasAccessLevel\n",
    "   * hasDataType \n",
    "   * hasExperimentalStrategy\n",
    " * Case\n",
    "   * hasGender\n",
    "   * hasDiseaseType \n",
    "   * hasVitalStatus\n",
    "\n",
    "We will assign an _exact value_ to the above properties. However, the query also needs a few _non-specific_ parameters such as **File : hasStoragePath**. We include this in the query without an exact value such that this information is _returned_ by the query. We will need it for downloading the file in the next step. Alternatively, you can return properties and operate on them directly in Python, we provide an example here with **Case : hasDaysToLastFollowup**.\n",
    "\n",
    "Below we set the query and execute it. The query results are stored in an object named **results**.\n",
    "\n",
    "#### PROTIP:\n",
    " * Extensive details of the Datasets API calls are available [here](http://docs.cancergenomicscloud.org/docs/query-tcga-via-the-datasets-api)"
   ]
  },
  {
   "cell_type": "code",
   "execution_count": 4,
   "metadata": {
    "collapsed": true
   },
   "outputs": [],
   "source": [
    "query_body = {\n",
    "    \"entity\": \"files\",\n",
    "    \"hasAccessLevel\" : \"Open\",\n",
    "    \"hasDataType\" : \"Gene expression\",\n",
    "    \"hasExperimentalStrategy\": \"RNA-Seq\",\n",
    "    \"hasCase\": {\n",
    "        \"hasDiseaseType\" : \"Breast Invasive Carcinoma\",\n",
    "        \"hasGender\" : \"FEMALE\",\n",
    "        \"hasVitalStatus\" : \"Alive\"\n",
    "    }\n",
    "}"
   ]
  },
  {
   "cell_type": "markdown",
   "metadata": {},
   "source": [
    "### Check the total number of records in the query\n",
    "The first API call will return the total number of records"
   ]
  },
  {
   "cell_type": "code",
   "execution_count": 5,
   "metadata": {
    "collapsed": false
   },
   "outputs": [],
   "source": [
    "total = api_call(method='POST', path ='query/total', \\\n",
    "                 token=auth_token, data=query_body)"
   ]
  },
  {
   "cell_type": "markdown",
   "metadata": {},
   "source": [
    "### Create a list of all records\n",
    "We _page_ through the records 100 at a time to build a list of all files in the query.\n",
    "\n",
    "#### PROTIP\n",
    "Working with pagination in the API is beautifully described <a href=\"http://docs.cancergenomicscloud.org/docs/the-cgc-api#section-response-pagination\">here</a>"
   ]
  },
  {
   "cell_type": "code",
   "execution_count": 6,
   "metadata": {
    "collapsed": false
   },
   "outputs": [
    {
     "name": "stdout",
     "output_type": "stream",
     "text": [
      "2.3 percent of files added\n",
      "4.5 percent of files added\n",
      "6.8 percent of files added\n",
      "9.1 percent of files added\n",
      "11.4 percent of files added\n",
      "13.6 percent of files added\n",
      "15.9 percent of files added\n",
      "18.2 percent of files added\n",
      "20.5 percent of files added\n",
      "22.7 percent of files added\n",
      "25.0 percent of files added\n",
      "27.3 percent of files added\n",
      "29.5 percent of files added\n",
      "31.8 percent of files added\n",
      "34.1 percent of files added\n",
      "36.4 percent of files added\n",
      "38.6 percent of files added\n",
      "40.9 percent of files added\n",
      "43.2 percent of files added\n",
      "45.5 percent of files added\n",
      "47.7 percent of files added\n",
      "50.0 percent of files added\n",
      "52.3 percent of files added\n",
      "54.5 percent of files added\n",
      "56.8 percent of files added\n",
      "59.1 percent of files added\n",
      "61.4 percent of files added\n",
      "63.6 percent of files added\n",
      "65.9 percent of files added\n",
      "68.2 percent of files added\n",
      "70.5 percent of files added\n",
      "72.7 percent of files added\n",
      "75.0 percent of files added\n",
      "77.3 percent of files added\n",
      "79.5 percent of files added\n",
      "81.8 percent of files added\n",
      "84.1 percent of files added\n",
      "86.4 percent of files added\n",
      "88.6 percent of files added\n",
      "90.9 percent of files added\n",
      "93.2 percent of files added\n",
      "95.5 percent of files added\n",
      "97.7 percent of files added\n",
      "100.0 percent of files added\n",
      "\n",
      " \n",
      "\n",
      "{u'_links': {u'self': {u'href': u'https://cgc-datasets-api.sbgenomics.com/datasets/tcga/v0/files/564a31a7e4b0298dd2c549aa'}}, u'id': u'564a31a7e4b0298dd2c549aa', u'label': u'unc.edu.96c1cfef-0507-46f5-a007-d0f7369cced5.2090373.bt.exon_quantification.txt'}\n",
      "{u'_links': {u'self': {u'href': u'https://cgc-datasets-api.sbgenomics.com/datasets/tcga/v0/files/564a31a7e4b0298dd2c549aa'}}, u'id': u'564a31a7e4b0298dd2c549aa', u'label': u'unc.edu.96c1cfef-0507-46f5-a007-d0f7369cced5.2090373.bt.exon_quantification.txt'}\n"
     ]
    }
   ],
   "source": [
    "files_in_query = []\n",
    "\n",
    "from __future__ import division\n",
    "from math import ceil\n",
    "\n",
    "loops = int(ceil(total['total']/100))\n",
    "\n",
    "for ii in range(0,loops):\n",
    "    files_in_query.append(api_call(method='POST', \\\n",
    "                                   path =(\"query?offset=%i\" % (100*ii)), \\\n",
    "                                   token=auth_token, data=query_body))\n",
    "    print(\"%3.1f percent of files added\" % (100*(ii+1)/loops))\n",
    "    \n",
    "# NOTE: each item in file_list is a list of 100 files from the query. Example below:\n",
    "print('\\n \\n')\n",
    "print(files_in_query[0]['_embedded']['files'][0])\n",
    "print(files_in_query[1]['_embedded']['files'][0])"
   ]
  },
  {
   "cell_type": "markdown",
   "metadata": {},
   "source": [
    "## _Step 3_: Download data with the Cancer Genomics Cloud API\n",
    "We will use the Python wrapper (sevenbridges-python) to download the data. If you haven't already installed this, please do\n",
    "\n",
    "### Install _sevenbridges-python_ library\n",
    "You need to install _sevenbridges-python_ library. Library details are available [here](http://sevenbridges-python.readthedocs.io/en/latest/sevenbridges/). The easiest way to install sevenbridges-python is using pip:\n",
    "```bash\n",
    "pip install sevenbridges-python\n",
    "```\n",
    "\n",
    "### Save your Authentication Token to a local configuration file\n",
    "There are multiple ways to pass your authentication token to the sevenbridges-python library. Here we focus on using a configuration file in your HOME directory. The format of the .sbgrc is standard ini file format, as shown below:\n",
    "\n",
    "   ```bash\n",
    "    [cgc]\n",
    "    auth-token = 910975f5b24a470bb0b028fe813b8100\n",
    "    api-url = https://cgc-api.sbgenomics.com/v2\n",
    "    \n",
    "    [sbpla]\n",
    "    auth-token = 700992f7b24a470bb0b028fe813b8100\n",
    "    api-url = https://api.sbgenomics.com/v2  \n",
    "   ```\n",
    "To **create** this file<sup>1</sup>, use the following steps in your _Terminal_:\n",
    "\n",
    "    1.\n",
    "```bash\n",
    "cd ~\n",
    "touch .sbgrc\n",
    "vi .sbgrc\n",
    "```\n",
    "    2. Press \"i\" then enter to go into **insert mode**\n",
    "    3. Write the text above for each environment. It should look like: \n",
    " \n",
    "<img src=\"images/example_sbgrc_file.png\" height=\"505\" width=\"409\"> \n",
    "    4. Press \"ESC\" then type \":wq\" to save the file and exit vi\n",
    "  \n",
    "<sup>1</sup> If the file already exists, omit the _touch_ command\n",
    "\n",
    "### Imports\n",
    "We import the _Api_ class from the official sevenbridges-python bindings below."
   ]
  },
  {
   "cell_type": "code",
   "execution_count": 7,
   "metadata": {
    "collapsed": true
   },
   "outputs": [],
   "source": [
    "import sevenbridges as sbg"
   ]
  },
  {
   "cell_type": "markdown",
   "metadata": {},
   "source": [
    "## Initialize the object\n",
    "The _Api_ object needs to know your **auth\\_token** and the correct path. Here we assume you are using the .sbgrc file in your home directory. For other options see <a href=\"https://github.com/sbg/okAPI/blob/master/Recipes/CGC/Setup_API_environment.ipynb\">Setup_API_environment.ipynb</a>"
   ]
  },
  {
   "cell_type": "code",
   "execution_count": 8,
   "metadata": {
    "collapsed": true
   },
   "outputs": [],
   "source": [
    "# [USER INPUT] specify platform {cgc, sbg}\n",
    "prof = 'cgc'\n",
    "\n",
    "\n",
    "config_file = sbg.Config(profile=prof)\n",
    "api = sbg.Api(config=config_file)"
   ]
  },
  {
   "cell_type": "markdown",
   "metadata": {},
   "source": [
    "### List of links to download files\n",
    "Here we loop through the _first ten_ files in the first item of the **files_in_query** list from above using the **'ids'** key. Specifically, the id for the first file is in:\n",
    "\n",
    "```python\n",
    "files_in_query[0]['_embedded']['files'][0]['id']\n",
    "```\n",
    "We do two things with these ids:\n",
    "\n",
    " 1. Create a list of files on the platform. From this point, it would be possible to **take action** on the CGC, i.e. combining these files with an _App_ and the starting a _Task_. \n",
    " 2. (optional) Generate a list of download links\n",
    " 3. Download each of the ten files in this list. They will be saved to a _downloads_ folder in your local directory."
   ]
  },
  {
   "cell_type": "code",
   "execution_count": 9,
   "metadata": {
    "collapsed": false
   },
   "outputs": [
    {
     "name": "stdout",
     "output_type": "stream",
     "text": [
      "unc.edu.96c1cfef-0507-46f5-a007-d0f7369cced5.2090373.bt.exon_quantification.txt\n",
      "unc.edu.96c1cfef-0507-46f5-a007-d0f7369cced5.2089520.junction_quantification.txt\n",
      "unc.edu.7dbd8795-b264-4f68-bdea-4cfe39884864.1155813.junction_quantification.txt\n",
      "UNCID_608183.TCGA-A8-A06O-01A-11R-A00Z-07.110228_UNC10-SN254_0198_BB041RABXX.4.trimmed.annotated.gene.quantification.txt\n",
      "unc.edu.7dbd8795-b264-4f68-bdea-4cfe39884864.1771027.bt.exon_quantification.txt\n",
      "UNCID_608349.TCGA-A8-A06O-01A-11R-A00Z-07.110228_UNC10-SN254_0198_BB041RABXX.4.trimmed.annotated.translated_to_genomic.exon.quantification.txt\n",
      "UNCID_608179.TCGA-A8-A06O-01A-11R-A00Z-07.110228_UNC10-SN254_0198_BB041RABXX.4.trimmed.annotated.translated_to_genomic.spljxn.quantification.txt\n",
      "unc.edu.4808bc63-000a-4a49-a25b-4b817ca5ea54.1768727.bt.exon_quantification.txt\n",
      "unc.edu.4808bc63-000a-4a49-a25b-4b817ca5ea54.1145980.junction_quantification.txt\n",
      "UNCID_470209.TCGA-AO-A0J4-01A-11R-A034-07.110503_UNC12-SN629_0079_AB0151ABXX.5.trimmed.annotated.gene.quantification.txt\n"
     ]
    }
   ],
   "source": [
    "# 1) Generate a list a file objects from the file_ids list\n",
    "file_list = []\n",
    "for f in files_in_query[0]['_embedded']['files'][0:10]:\n",
    "    file_list.append(api.files.get(id = f['id']))\n",
    "    print(file_list[-1].name)    \n",
    "    \n",
    "# (BRANCH-POINT) Do something awesome with these files on the CGC\n",
    "\n",
    "\n",
    "# 2) (optional) Generate a list of download links\n",
    "dl_list = []\n",
    "for f in file_list:\n",
    "    dl_list.append(f.download_info())\n",
    "\n",
    "    \n",
    "# 3) Download each of the files in the list to a _downloads_ folder in your local directory.\n",
    "import os\n",
    "\n",
    "dl_dir = 'downloads'\n",
    "try:\n",
    "    os.stat(dl_dir)\n",
    "except:\n",
    "    os.mkdir(dl_dir)\n",
    "\n",
    "for f in file_list:\n",
    "    f.download(path = (\"%s/%s\" % (dl_dir, f.name)))"
   ]
  }
 ],
 "metadata": {
  "kernelspec": {
   "display_name": "Python 2",
   "language": "python",
   "name": "python2"
  },
  "language_info": {
   "codemirror_mode": {
    "name": "ipython",
    "version": 2
   },
   "file_extension": ".py",
   "mimetype": "text/x-python",
   "name": "python",
   "nbconvert_exporter": "python",
   "pygments_lexer": "ipython2",
   "version": "2.7.11"
  }
 },
 "nbformat": 4,
 "nbformat_minor": 0
}
