{
 "cells": [
  {
   "cell_type": "markdown",
   "metadata": {},
   "source": [
    "# How to setup Seven Bridges Public API Python library\n",
    "## Overview\n",
    "The Seven Bridges API Python client for the API allows you to leverage scripting to complete a spectrum of analyses, ranging from batch processing of more than 5000 tasks to adapting complex processing workflows based on intermediate results. For instance, the okAPI recipes and tutorials all draw upon the Seven Bridges Python bindings. \n",
    "\n",
    "The library is available from the Python Package Index at <a href=\"https://pypi.python.org/pypi/sevenbridges-python\">https://pypi.python.org/pypi/sevenbridges-python</a>. \n",
    "\n",
    "Learn more about the <a href=\"http://sevenbridges-python.readthedocs.io/en/latest/\" target=\"blank\">Seven Bridges Python bindings</a>. \n",
    "\n",
    "## Objective\n",
    "This tutorial demonstrates three possible ways to set up the Seven Bridges API Python library. \n",
    "\n",
    "## Procedure\n",
    "1. Initialize the library. To do so, you'll provide the API URL and your credentials in one of three ways:\n",
    "  * explicitly\n",
    "  * by using the OS environment to store the URL and your credentials\n",
    "  * by using a config file and specifying the a profile to use\n",
    "2. Test that you've correctly stored your credentials.\n",
    "\n",
    "## Prerequisites\n",
    "\n",
    "1. You need to install _sevenbridges-python_ library. Library details are available [here](http://sevenbridges-python.readthedocs.io/en/latest/sevenbridges/)\n",
    "\n",
    "    The easiest way to install sevenbridges-python is using pip:\n",
    "\n",
    "       $ pip install sevenbridges-python\n",
    "\n",
    "    Alternatively, you can get the code. sevenbridges-python is actively developed on GitHub, where the [code](https://github.com/sbg/sevenbridges-python) is always available. To clone the public repository :\n",
    "\n",
    "        $ git clone git://github.com/sbg/sevenbridges-python.git\n",
    "\n",
    "    Once you have a copy of the source, you can embed it in your Python\n",
    "    package, or install it into your site-packages by invoking:\n",
    "\n",
    "        $ python setup.py install\n",
    "\n",
    "2. You need your **authentication token**, which you can obtain from the [developer dashboard](https://igor.sbgenomics.com/account#developer) in your **Account settings**. Your authentication token encodes your Seven Bridges Platform credentials and uniquely identifies you the Seven Bridges Platform. It is used in lieu of a login on the API. Learn more about [getting your auth token](http://docs.sevenbridges.com/v1.0/docs/get-your-authentication-token) from our Knowledge Center.\n",
    "\n",
    " \n",
    "### Notes and Compatibility\n",
    "\n",
    "The python package is intended to be used with both Python 2.7+ and Python 3.x versions. \n",
    "The following packages are necessary requirements:\n",
    "\n",
    "1. **The `requests` package,** this is used to easily make `HTTP` requests.\n",
    "2. **The `six` package,** this provides compatibility for Python versions 2.x and 3.x.\n",
    "3. **The `enum34` backport package,** this provides `enum` on Python versions < 3.4."
   ]
  },
  {
   "cell_type": "code",
   "execution_count": null,
   "metadata": {
    "collapsed": false
   },
   "outputs": [],
   "source": [
    "# Import the library\n",
    "import sevenbridges as sbg"
   ]
  },
  {
   "cell_type": "markdown",
   "metadata": {},
   "source": [
    "## Step 1: Initialize the library\n",
    "\n",
    "You can initialize the library explicitly, by using the OS environment, or by supplying the necessary information in the `.sbgrc` file. Choose one of the three options below to initialize the library:\n",
    "\n",
    "1. Explicitly\n",
    "2. By using the OS environment to store the URL and your credentials\n",
    "3. By using a config file and specifying the a profile to use\n",
    "\n",
    "#### PROTIP\n",
    "* We _recommend_ the approach with configuration file (the `.sbgrc` file in Option 3), especially if you are using multiple Seven Bridges environments.\n",
    "\n",
    "### Option 1: Explicitly initialize the library\n",
    "\n",
    "To explicitly initialize the library when calling api constructor, use the following:\n",
    "\n",
    "   ``` python\n",
    "   api = sbg.Api(url='https://api.sbgenomics.com/v2', token='MY AUTH TOKEN')\n",
    "   ```\n",
    "  \n",
    "### Option 2: Use the OS environment\n",
    "\n",
    "To use the OS environment to store the API URL and your authentication token, use the following:\n",
    "  \n",
    "  ```\n",
    "      export AUTH_TOKEN=<MY AUTH TOKEN>\n",
    "      export API_URL='https://api.sbgenomics.com/v2'\n",
    "   ```\n",
    "\n",
    "### Option 3: Use a `.sbgrc` file\n",
    "\n",
    "This options allows you to use an ini file, `$HOME/.sbgrc`, and to specify a profile to use when initializing the library.\n",
    "\n",
    "To create a `.sbgrc` file <sup>1</sup>, do the following in your _Terminal_:\n",
    "1. Enter\n",
    "    ```bash\n",
    "    cd ~\n",
    "    touch .sbgrc\n",
    "    vi .sbgrc\n",
    "    ```\n",
    "2. Press `i` then enter to go into **insert mode**.\n",
    "3. Enter the API URL and your credentials using the following format:\n",
    " \n",
    "   ```bash\n",
    "    [sbpla]\n",
    "    api-url = https://api.sbgenomics.com/v2\n",
    "    auth-token = 700992f7b24a470bb0b028fe813b8100\n",
    "\n",
    "    [cgc]\n",
    "    api-url = https://cgc-api.sbgenomics.com/v2\n",
    "    auth-token = 910975f5b24a470bb0b028fe813b8100\n",
    "```\n",
    "In the example above, the Seven Bridges Platform profile is titled `sbpla`. You can name your profile as you like, but be sure to specify the correct profile name when testing your configuration below. You can detail more than one profile in your `.sbgrc` file as you can use the same config file for multiple Seven Bridges environments. In the example above, a second profile for the Seven Bridges [Cancer Genomics Cloud (CGC)](http://www.cancergenomicscloud.org/) is titled `cgc`.\n",
    "\n",
    "4. When you're finished, press `ESC` to exit **insert mode** and type `:wq` to save the file and exit `vi`.\n",
    "  \n",
    "<sup>1</sup> If the file already exists, omit the _touch_ command"
   ]
  },
  {
   "cell_type": "markdown",
   "metadata": {},
   "source": [
    "## Step 2: Test that you've correctly stored your credentials\n",
    "Now that you've initialized the library using one of the three options in Step 1, we will use one of the corresponding three options below to test that you've stored your credentials correctly. Below are the three options presented above, test **one** of them. Logically, if you selected Option 3 above, testing Option 2 below will return an error.\n",
    "\n",
    "### Option 1: If you initialized the library explicitly"
   ]
  },
  {
   "cell_type": "code",
   "execution_count": null,
   "metadata": {
    "collapsed": false
   },
   "outputs": [],
   "source": [
    "# (1.) You can also instantiate library by explicitly \n",
    "#    specifying API url and authentication token\n",
    "api_explicitly = sbg.Api(url='https://api.sbgenomics.com/v2',\n",
    "                         token='<MY TOKEN HERE>')"
   ]
  },
  {
   "cell_type": "markdown",
   "metadata": {},
   "source": [
    "### Option 2: If you used the OS environment"
   ]
  },
  {
   "cell_type": "code",
   "execution_count": null,
   "metadata": {
    "collapsed": false
   },
   "outputs": [],
   "source": [
    "# (2.) If you have not specified profile, the python-sbg library \n",
    "#   will search for configuration in the environment\n",
    "c = sbg.Config()\n",
    "api_via_environment = sbg.Api(config=c)"
   ]
  },
  {
   "cell_type": "markdown",
   "metadata": {},
   "source": [
    "### Option 3: If you used a `.sbgrc` file"
   ]
  },
  {
   "cell_type": "code",
   "execution_count": null,
   "metadata": {
    "collapsed": false
   },
   "outputs": [],
   "source": [
    "# (3.) If you have .sbgrc setup correctly, you only need to specify the profile\n",
    "config_file = sbg.Config(profile='sbpla')\n",
    "api_via_ini_file = sbg.Api(config=config_file)"
   ]
  }
 ],
 "metadata": {
  "kernelspec": {
   "display_name": "Python 3",
   "language": "python",
   "name": "python3"
  },
  "language_info": {
   "codemirror_mode": {
    "name": "ipython",
    "version": 3
   },
   "file_extension": ".py",
   "mimetype": "text/x-python",
   "name": "python",
   "nbconvert_exporter": "python",
   "pygments_lexer": "ipython3",
   "version": "3.5.2"
  }
 },
 "nbformat": 4,
 "nbformat_minor": 0
}
