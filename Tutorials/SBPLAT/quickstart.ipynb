{
 "cells": [
  {
   "cell_type": "markdown",
   "metadata": {},
   "source": [
    "# Quickstart for the Seven Bridges Platform\n",
    "### Overview\n",
    "To introduce you to the major features of the Seven Bridges Platform, this QuickStart walks you through the process of a [Whole Exome Sequencing Analysis](https://igor.sbgenomics.com/public/apps#workflow/sevenbridges/public-apps/whole-exome-sequencing-gatk-2-3-9-lite). This API tutorial mirrors the [tutorial for the visual interface](http://docs.sevenbridges.com/docs/quickstart).\n",
    "\n",
    "This tutorial makes use of the [sevenbridges-python bindings](http://sevenbridges-python.readthedocs.io/en/latest/installation/).\n",
    "\n",
    "### Prerequisites\n",
    " 1. You need an account on the Seven Bridges Platform. ([Sign up](https://www.sbgenomics.com/login) here for free.)\n",
    " 2. You need your **authentication token**, and you need to pass this credential to the API. See <a href=\"Setup_API_environment.ipynb\">**the tutorial on setting up the API environment**</a> for details.\n",
    " \n",
    "## Imports\n",
    "We import the _Api_ class from the official sevenbridges-python bindings below."
   ]
  },
  {
   "cell_type": "code",
   "execution_count": null,
   "metadata": {
    "collapsed": false
   },
   "outputs": [],
   "source": [
    "import sevenbridges as sbg"
   ]
  },
  {
   "cell_type": "markdown",
   "metadata": {},
   "source": [
    "## Initialize the object\n",
    "The _Api_ object needs to know your **auth\\_token** and the correct path. Here we assume you are using the .sbgrc file in your home directory. For other options see <a href=\"Setup_API_environment.ipynb\">Setup_API_environment.ipynb</a>"
   ]
  },
  {
   "cell_type": "code",
   "execution_count": null,
   "metadata": {
    "collapsed": true
   },
   "outputs": [],
   "source": [
    "# [USER INPUT] specify platform {cgc, sbg}\n",
    "prof = 'sbpla'\n",
    "\n",
    "config_file = sbg.Config(profile=prof)\n",
    "api = sbg.Api(config=config_file)"
   ]
  },
  {
   "cell_type": "markdown",
   "metadata": {
    "collapsed": true
   },
   "source": [
    "## Create a project\n",
    "_Projects_ are the foundation of any analysis on the the Platform. We can either work inside a project that has already been created or create a new project. Here we **create a new project**, but first **check that it doesn't already exist** to show both methods. The project name, billing group (we will use our free credits in the **Pilot Fund** billing group), and a project description will be sent in our API call. \n",
    "\n",
    "We start by listing all of your projects and your billing groups. Next, we create the JSON that will be passed to the API to create the project. The dictionary should include:\n",
    "* **billing_group** *Billing group* that will be charged for this project\n",
    "* **description**   (optional) Project description\n",
    "* **name**   Name of the project, may be *non-unique*<sup>1</sup>\n",
    "* **type**   (optional) If setting this, it must be 'v2' always. Other project types may summon a pale horse on the horizon\n",
    "\n",
    "**After** creating the project, you can re-check the project list and get *additional* details assigned by the CGC, including:\n",
    "\n",
    "* **id**     _Unique_ identifier for the project, generated based on Project Name\n",
    "* **href**   Address<sup>2</sup> of the project.\n",
    "* **flag**   (unimportant) this is set by the object constructor, here always 'longList':False \n",
    "* **tags**   List of tags, currently NOT used. \n",
    "\n",
    "<sup>1</sup> Please **don't** use non-unique *project names*. However, if you insist, the backend will allow it and assign a unique `id` to you project. This `id` is known as a [short name](http://docs.sevenbridges.com/docs/the-api#section-project-short-names)\n",
    "\n",
    "<sup>2</sup> This is the address where, by using API you can get this resource.\n",
    "\n",
    "#### PROTIPS\n",
    " * A detailed _recipe_ for creating projects is [here](../../Recipes/SBPLAT/projects_makeNew.ipynb)\n",
    " * Detailed documentation of this particular REST architectural style request is available [here](http://docs.sevenbridges.com/docs/create-a-new-project)"
   ]
  },
  {
   "cell_type": "code",
   "execution_count": null,
   "metadata": {
    "collapsed": false
   },
   "outputs": [],
   "source": [
    "# [USER INPUT] Set project name here:\n",
    "new_project_name = 'Azzurri'                          \n",
    "      \n",
    "    \n",
    "# What are my funding sources?\n",
    "billing_groups = api.billing_groups.query()  \n",
    "\n",
    "# Pick the first group (arbitrary)\n",
    "print((billing_groups[-1].name + \\\n",
    "       ' will be charged for computation and storage (if applicable) for your new project'))\n",
    "\n",
    "# Set up the information for your new project\n",
    "new_project = {\n",
    "        'billing_group': billing_groups[-1].id,\n",
    "        'description': \"\"\"A project created by the API recipe (projects_makeNew.ipynb).\n",
    "                      This also supports **markdown**\n",
    "                      _Pretty cool_, right?\n",
    "                   \"\"\",\n",
    "        'name': new_project_name\n",
    "}\n",
    "\n",
    "# check if this project already exists. LIST all projects and check for name match\n",
    "my_project = [p for p in api.projects.query(limit=100).all() \\\n",
    "              if p.name == new_project_name]      \n",
    "              \n",
    "if my_project:    # exploit fact that empty list is False, {list, tuple, etc} is True\n",
    "    print('A project with the name (%s) already exists, please choose a unique name' \\\n",
    "          % new_project_name)\n",
    "    raise KeyboardInterrupt\n",
    "else:\n",
    "    # CREATE the new project\n",
    "    my_project = api.projects.create(name = new_project['name'], \\\n",
    "                                     billing_group = new_project['billing_group'], \\\n",
    "                                     description = new_project['description'], \\\n",
    "                                     )\n",
    "    \n",
    "    # (re)list all projects, and get your new project\n",
    "    my_project = [p for p in api.projects.query(limit=100).all() \\\n",
    "              if p.name == new_project_name][0]\n",
    "\n",
    "    print('Your new project %s has been created.' % (my_project.name))\n",
    "    if hasattr(my_project, 'description'): # need to check if description has been entered\n",
    "        print('Project description: %s \\n' % (my_project.description)) "
   ]
  },
  {
   "cell_type": "markdown",
   "metadata": {},
   "source": [
    "## Copy input files from the _Public Reference Files_ repository\n",
    "[Public Reference Files](http://docs.sevenbridges.com/docs/file-repositories) is a repository of files maintained by the Seven Bridges Platform. It contains the latest and most frequently used reference genomes and annotation files, so you won't have to upload your own reference files every time you run a task. You can access this repository via the API as you would a project.\n",
    "\n",
    "Below, we will first list all our projects, then we'll list the files within the Public Reference Files repository<sup>3</sup>, and copy a file from Public Reference Files to your target project. We've hard-coded a list of file names to copy based on the tutorial.\n",
    "\n",
    "The critical information for this POST is the **file_id**. Note, you are allow to copy the same file as many times as you like. However, duplicates will be automatically have a prefix attached of (\\_1\\_, \\_2\\_, etc) depending on how many times you copy the file.\n",
    "\n",
    "#### PROTIPS \n",
    " * A detailed _recipe_ for copying Public Files is [here](../../Recipes/SBPLAT/files_copyFromPublicReference.ipynb)\n",
    " * Detailed documentation of this particular REST architectural style request is available [here](http://docs.sevenbridges.com/docs/copy-a-file)\n",
    "\n",
    "<sup>3</sup> Remember, files are only accessible **within** a project - here the Public Reference Files project"
   ]
  },
  {
   "cell_type": "code",
   "execution_count": null,
   "metadata": {
    "collapsed": false
   },
   "outputs": [],
   "source": [
    "# [USER INPUT] Set your project name; source project name; and file (f_) indices here:\n",
    "source_project_id = 'admin/sbg-public-data'        \n",
    "files_list = ['WES_human_Illumina.pe_1.fastq',\n",
    "             'WES_human_Illumina.pe_2.fastq'\n",
    "             ]\n",
    "\n",
    "\n",
    "# LIST all files in the source and target project\n",
    "my_file_names = [f.name for f in \\\n",
    "                 api.files.query(limit = 100, project = my_project).all()]\n",
    "source_files = api.files.query(limit = 100, project = source_project_id, \\\n",
    "                              names = files_list)\n",
    "\n",
    "# Copy files if they don't exist in my_project\n",
    "for f in source_files.all():\n",
    "    if f.name in my_file_names:\n",
    "        print('File already exists in second project, skipping')\n",
    "    else:\n",
    "        print('File (%s) does not exist in Project (%s); copying now' % \\\n",
    "              (f.name, my_project.name))\n",
    "\n",
    "        new_file = f.copy(project = my_project, \\\n",
    "                          name = f.name)\n",
    "\n",
    "        # re-list files in target project to verify the copy worked\n",
    "        my_files = [f.name for f in api.files.query(limit = 100, project = my_project.id).all()]\n",
    "\n",
    "        if f.name in my_files:\n",
    "            print('Sucessfully copied one file!')\n",
    "        else:\n",
    "            print('Something went wrong...')"
   ]
  },
  {
   "cell_type": "markdown",
   "metadata": {},
   "source": [
    "## What is the meaning of this?\n",
    "Files are great, but without **metadata** they can be hard to manage. So here were are going to add metadata to these files. We will add one field that is _needed for the task_ and one to show _generality_.\n",
    "\n",
    "We've already listed all your files in the last cell. Here we will check the metadata for each one. A **detail**-call for files returns the following *attributes*:\n",
    "* **created_on** File creation date\n",
    "* **id**     _Unique_ identifier for the file\n",
    "* **name**   Name of the file, note this **is** metadata and can be _changed_\n",
    "* **href**   Address<sup>4</sup> of the file.\n",
    "* **modified_on** File modification date\n",
    "* **metadata** Dictionary of metadata\n",
    "* **origin**  Will link back to a *task* if this is an output file\n",
    "* **project** Project the file is in\n",
    "* **size** file size in bytes\n",
    "* **flag**   (unimportant) this is set by the object constructor, here always 'longList':False \n",
    "\n",
    "The **metadata** dictionary is both _changeable_ and _expandable_, but initially rather sparse with:\n",
    "* sample_id\n",
    "* platform\n",
    "* paired_end\n",
    "* library_id\n",
    "\n",
    "<sup>4</sup> This is the address where, by using API, you can get this resource.\n",
    "\n",
    "#### PROTIP\n",
    " * A detailed _recipe_ for detailing files is [here](../../Recipes/SBPLAT/files_detailOne.ipynb).\n",
    " * Detailed documentation of this particular REST architectural style request is available [here](http://docs.sevenbridges.com/docs/get-file-details)."
   ]
  },
  {
   "cell_type": "code",
   "execution_count": null,
   "metadata": {
    "collapsed": false
   },
   "outputs": [],
   "source": [
    "my_files = api.files.query(project = my_project, limit = 100)\n",
    "\n",
    "for f in my_files.all():\n",
    "    single_file = api.files.get(id = f.id)\n",
    "    print('You have selected file %s (size %s [bytes]). \\n' % \\\n",
    "          (single_file.name, single_file.size))\n",
    "    print('The metadata in this file was: \\n %s' % \\\n",
    "          (single_file.metadata))\n",
    "    md = {\n",
    "        'platform_unit_id': '1',\n",
    "        'hasFlair':'True'\n",
    "    }\n",
    "\n",
    "    for k in md.keys():\n",
    "        single_file.metadata[k] = md[k]\n",
    "    \n",
    "    single_file.save()\n",
    "    \n",
    "    print('After the update, file metadata is: \\n %s \\n' % \\\n",
    "          (single_file.metadata))"
   ]
  },
  {
   "cell_type": "markdown",
   "metadata": {},
   "source": [
    "## Copy reference files from the _Public Reference_\n",
    "Equivalent to the operation in **Copy input files from the _Public Reference_**, we are just looking for other file names. "
   ]
  },
  {
   "cell_type": "code",
   "execution_count": null,
   "metadata": {
    "collapsed": false
   },
   "outputs": [],
   "source": [
    "# Files to copy\n",
    "ref_files = ['dbsnp_137.b37.vcf',\n",
    "             '1000G_phase1.indels.b37.vcf',\n",
    "             'Mills_and_1000G_gold_standard.indels.b37.sites.vcf',\n",
    "             'human_g1k_v37_decoy.breakpoints.bed',\n",
    "             'snpEff_v3_6_GRCh37.75.zip',\n",
    "             'human_g1k_v37_decoy.fasta'\n",
    "            ]\n",
    "\n",
    "\n",
    "# LIST all files in the source and target project\n",
    "my_file_names = [f.name for f in \\\n",
    "                 api.files.query(limit = 100, project = my_project).all()]\n",
    "source_files = api.files.query(limit = 100, project = source_project_id, \\\n",
    "                              names = ref_files)\n",
    "\n",
    "# Copy files if they don't exist in my_project\n",
    "for f in source_files.all():\n",
    "    if f.name in my_file_names:\n",
    "        print('File already exists in second project, skipping')\n",
    "    else:\n",
    "        print('File (%s) does not exist in Project (%s); copying now' % \\\n",
    "              (f.name, my_project.name))\n",
    "\n",
    "        new_file = f.copy(project = my_project, \\\n",
    "                          name = f.name)\n",
    "\n",
    "        # re-list files in target project to verify the copy worked\n",
    "        my_files = [f.name for f in api.files.query(limit = 100, project = my_project.id).all()]\n",
    "\n",
    "        if f.name in my_files:\n",
    "            print('Sucessfully copied one file!')\n",
    "        else:\n",
    "            print('Something went wrong...')"
   ]
  },
  {
   "cell_type": "markdown",
   "metadata": {},
   "source": [
    "## Copy a Public App\n",
    "Seven Bridges maintains a [repository of publicly available apps](http://docs.sevenbridges.com/docs/public-apps) suitable for many different types of data analysis. These public apps, including tools and workflows, can be accessed via the API as part of the Public Reference project. They are also accessibly by a *visibility* property which can be set to `public`. Below, we use the first method to find apps within Public Reference project\n",
    "\n",
    "We will first list all our projects, then list the apps within the Public Reference project, and finally copy an app between the Public Reference to the my\\_project. Here we also explicitly set _'limit':100_ inside the _query_. This helps speed up the auto-pagination feature within the object constructor.\n",
    "\n",
    "The critical information for this POST is the **app_id**. Note, you are **not** allowed to copy the same app **and** assign the same name more than once. If you change the name, it is ok. Here we are using the App's **name**, alternatively you can match bases on the App's **ID** as shown here [apps_copyFromMyProject](../../Recipes/SBPLAT/apps_copyFromMyProject.ipynb). \n",
    "\n",
    "\n",
    "### Warning on the NAME argument\n",
    "When copying apps, it is also possible to specify the **name** using\n",
    "\n",
    "```python\n",
    "    my_new_app = public_app.copy(project = my_project, name = my_app_source.name)\n",
    "```\n",
    "\n",
    "However, we caution that this can lead to conflicts with similarly named apps. Unless you are _certain_ that you want to set a specific, **different** app name, _please_ omit the name argument. It will still inherit the name from the app.\n",
    "\n",
    "```python\n",
    "    my_new_app = public_app.copy(project = my_project)\n",
    "```\n",
    "\n",
    "\n",
    "<sup>6</sup> Note that setting the **name** of an app, actually changes the **id**. We are working on fixing this inconsistency."
   ]
  },
  {
   "cell_type": "code",
   "execution_count": null,
   "metadata": {
    "collapsed": false
   },
   "outputs": [],
   "source": [
    "# [USER INPUT] Set app name here\n",
    "a_name = 'Whole Exome Sequencing GATK 2.3.9.-lite'\n",
    "\n",
    "\n",
    "my_apps = api.apps.query(project = my_project.id, limit=100)\n",
    "public_app = [a for a in api.apps.query(visibility='public', limit=100).all() \\\n",
    "                 if a.name == a_name][0]\n",
    "\n",
    "duplicate_app = [a for a in my_apps.all() if a.name == public_app.name]\n",
    "\n",
    "if duplicate_app:\n",
    "    print('App already exists in second project, please try another app')\n",
    "else:\n",
    "    print('App (%s) does not exist in Project (%s); copying now' % \\\n",
    "          (a_name, my_project.name))\n",
    "    \n",
    "    new_app = public_app.copy(project = my_project.id)\n",
    "        \n",
    "    # re-list apps in target project to verify the copy worked\n",
    "    my_app_names = [a.name for a in \\\n",
    "                    api.apps.query(project = my_project.id, limit=100).all()]\n",
    "    \n",
    "    if a_name in my_app_names:\n",
    "        print('Sucessfully copied one app!')\n",
    "    else:\n",
    "        print('Something went wrong...')"
   ]
  },
  {
   "cell_type": "markdown",
   "metadata": {},
   "source": [
    "## Build & Start tasks\n",
    "Here, we use the reference file and set one of the six inputs. Note that input files are passed as a _file_ (or a _list_ of _files_). Here, there are no configuration objects. For Apps that require these inputs, they would be the values, such as:\n",
    "\n",
    "```python\n",
    "inputs = {\n",
    "    'num_repititions' : 8,\n",
    "    'mask' : False, \n",
    "    'file_name' : 'output_backup.txt'\n",
    "}\n",
    "```"
   ]
  },
  {
   "cell_type": "code",
   "execution_count": null,
   "metadata": {
    "collapsed": false
   },
   "outputs": [],
   "source": [
    "task_name = 'task created with quickstart.ipynb'\n",
    "\n",
    "# get the file objects\n",
    "known_snps = api.files.query(project=my_project, limit=100,\n",
    "                       names = [ref_files[0]])[0]\n",
    "known_indels = api.files.query(project=my_project, limit=100,\n",
    "                       names = ref_files[1:2])\n",
    "target_bed = api.files.query(project=my_project, limit=100,\n",
    "                       names = [ref_files[3]])[0]\n",
    "snpeff_db = api.files.query(project=my_project, limit=100,\n",
    "                       names = [ref_files[4]])[0] \n",
    "input_ref = api.files.query(project=my_project, limit=100,\n",
    "                       names = [ref_files[5]])[0] \n",
    "\n",
    "fastq = api.files.query(project=my_project, limit=100,\n",
    "                       names = files_list)\n",
    "\n",
    "inputs = {\n",
    "    'Known_Indels': known_indels,\n",
    "    'Target_BED': target_bed,\n",
    "    'Known_SNPs': [known_snps],\n",
    "    'SnpEff_Database': snpeff_db,\n",
    "    'input_tar_with_reference': input_ref,\n",
    "    'FASTQ': fastq\n",
    "}\n",
    "\n",
    "my_task = api.tasks.create(name=task_name, project=my_project, \\\n",
    "                           app=new_app, inputs=inputs)\n",
    "\n",
    "# Check for errors and warnings\n",
    "if my_task.errors:\n",
    "    print(my_task.errors)\n",
    "# elif my_task.warnings:        # feature is in staging\n",
    "#     print(my_task.warnings)\n",
    "else:\n",
    "    print('Your task is good to go, launching!')\n",
    "    \n",
    "    # Start the task\n",
    "    my_task.run()"
   ]
  },
  {
   "cell_type": "markdown",
   "metadata": {},
   "source": [
    "## Print task status\n",
    "Here we poll the recently created task. There are many more details in this structure."
   ]
  },
  {
   "cell_type": "code",
   "execution_count": null,
   "metadata": {
    "collapsed": false
   },
   "outputs": [],
   "source": [
    "details = my_task.get_execution_details()\n",
    "print('Your task is in %s status' % (details.status))"
   ]
  },
  {
   "cell_type": "markdown",
   "metadata": {},
   "source": [
    "## Wait for task completion\n",
    "Simple loop to ping for task completion."
   ]
  },
  {
   "cell_type": "code",
   "execution_count": null,
   "metadata": {
    "collapsed": false
   },
   "outputs": [],
   "source": [
    "# [USER INPUT] Set loop time (seconds):\n",
    "loop_time = 600\n",
    "\n",
    "\n",
    "from time import sleep\n",
    "flag = {'taskRunning': True}\n",
    "\n",
    "while flag['taskRunning']:\n",
    "    print('Pinging SBPLAT for task completion, will download summary files once all tasks completed.')\n",
    "    details = my_task.get_execution_details()\n",
    "    if details.status == 'COMPLETED':\n",
    "        flag['taskRunning'] = False\n",
    "        print('Task has completed, life is beautiful')\n",
    "    elif details.status  == 'FAILED':  \n",
    "        print('Task failed, can not continue')\n",
    "        raise KeyboardInterrupt\n",
    "    else:\n",
    "        sleep(loop_time)"
   ]
  },
  {
   "cell_type": "markdown",
   "metadata": {},
   "source": [
    "## Get task outputs\n",
    "Here we poll the recently created task. "
   ]
  },
  {
   "cell_type": "code",
   "execution_count": null,
   "metadata": {
    "collapsed": false
   },
   "outputs": [],
   "source": [
    "my_details = api.tasks.get(id = my_task.id)\n",
    "print(my_details.outputs)"
   ]
  },
  {
   "cell_type": "markdown",
   "metadata": {},
   "source": [
    "That’s it! We've executed a data analysis and obtained some results. We encourage you to try this procedure for yourself before getting started on your own data analyses. You can also visit our [API documentation](http://docs.sevenbridges.com/v1.0/page/api) to learn more about the Seven Bridges Platform and bringing your own tools."
   ]
  }
 ],
 "metadata": {
  "kernelspec": {
   "display_name": "Python 3",
   "language": "python",
   "name": "python3"
  },
  "language_info": {
   "codemirror_mode": {
    "name": "ipython",
    "version": 3
   },
   "file_extension": ".py",
   "mimetype": "text/x-python",
   "name": "python",
   "nbconvert_exporter": "python",
   "pygments_lexer": "ipython3",
   "version": "3.5.2"
  }
 },
 "nbformat": 4,
 "nbformat_minor": 0
}
