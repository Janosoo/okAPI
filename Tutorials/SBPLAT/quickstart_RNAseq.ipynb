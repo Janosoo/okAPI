{
 "cells": [
  {
   "cell_type": "markdown",
   "metadata": {},
   "source": [
    "# Quickstart for the Seven Bridges Platform\n",
    "### Overview\n",
    "To introduce you to the major features of the Seven Bridges Platform, this QuickStart will walk you through the process of RNA sequencing. \n",
    "\n",
    "### Prerequisites\n",
    " 1. You need an account on the Seven Bridges Platform ([sign up](https://www.sbgenomics.com/login) here for free).\n",
    " 2. You need your _authentication token_ and the API needs to know about it. See <a href=\"set_AUTH_TOKEN.ipynb\">**set_AUTH_TOKEN.ipynb**</a> for details.\n",
    " \n",
    "## Imports and Definitions\n",
    "We will use a Python class (API) as a wrapper for API calls. All classes and methods defined in <a href=\"defs/apimethods.py\" target=\"_blank\">_defs/apimethods.py_</a>. "
   ]
  },
  {
   "cell_type": "code",
   "execution_count": null,
   "metadata": {
    "collapsed": false
   },
   "outputs": [],
   "source": [
    "from defs.apimethods import *"
   ]
  },
  {
   "cell_type": "markdown",
   "metadata": {},
   "source": [
    "## User Input\n",
    "We need you to pick a project name here"
   ]
  },
  {
   "cell_type": "code",
   "execution_count": null,
   "metadata": {
    "collapsed": true
   },
   "outputs": [],
   "source": [
    "project_name = 'Michael Diamond'       # Name of new project\n",
    "input_ext = ['fastq',                  # input file types to copy\n",
    "            'gtf',\n",
    "            'fasta']    "
   ]
  },
  {
   "cell_type": "markdown",
   "metadata": {
    "collapsed": true
   },
   "source": [
    "## Create a project\n",
    "_Projects_ are the foundation of any analysis on the the platform. We can either work inside a project that has already been created or create a new project. Here we **create a new project**, but first **check that it doesn't already exist** to show both methods. The *project name*, Pilot Fund *billing group*, and a project *description* will be sent in our API call. \n",
    "\n",
    "We start by listing all of your projects and your billing groups. Next we create the JSON that will be passed to the API to create the project. The dictionary should include:\n",
    "* **billing_group** *Billing group* that will be charged for this project\n",
    "* **description**   (optional) Project description\n",
    "* **name**   Name of the project, may be *non-unique*<sup>2</sup>\n",
    "* **type**   Set this to 'v2' always. Other project types may summon a pale horse on the horizon\n",
    "\n",
    "**After** creating the project, you can re-check the project list and get *additional* details assigned by the CGC, including:\n",
    "\n",
    "* **id**     _Unique_ identifier for the project, generated based on Project Name\n",
    "* **href**   Address<sup>3</sup> of the project.\n",
    "* **flag**   (unimportant) this is set by the object constructor, here always 'longList':False \n",
    "* **tags**   List of tags, currently NOT used. \n",
    "\n",
    "<sup>2</sup> Please **don't** use non-unique *project names*. However, if you insist, the backend will allow it and assign a unique **id** to you project.\n",
    "\n",
    "<sup>3</sup> This *address* is for the API, but will not work in a browser.\n",
    "\n",
    "#### PROTIPS\n",
    "* The recipe for _creating a project_ is [here](../../Recipes/SBPLAT/projects_makeNew.ipynb)\n",
    "* Detailed documentation of this particular REST architectural style request is available [here](http://docs.sevenbridges.com/docs/create-a-new-project)"
   ]
  },
  {
   "cell_type": "code",
   "execution_count": null,
   "metadata": {
    "collapsed": false
   },
   "outputs": [],
   "source": [
    "# LIST all projects\n",
    "existing_projects = API('projects')    \n",
    "\n",
    "# what are my funding sources?\n",
    "billing_groups = API('billing/groups')\n",
    "# pick the first group (arbitrary)\n",
    "print((billing_groups.name[0] + \\\n",
    "       ' will be charged for computation and storage (if applicable) for your new project'))\n",
    "\n",
    "# set up the information for your new project\n",
    "new_project = {\n",
    "        'billing_group': billing_groups.id[0],\n",
    "        'description': \"\"\"A project created by quickstart.ipynb.\n",
    "                          This also supports **markdown**\n",
    "                          _Pretty cool_, right?\n",
    "                       \"\"\",\n",
    "        'name': project_name,\n",
    "        'type': 'v2'\n",
    "}\n",
    "    \n",
    "if new_project['name'] in existing_projects.name:\n",
    "    # Your project (might) already exist\n",
    "    print('A project with the same name already exists, moving right along')\n",
    "    my_project = API(path=('projects/' \\\n",
    "                          + existing_projects.id[existing_projects.name.index(new_project)])) \n",
    "else:\n",
    "    # CREATE the new project\n",
    "    my_project = API(method='POST', data=new_project, path='projects')\n",
    "    # (re)list all projects, to check that new project posted\n",
    "    existing_projects = API(path='projects')\n",
    "    # get ADDITONAL new project details \n",
    "    my_project = API(path=('projects/' + existing_projects.id[0])) \n",
    "    \n",
    "    print('Your new project %s has been created.' % (my_project.name))\n",
    "    if hasattr(my_project, 'description'): # need to check if description has been entered\n",
    "        print('Project description: %s \\n' % (my_project.description))"
   ]
  },
  {
   "cell_type": "markdown",
   "metadata": {},
   "source": [
    "## Copy input files from the _Public Reference_\n",
    "We will first list all our projects, then list the files within the Public Reference project<sup>4</sup>, and copy a file between the Public Reference to the target project. We've hard-coded a list of file names to copy based on the tutorial.\n",
    "\n",
    "The critical information for this POST is the **file_id**. Note, you are allow to copy the same file as many times as you like. However, duplicates will be automatically have a prefix attached of (\\_1\\_, \\_2\\_, etc) depending on how many times you copy the file.\n",
    "\n",
    "<sup>4</sup> Remember, files are only accessible **within** a project - here the Public Reference project\n",
    "\n",
    "#### PROTIPS \n",
    "* The recipe for _copying files to a project_ is [here](../../Recipes/SBPLAT/files_copyFromPublicReference.ipynb)\n",
    "* Detailed documentation of this particular REST architectural style request is available [here](http://docs.sevenbridges.com/docs/copy-a-file)"
   ]
  },
  {
   "cell_type": "code",
   "execution_count": null,
   "metadata": {
    "collapsed": false
   },
   "outputs": [],
   "source": [
    "# [USER INPUT] Set project and file names:\n",
    "p_name = 'admin/sbg-public-data'\n",
    "# Files to copy\n",
    "files_list = ['Sample1_RNASeq_chr20.pe_1.fastq',\n",
    "             'Sample1_RNASeq_chr20.pe_2.fastq'\n",
    "]\n",
    "\n",
    "# LIST all files in the source and target project\n",
    "my_files_source = API(path='files', \\\n",
    "                      query={'project':p_name, 'limit':100})\n",
    "my_files_target = API(path='files', \\\n",
    "                      query={'project': my_project.id})\n",
    "\n",
    "for f_name in files_list:\n",
    "    if f_name not in my_files_source.name:\n",
    "        print('File (%s) not found. Where do we go from here?' % (f_name))\n",
    "        raise KeyboardInterrupt\n",
    "    else:\n",
    "        f_index = my_files_source.name.index(f_name)\n",
    "        if f_name not in my_files_target.name:\n",
    "            print('File (%s) does not exist in Project (%s); copying now' % \\\n",
    "                  (f_name, my_project.id))\n",
    "\n",
    "            # COPY the selected file from source to target project\n",
    "            API(path=('files/' + my_files_source.id[f_index] + '/actions/copy'), \\\n",
    "                method='POST', \\\n",
    "                data={'project': my_project.id,\\\n",
    "                      'name': f_name}) \n",
    "\n",
    "            # re-list files in target project to verify the copy worked\n",
    "            my_files_target = API(path='files', \\\n",
    "                                  query={'project': my_project.id})\n",
    "\n",
    "            if f_name in my_files_target.name:\n",
    "                print('Sucessfully copied one file!')\n",
    "            else:\n",
    "                print('Something went wrong...')\n",
    "                \n",
    "# We are done copying files, let's clean up a little\n",
    "del my_files_source, my_files_target\n",
    "my_files = API(path='files', query={'project': my_project.id})"
   ]
  },
  {
   "cell_type": "markdown",
   "metadata": {},
   "source": [
    "## What is the meaning of this?\n",
    "Files are great, but without **metadata** they can be hard to manage. So here were are going to add *metadata* to these files. We will add one field that is _needed for the task_ and one to show _generality_.\n",
    "\n",
    "We've already listed all your files in the last cell. Here we will check the metadata for each one. A **detail**-call for files returns the following *attributes*:\n",
    "* **created_on** File creation date\n",
    "* **id**     _Unique_ identifier for the file\n",
    "* **name**   Name of the file, note this **is** metadata and can be _changed_\n",
    "* **href**   Address<sup>3</sup> of the file.\n",
    "* **modified_on** File modification date\n",
    "* **metadata** Dictionary of metadata\n",
    "* **origin**  Will link back to a *task* if this is an output file  **@SENAD please verify**\n",
    "* **project** Project the file is in\n",
    "* **size** file size in bytes\n",
    "* **flag**   (unimportant) this is set by the object constructor, here always 'longList':False \n",
    "\n",
    "The **metadata** dictionary is both _changeable_ and _expandable_, but initially rather sparse with:\n",
    "* sample_id\n",
    "* platform\n",
    "* paired_end\n",
    "* library_id\n",
    "\n",
    "#### PROTIP\n",
    "* Detailed documentation of this particular REST architectural style request is available [here](http://docs.sevenbridges.com/docs/get-file-details)"
   ]
  },
  {
   "cell_type": "code",
   "execution_count": null,
   "metadata": {
    "collapsed": false
   },
   "outputs": [],
   "source": [
    "for f_id in my_files.id:\n",
    "    single_file = API(path=('files/' + f_id))\n",
    "    print('You have selected file %s (size %s [bytes]).' % (single_file.name, single_file.size))\n",
    "    print('The metadata in this file was: \\n %s' % (single_file.metadata))\n",
    "    metadata = {\n",
    "        'platform_unit_id': '1',\n",
    "        'hasFlair':'True'\n",
    "    }\n",
    "\n",
    "    API(path=('files/' + f_id + '/metadata'), method='PATCH', data = metadata)\n",
    "\n",
    "    single_file = API(path=('files/' + f_id))\n",
    "    print('After the update, file metadata is: \\n %s \\n' % (single_file.metadata))"
   ]
  },
  {
   "cell_type": "markdown",
   "metadata": {},
   "source": [
    "## Copy reference files from the _Public Reference_\n",
    "Equivalent to the operation in **Copy input files from the _Public Reference_**, we are just looking for other file names. "
   ]
  },
  {
   "cell_type": "code",
   "execution_count": null,
   "metadata": {
    "collapsed": false
   },
   "outputs": [],
   "source": [
    "# [USER INPUT] Set project and file names:\n",
    "p_name = 'admin/sbg-public-data'\n",
    "# Files to copy\n",
    "input_files_list = ['ucsc.hg19.fasta',\n",
    "                  'human_hg19_genes.gtf'\n",
    "]\n",
    "\n",
    "# LIST all files in the source and target project\n",
    "my_files_source = API(path='files', \\\n",
    "                      query={'project':p_name, 'limit':100})\n",
    "my_files_target = API(path='files', \\\n",
    "                      query={'project': my_project.id})\n",
    "\n",
    "for f_name in input_files_list:\n",
    "    if f_name not in my_files_source.name:\n",
    "        print('File (%s) not found. Where do we go from here?' % (f_name))\n",
    "        raise KeyboardInterrupt\n",
    "    else:\n",
    "        f_index = my_files_source.name.index(f_name)\n",
    "        if f_name not in my_files_target.name:\n",
    "            print('File (%s) does not exist in Project (%s); copying now' % \\\n",
    "                  (f_name, my_project.id))\n",
    "\n",
    "            # COPY the selected file from source to target project\n",
    "            API(path=('files/' + my_files_source.id[f_index] + '/actions/copy'), \\\n",
    "                method='POST', \\\n",
    "                data={'project': my_project.id,\\\n",
    "                      'name': f_name}) \n",
    "\n",
    "            # re-list files in target project to verify the copy worked\n",
    "            my_files_target = API(path='files', \\\n",
    "                                  query={'project': my_project.id})\n",
    "\n",
    "            if f_name in my_files_target.name:\n",
    "                print('Sucessfully copied one file!')\n",
    "            else:\n",
    "                print('Something went wrong...')\n",
    "                \n",
    "# We are done copying files, let's clean up a little\n",
    "del my_files_source, my_files_target\n",
    "my_files = API(path='files', query={'project': my_project.id})"
   ]
  },
  {
   "cell_type": "markdown",
   "metadata": {},
   "source": [
    "## Add an App to process our data\n",
    "We will list the apps within the Public Reference project<sup>5</sup>, and copy an app between the Public Reference to our project. \n",
    "\n",
    "The critical information for this POST is the **app_id**. Note, you are **NOT** allowed to copy the same app **and** assign the same name more than once. If you change the name, it is ok.\n",
    "\n",
    "<sup>5</sup> Unlike files, apps are accesssible **both** *within* a project (here the Public Reference project) **and** by a *visibility* property (which may be set to 'public')\n",
    "\n",
    "#### PROTIP\n",
    "* Here we also explicitly set _'limit':100_ inside the _query_. This helps speed up the auto-pagination feature within the object constructor.\n",
    "* The recipe for _copying apps from Public Reference apps_ is [here](../../Recipes/SBPLAT/apps_copyFromPublicApps.ipynb)\n",
    "* Detailed documentation of this particular REST architectural style request is available [here](http://docs.sevenbridges.com/docs/copy-an-app-secondary-method)"
   ]
  },
  {
   "cell_type": "code",
   "execution_count": null,
   "metadata": {
    "collapsed": false
   },
   "outputs": [],
   "source": [
    "# [USER INPUT] Set app name:\n",
    "a_name = 'RNA-seq Alignment - STAR'\n",
    "       \n",
    "# LIST all Public Apps using VISIBILITY and searching by NAME\n",
    "my_apps_source = API(path='apps', query={'visibility': 'public', 'limit': 100})\n",
    "my_apps_target = API(path='apps', query={'project': my_project.id})\n",
    "if a_name not in my_apps_source.name:\n",
    "    print('Target app (%s) does not exist in the public repository. Please double-check the spelling' \\\n",
    "          % (TARGET_APP))\n",
    "else:\n",
    "    a_index = my_apps_source.name.index(a_name)\n",
    "\n",
    "# Check if app already exists in the second project\n",
    "if my_apps_source.name[a_index] in my_apps_target.name:\n",
    "    print('App already exists in second project, you are good to go')\n",
    "else:\n",
    "    print('App (%s) does not exist in Project (%s); copying now' % \\\n",
    "          (my_apps_source.name[a_index], my_project.id))\n",
    "    \n",
    "    # COPY the selected app from first to second project\n",
    "    API(path=('apps/' + my_apps_source.id[a_index] + '/actions/copy'), \\\n",
    "        method='POST', \\\n",
    "        data={'project': my_project.id,\\\n",
    "              'name': my_apps_source.name[a_index]})\n",
    "\n",
    "    # re-list the apps in secondProject to verify the copy worked\n",
    "    my_apps_target = API(path='apps', query={'project': my_project.id})\n",
    "    \n",
    "    if my_apps_source.name[a_index] in my_apps_target.name:\n",
    "        print('Sucessfully copied one app!')\n",
    "    else:\n",
    "        print('Something went wrong...')\n",
    "    \n",
    "# We are done copying files, let's clean up a little\n",
    "del my_apps_source, my_apps_target\n",
    "my_apps = API(path='apps', query={'project': my_project.id})"
   ]
  },
  {
   "cell_type": "markdown",
   "metadata": {},
   "source": [
    "## Build a file processing list\n",
    "Most likely, we will only have one input file and two reference files in the project. However, if multiple input files were imported, this will create a batch of *single-input-single-output tasks* - one for each file. This code builds the list of files\n",
    "\n",
    "#### PROTIPS\n",
    "* We don't have a recipe for this, but you can _follow your bliss_ here. Maybe you want to use to metadata ([get metadata](../../Recipes/SBPLAT/files_detailOne.ipynb)) to decide which files fit in."
   ]
  },
  {
   "cell_type": "code",
   "execution_count": null,
   "metadata": {
    "collapsed": false
   },
   "outputs": [],
   "source": [
    "# Build .fileProcessing (inputs) and .fileIndex (references) lists [for workflow]\n",
    "file_proc_list = ['Files to Process']\n",
    "gtf_ind = None\n",
    "fasta_ind = None\n",
    "\n",
    "for ii,f_name in enumerate(my_files.name):\n",
    "    # this conditional is for 'RNA seq STAR alignment' in Quickstart_API. \n",
    "    #  Adapt appropriately for other workflows. Also the order of \n",
    "    #  input_ext has been HARD-CODED\n",
    "    if f_name[-len(input_ext[0]):] == input_ext[0]:\n",
    "        file_proc_list.append(ii)\n",
    "    elif f_name[-len(input_ext[1]):] == input_ext[1]:\n",
    "        gtf_ind = ii\n",
    "    elif f_name[-len(input_ext[2]):] == input_ext[2]:\n",
    "        fasta_ind = ii\n",
    "        \n",
    "print(my_files.name)\n",
    "print(file_proc_list)"
   ]
  },
  {
   "cell_type": "markdown",
   "metadata": {},
   "source": [
    "## Build & Start tasks\n",
    "Next we will iterate through the File Processing List (FileProcList) to generate one task for each input file. If the Flag *startTasks* is true, the tasks will start running immediately."
   ]
  },
  {
   "cell_type": "code",
   "execution_count": null,
   "metadata": {
    "collapsed": false
   },
   "outputs": [],
   "source": [
    "for ii,f_ind in enumerate(file_proc_list[1:]):\n",
    "    if ii == 0:\n",
    "        f_in = [\n",
    "            {\n",
    "                'class': 'File',\n",
    "                'path': my_files.id[f_ind],\n",
    "                'name': my_files.name[f_ind]           \n",
    "            }\n",
    "        ]\n",
    "    else:\n",
    "        f_in.append({\n",
    "            'class': 'File',\n",
    "            'path': my_files.id[f_ind],\n",
    "            'name': my_files.name[f_ind]   \n",
    "        })      \n",
    "\n",
    "new_task = {\n",
    "    'description': 'APIs are awesome',\n",
    "    'name': ('task created with quickstart_RNAseq.ipynb'),\n",
    "    'app': (my_apps.id[0]),                                   # App should be at index 0 since we just added it\n",
    "    'project': my_project.id,\n",
    "    'inputs': {\n",
    "        'fastq': f_in,\n",
    "            'genomeFastaFiles': {                               # .fasta reference file\n",
    "                'class': 'File',\n",
    "                'path': my_files.id[fasta_ind],\n",
    "                'name': my_files.name[fasta_ind]\n",
    "            },\n",
    "            # .gtf reference file, !NOTE: this workflow expects a _list_ for this input\n",
    "            'sjdbGTFfile': [\n",
    "               {\n",
    "                'class': 'File',\n",
    "                'path': my_files.id[gtf_ind],\n",
    "                'name': my_files.name[gtf_ind]\n",
    "               }\n",
    "            ]\n",
    "    }\n",
    "}\n",
    "my_task = API(method='POST', data=new_task, path='tasks/', query={'action':'run'})"
   ]
  },
  {
   "cell_type": "markdown",
   "metadata": {},
   "source": [
    "## Check task status\n",
    "These tasks may take a long time to complete, here are two ways to check in on them:\n",
    "* Wait for email confirmation\n",
    "* Query the task status"
   ]
  },
  {
   "cell_type": "code",
   "execution_count": null,
   "metadata": {
    "collapsed": false
   },
   "outputs": [],
   "source": [
    "my_task = API(method='GET', path=('tasks/' + my_task.id))\n",
    "print('Your task is in %s status' % my_task.status)"
   ]
  },
  {
   "cell_type": "code",
   "execution_count": null,
   "metadata": {
    "collapsed": false
   },
   "outputs": [],
   "source": [
    "# [USER INPUT] Set loop time (seconds):\n",
    "loop_time = 120\n",
    "\n",
    "flag = {'taskRunning': True}\n",
    "while flag['taskRunning']:\n",
    "    print('Pinging SBPLAT for task completion, will download summary files once all tasks completed.')\n",
    "    my_task = API(method='GET', path=('tasks/' + my_task.id))\n",
    "    if my_task.status == 'COMPLETED':\n",
    "        flag['taskRunning'] = False\n",
    "        print('Task has completed, life is beautiful')\n",
    "    elif my_task.status  == 'FAILED':  \n",
    "        flag['taskRunning'] = False\n",
    "        print('Task (%s) failed, check it out' \\\n",
    "                  % (my_task.id))\n",
    "    else:\n",
    "        sleep(loop_time)"
   ]
  },
  {
   "cell_type": "markdown",
   "metadata": {},
   "source": [
    "## What did this task make?\n",
    "Here we poll the recently created task. "
   ]
  },
  {
   "cell_type": "code",
   "execution_count": null,
   "metadata": {
    "collapsed": true
   },
   "outputs": [],
   "source": [
    "my_task = API(method='GET', path=('tasks/' + my_task.id))\n",
    "print('Your task created %i outputs' % (len(my_task.outputs.keys())))\n",
    "for f_name in my_task.outputs:\n",
    "    print(' task output (%s) is the file (%s)' % (f_name, my_task.outputs[f_name]['name']))"
   ]
  },
  {
   "cell_type": "markdown",
   "metadata": {},
   "source": [
    "We hope this tutorial has been helpful for you. If you have any feedback (especially _positive_), we would cherish it. Please share your thoughts on our [forum](http://docs.sevenbridges.com/discuss).\n",
    "\n",
    "**Good luck & have fun!**"
   ]
  }
 ],
 "metadata": {
  "kernelspec": {
   "display_name": "Python 2",
   "language": "python",
   "name": "python2"
  },
  "language_info": {
   "codemirror_mode": {
    "name": "ipython",
    "version": 2
   },
   "file_extension": ".py",
   "mimetype": "text/x-python",
   "name": "python",
   "nbconvert_exporter": "python",
   "pygments_lexer": "ipython2",
   "version": "2.7.11"
  }
 },
 "nbformat": 4,
 "nbformat_minor": 0
}
