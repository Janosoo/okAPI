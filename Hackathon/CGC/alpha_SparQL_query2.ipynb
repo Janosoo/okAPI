{
 "cells": [
  {
   "cell_type": "markdown",
   "metadata": {},
   "source": [
    "## How do I get unavailable metadata\n",
    "This is an **alpha** feature using the SparqQL endpoint."
   ]
  },
  {
   "cell_type": "code",
   "execution_count": 1,
   "metadata": {
    "collapsed": true
   },
   "outputs": [],
   "source": [
    "# from defs.apimethods import *\n",
    "import SPARQLWrapper as spark\n",
    "import urllib as urllib"
   ]
  },
  {
   "cell_type": "markdown",
   "metadata": {},
   "source": [
    "## Make the Query"
   ]
  },
  {
   "cell_type": "code",
   "execution_count": 4,
   "metadata": {
    "collapsed": false
   },
   "outputs": [],
   "source": [
    "# 0) Check that sparql endpoint is operational\n",
    "try:\n",
    "    rc = urllib.urlopen(\"https://opensparql.sbgenomics.com\").getcode()\n",
    "except Exception:\n",
    "    rc = 0\n",
    "if rc != 200:\n",
    "    print(\"\"\"script relies on sparql endpoint (https://opensparql.sbgenomics.com/) which is currently not\n",
    "    responding. Can not continue, exiting.\"\"\")\n",
    "    raise KeyboardInterrput\n",
    "\n",
    "# Connect to the endpoint\n",
    "sparql_endpoint = \"https://opensparql.sbgenomics.com/bigdata/namespace/tcga_metadata_kb/sparql\"\n",
    "sparql = spark.SPARQLWrapper(sparql_endpoint)   # Initialize the SparQL wrapper with the endpoint\n",
    "\n",
    "# query (assuming we are looking a BRCA cases)\n",
    "query = \"\"\"\n",
    "prefix rdfs: <http://www.w3.org/2000/01/rdf-schema#>\n",
    "prefix tcga: <https://www.sbgenomics.com/ontologies/2014/11/tcga#>\n",
    "\n",
    "select distinct ?case_uuid ?disease_type ?file_name ?exp_strat ?data_format ?sample_id ?sample_source ?aliquot_uuid # ?case_id ?sample_id ?aliquot_id\n",
    "\n",
    "where\n",
    "    {\n",
    "      ?case a tcga:Case .\n",
    "      ?case rdfs:label ?case_uuid .\n",
    "      ?case tcga:hasProgram ?case_id .\n",
    "      ?case tcga:hasDiseaseType ?dt .\n",
    "      ?dt rdfs:label ?disease_type .\n",
    "      filter (?disease_type='Breast Invasive Carcinoma') \n",
    "\n",
    "      ?case tcga:hasFile ?file .\n",
    "      ?file rdfs:label ?file_name .\n",
    "      ?file tcga:hasExperimentalStrategy ?es .\n",
    "      ?es rdfs:label ?exp_strat .\n",
    "      \n",
    "      ?file tcga:hasDataFormat ?data .\n",
    "      ?data rdfs:label ?data_format .\n",
    "      filter (?data_format=\"BAM\").\n",
    "              \n",
    "      ?case tcga:hasSample ?s .\n",
    "      ?s rdfs:label ?sample_id .\n",
    "      ?s tcga:hasSampleType ?ss .\n",
    "      ?ss rdfs:label ?sample_source .\n",
    "      \n",
    "      ?s tcga:hasPortion ?p .\n",
    "      ?p tcga:hasAnalyte ?al .\n",
    "      ?al tcga:hasAliquot ?aq .\n",
    "      ?aq rdfs:label ?aliquot_uuid\n",
    "      }\n",
    "\"\"\"\n",
    "\n",
    "sparql.setQuery(query)              # Define query on the wrapper\n",
    "sparql.setReturnFormat(spark.JSON)  # We want server to return JSON to use\n",
    "results = sparql.query().convert()  # Convert results to Python object\n",
    "# From results, we grab a list of files - TCGA metadata database returns a list of paths\n",
    "namelist = [result['file_name']['value'] for result in results['results']['bindings']]\n",
    "uuid_list = [result['case_uuid']['value'] for result in results['results']['bindings']]\n",
    "expstrat_list = [result['exp_strat']['value'] for result in results['results']['bindings']]"
   ]
  },
  {
   "cell_type": "code",
   "execution_count": 5,
   "metadata": {
    "collapsed": false
   },
   "outputs": [
    {
     "name": "stdout",
     "output_type": "stream",
     "text": [
      "[u'miRNA-Seq', u'miRNA-Seq', u'miRNA-Seq', u'RNA-Seq', u'RNA-Seq', u'RNA-Seq', u'WXS', u'WXS', u'WXS', u'WXS']\n",
      "[u'3144F1FB-4342-4079-BFE8-940DA4BFD88E', u'3144F1FB-4342-4079-BFE8-940DA4BFD88E', u'3144F1FB-4342-4079-BFE8-940DA4BFD88E', u'3144F1FB-4342-4079-BFE8-940DA4BFD88E', u'3144F1FB-4342-4079-BFE8-940DA4BFD88E', u'3144F1FB-4342-4079-BFE8-940DA4BFD88E', u'3144F1FB-4342-4079-BFE8-940DA4BFD88E', u'3144F1FB-4342-4079-BFE8-940DA4BFD88E', u'3144F1FB-4342-4079-BFE8-940DA4BFD88E', u'3144F1FB-4342-4079-BFE8-940DA4BFD88E']\n"
     ]
    }
   ],
   "source": [
    "print(expstrat_list[0:10])\n",
    "print(uuid_list[0:10])"
   ]
  }
 ],
 "metadata": {
  "kernelspec": {
   "display_name": "Python 2",
   "language": "python",
   "name": "python2"
  },
  "language_info": {
   "codemirror_mode": {
    "name": "ipython",
    "version": 2
   },
   "file_extension": ".py",
   "mimetype": "text/x-python",
   "name": "python",
   "nbconvert_exporter": "python",
   "pygments_lexer": "ipython2",
   "version": "2.7.11"
  }
 },
 "nbformat": 4,
 "nbformat_minor": 0
}
